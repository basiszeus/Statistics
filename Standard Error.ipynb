{
 "cells": [
  {
   "cell_type": "code",
   "execution_count": 118,
   "id": "41dbc814",
   "metadata": {},
   "outputs": [],
   "source": [
    "import math"
   ]
  },
  {
   "cell_type": "code",
   "execution_count": 119,
   "id": "c7e3b2b3",
   "metadata": {},
   "outputs": [],
   "source": [
    "X = (0,10,20,30,40,50,60,70,80,90,100,110,120,130,140,150,160,170,180,190,200)\n",
    "Y = (0,50,100,150,200)"
   ]
  },
  {
   "cell_type": "markdown",
   "id": "63d99d10",
   "metadata": {},
   "source": [
    "# Mean"
   ]
  },
  {
   "cell_type": "code",
   "execution_count": 120,
   "id": "26cb11e1",
   "metadata": {},
   "outputs": [],
   "source": [
    "def mean(*args):\n",
    "    val_sum = sum(*args)\n",
    "    return val_sum/len(*args)"
   ]
  },
  {
   "cell_type": "code",
   "execution_count": 121,
   "id": "d3673b16",
   "metadata": {},
   "outputs": [
    {
     "data": {
      "text/plain": [
       "100.0"
      ]
     },
     "execution_count": 121,
     "metadata": {},
     "output_type": "execute_result"
    }
   ],
   "source": [
    "mean(X)"
   ]
  },
  {
   "cell_type": "code",
   "execution_count": 122,
   "id": "f5f621a8",
   "metadata": {},
   "outputs": [
    {
     "data": {
      "text/plain": [
       "100.0"
      ]
     },
     "execution_count": 122,
     "metadata": {},
     "output_type": "execute_result"
    }
   ],
   "source": [
    "mean(Y)"
   ]
  },
  {
   "cell_type": "markdown",
   "id": "02bbbc42",
   "metadata": {},
   "source": [
    "# Variance"
   ]
  },
  {
   "cell_type": "code",
   "execution_count": 123,
   "id": "d98b2d5c",
   "metadata": {},
   "outputs": [],
   "source": [
    "def variance (x):\n",
    "    MV = mean(x)\n",
    "    numerator = 0\n",
    "    for i in x:\n",
    "        numerator += (i - MV)**2\n",
    "    denominator = len(x)-1\n",
    "    return numerator / denominator"
   ]
  },
  {
   "cell_type": "code",
   "execution_count": 124,
   "id": "5b13e653",
   "metadata": {},
   "outputs": [
    {
     "data": {
      "text/plain": [
       "3850.0"
      ]
     },
     "execution_count": 124,
     "metadata": {},
     "output_type": "execute_result"
    }
   ],
   "source": [
    "variance (X)"
   ]
  },
  {
   "cell_type": "code",
   "execution_count": 125,
   "id": "e65feebb",
   "metadata": {},
   "outputs": [
    {
     "data": {
      "text/plain": [
       "6250.0"
      ]
     },
     "execution_count": 125,
     "metadata": {},
     "output_type": "execute_result"
    }
   ],
   "source": [
    "variance (Y)"
   ]
  },
  {
   "cell_type": "markdown",
   "id": "e09b29fc",
   "metadata": {},
   "source": [
    "# STD"
   ]
  },
  {
   "cell_type": "code",
   "execution_count": 126,
   "id": "510ab07e",
   "metadata": {},
   "outputs": [],
   "source": [
    "def standard_deviation(x):\n",
    "    return math.sqrt(variance(x))"
   ]
  },
  {
   "cell_type": "code",
   "execution_count": 127,
   "id": "3acc0cde",
   "metadata": {},
   "outputs": [
    {
     "data": {
      "text/plain": [
       "62.048368229954285"
      ]
     },
     "execution_count": 127,
     "metadata": {},
     "output_type": "execute_result"
    }
   ],
   "source": [
    "standard_deviation(X)"
   ]
  },
  {
   "cell_type": "code",
   "execution_count": 128,
   "id": "0fdbd4e8",
   "metadata": {},
   "outputs": [
    {
     "data": {
      "text/plain": [
       "79.05694150420949"
      ]
     },
     "execution_count": 128,
     "metadata": {},
     "output_type": "execute_result"
    }
   ],
   "source": [
    "standard_deviation(Y)"
   ]
  },
  {
   "cell_type": "code",
   "execution_count": 129,
   "id": "e1538027",
   "metadata": {},
   "outputs": [],
   "source": [
    "def standard_error(x):\n",
    "    return standard_deviation(x)/math.sqrt(len(x))"
   ]
  },
  {
   "cell_type": "code",
   "execution_count": 130,
   "id": "8deb6bb8",
   "metadata": {},
   "outputs": [
    {
     "data": {
      "text/plain": [
       "13.5400640077266"
      ]
     },
     "execution_count": 130,
     "metadata": {},
     "output_type": "execute_result"
    }
   ],
   "source": [
    "standard_error(X)"
   ]
  },
  {
   "cell_type": "code",
   "execution_count": 131,
   "id": "0c454a20",
   "metadata": {},
   "outputs": [
    {
     "data": {
      "text/plain": [
       "35.35533905932738"
      ]
     },
     "execution_count": 131,
     "metadata": {},
     "output_type": "execute_result"
    }
   ],
   "source": [
    "standard_error(Y)"
   ]
  },
  {
   "cell_type": "code",
   "execution_count": null,
   "id": "fc77264b",
   "metadata": {},
   "outputs": [],
   "source": []
  }
 ],
 "metadata": {
  "kernelspec": {
   "display_name": "Python 3 (ipykernel)",
   "language": "python",
   "name": "python3"
  },
  "language_info": {
   "codemirror_mode": {
    "name": "ipython",
    "version": 3
   },
   "file_extension": ".py",
   "mimetype": "text/x-python",
   "name": "python",
   "nbconvert_exporter": "python",
   "pygments_lexer": "ipython3",
   "version": "3.10.4"
  }
 },
 "nbformat": 4,
 "nbformat_minor": 5
}
