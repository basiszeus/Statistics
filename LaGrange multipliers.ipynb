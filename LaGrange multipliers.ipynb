{
 "cells": [
  {
   "cell_type": "markdown",
   "id": "7c2fd373",
   "metadata": {},
   "source": [
    "<center><h1 style=\"background-color: #C6F3CD; border-radius: 10px; color: #FFFFFF; padding: 5px;\">\n",
    "LaGrange multipliers\n",
    "</h1><center/>"
   ]
  },
  {
   "cell_type": "markdown",
   "id": "bdfa8b4c",
   "metadata": {},
   "source": [
    "**Link to the article** : https://ai.plainenglish.io/lagrange-multiplier-in-industry-c2fb07c532a0?sk=05039960dd0a67e9048a5dd0ec7fe049"
   ]
  },
  {
   "cell_type": "code",
   "execution_count": 1,
   "id": "74e975ca",
   "metadata": {},
   "outputs": [],
   "source": [
    "import sympy as sp"
   ]
  },
  {
   "cell_type": "code",
   "execution_count": 2,
   "id": "c55f2238",
   "metadata": {},
   "outputs": [
    {
     "name": "stdout",
     "output_type": "stream",
     "text": [
      "Optimal x: 60\n",
      "Optimal y: 30\n",
      "Optimal λ: 240\n",
      "Cost at optimal solution: 10800\n",
      "Cost at (x=64, y=26): 10896\n"
     ]
    }
   ],
   "source": [
    "# Define the variables\n",
    "x, y, λ = sp.symbols('x y λ')\n",
    "\n",
    "# Define the cost function\n",
    "C = 2*x**2 + 4*y**2\n",
    "\n",
    "# Define the constraint\n",
    "constraint = x + y - 90\n",
    "\n",
    "# Define the Lagrangian\n",
    "L = C - λ * constraint\n",
    "\n",
    "# Compute the partial derivatives\n",
    "dL_dx = sp.diff(L, x)\n",
    "dL_dy = sp.diff(L, y)\n",
    "dL_dλ = sp.diff(L, λ)\n",
    "\n",
    "# Solve the system of equations\n",
    "solutions = sp.solve((dL_dx, dL_dy, dL_dλ), (x, y, λ))\n",
    "\n",
    "# Print the solutions\n",
    "x_opt, y_opt, λ_opt = solutions[x], solutions[y], solutions[λ]\n",
    "print(f\"Optimal x: {x_opt}\")\n",
    "print(f\"Optimal y: {y_opt}\")\n",
    "print(f\"Optimal λ: {λ_opt}\")\n",
    "\n",
    "# Validate the cost at the optimal solution\n",
    "cost_opt = C.subs({x: x_opt, y: y_opt})\n",
    "print(f\"Cost at optimal solution: {cost_opt}\")\n",
    "\n",
    "# Compare with another set of quantities\n",
    "x_test, y_test = 64, 26\n",
    "cost_test = C.subs({x: x_test, y: y_test})\n",
    "print(f\"Cost at (x=64, y=26): {cost_test}\")\n"
   ]
  }
 ],
 "metadata": {
  "kernelspec": {
   "display_name": "Python 3 (ipykernel)",
   "language": "python",
   "name": "python3"
  },
  "language_info": {
   "codemirror_mode": {
    "name": "ipython",
    "version": 3
   },
   "file_extension": ".py",
   "mimetype": "text/x-python",
   "name": "python",
   "nbconvert_exporter": "python",
   "pygments_lexer": "ipython3",
   "version": "3.11.5"
  }
 },
 "nbformat": 4,
 "nbformat_minor": 5
}
