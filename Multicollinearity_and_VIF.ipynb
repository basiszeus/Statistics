{
 "cells": [
  {
   "cell_type": "markdown",
   "id": "7c2fd373",
   "metadata": {},
   "source": [
    "<center><h1 style=\"background-color: #C6F3CD; border-radius: 10px; color: #FFFFFF; padding: 5px;\">\n",
    "Multicollinearity\n",
    "</h1><center/>"
   ]
  },
  {
   "cell_type": "markdown",
   "id": "bdfa8b4c",
   "metadata": {},
   "source": [
    "**Link to the article** :"
   ]
  },
  {
   "cell_type": "code",
   "execution_count": 1,
   "id": "7a89e17f-900f-4f11-b06f-e3a9298acf7b",
   "metadata": {},
   "outputs": [],
   "source": [
    "import numpy as np\n",
    "import pandas as pd\n",
    "import matplotlib.pyplot as plt"
   ]
  },
  {
   "cell_type": "code",
   "execution_count": 2,
   "id": "eef64054",
   "metadata": {},
   "outputs": [],
   "source": [
    "np.random.seed(0)\n",
    "n = 200\n",
    "\n",
    "size = np.random.normal(100, 12, n)               # size of the house\n",
    "rooms = size / 20 + np.random.normal(0, 0.2, n)   # almost a linear function of size\n",
    "age = np.random.normal(30, 6, n)                  # unrelated variable"
   ]
  },
  {
   "cell_type": "code",
   "execution_count": 3,
   "id": "4b1ef89b-8ae6-491a-a7ed-e70a354f26bf",
   "metadata": {},
   "outputs": [
    {
     "data": {
      "image/png": "[encoded data removed]",
      "text/plain": [
       "<Figure size 500x400 with 2 Axes>"
      ]
     },
     "metadata": {},
     "output_type": "display_data"
    }
   ],
   "source": [
    "df = pd.DataFrame({\"size\": size, \"rooms\": rooms, \"age\": age})\n",
    "corr = df.corr()\n",
    "fig, ax = plt.subplots(figsize=(5, 4))\n",
    "im = ax.imshow(corr.values, vmin=-1, vmax=1)\n",
    "\n",
    "# axis ticks\n",
    "features = corr.columns\n",
    "ax.set_xticks(range(len(features)))\n",
    "ax.set_yticks(range(len(features)))\n",
    "ax.set_xticklabels(features)\n",
    "ax.set_yticklabels(features)\n",
    "\n",
    "# annotate cells\n",
    "for i in range(len(features)):\n",
    "    for j in range(len(features)):\n",
    "        ax.text(j, i, f\"{corr.values[i, j]:.2f}\", ha=\"center\", va=\"center\")\n",
    "\n",
    "fig.colorbar(im, ax=ax)\n",
    "ax.set_title(\"Correlation Heatmap\")\n",
    "plt.tight_layout()\n",
    "plt.show()"
   ]
  },
  {
   "cell_type": "code",
   "execution_count": 4,
   "id": "ca3e2ab0-dc0d-4bba-b4f2-7bb424aaff9f",
   "metadata": {},
   "outputs": [],
   "source": [
    "from statsmodels.stats.outliers_influence import variance_inflation_factor\n",
    "import statsmodels.api as sm"
   ]
  },
  {
   "cell_type": "code",
   "execution_count": 7,
   "id": "493219eb-82bd-4b9c-a862-4c86f7d2ca2c",
   "metadata": {},
   "outputs": [
    {
     "data": {
      "text/html": [
       "<div>\n",
       "<style scoped>\n",
       "    .dataframe tbody tr th:only-of-type {\n",
       "        vertical-align: middle;\n",
       "    }\n",
       "\n",
       "    .dataframe tbody tr th {\n",
       "        vertical-align: top;\n",
       "    }\n",
       "\n",
       "    .dataframe thead th {\n",
       "        text-align: right;\n",
       "    }\n",
       "</style>\n",
       "<table border=\"1\" class=\"dataframe\">\n",
       "  <thead>\n",
       "    <tr style=\"text-align: right;\">\n",
       "      <th></th>\n",
       "      <th>const</th>\n",
       "      <th>size</th>\n",
       "      <th>rooms</th>\n",
       "      <th>age</th>\n",
       "    </tr>\n",
       "  </thead>\n",
       "  <tbody>\n",
       "    <tr>\n",
       "      <th>0</th>\n",
       "      <td>1.0</td>\n",
       "      <td>121.168628</td>\n",
       "      <td>5.984595</td>\n",
       "      <td>26.408076</td>\n",
       "    </tr>\n",
       "    <tr>\n",
       "      <th>1</th>\n",
       "      <td>1.0</td>\n",
       "      <td>104.801887</td>\n",
       "      <td>5.192218</td>\n",
       "      <td>23.304618</td>\n",
       "    </tr>\n",
       "    <tr>\n",
       "      <th>2</th>\n",
       "      <td>1.0</td>\n",
       "      <td>111.744856</td>\n",
       "      <td>5.807175</td>\n",
       "      <td>34.599979</td>\n",
       "    </tr>\n",
       "    <tr>\n",
       "      <th>3</th>\n",
       "      <td>1.0</td>\n",
       "      <td>126.890718</td>\n",
       "      <td>6.475589</td>\n",
       "      <td>32.137757</td>\n",
       "    </tr>\n",
       "    <tr>\n",
       "      <th>4</th>\n",
       "      <td>1.0</td>\n",
       "      <td>122.410696</td>\n",
       "      <td>6.248561</td>\n",
       "      <td>19.388769</td>\n",
       "    </tr>\n",
       "    <tr>\n",
       "      <th>...</th>\n",
       "      <td>...</td>\n",
       "      <td>...</td>\n",
       "      <td>...</td>\n",
       "      <td>...</td>\n",
       "    </tr>\n",
       "    <tr>\n",
       "      <th>195</th>\n",
       "      <td>1.0</td>\n",
       "      <td>97.941444</td>\n",
       "      <td>4.744774</td>\n",
       "      <td>32.275413</td>\n",
       "    </tr>\n",
       "    <tr>\n",
       "      <th>196</th>\n",
       "      <td>1.0</td>\n",
       "      <td>109.261487</td>\n",
       "      <td>5.634659</td>\n",
       "      <td>27.179803</td>\n",
       "    </tr>\n",
       "    <tr>\n",
       "      <th>197</th>\n",
       "      <td>1.0</td>\n",
       "      <td>109.882050</td>\n",
       "      <td>5.722323</td>\n",
       "      <td>28.699611</td>\n",
       "    </tr>\n",
       "    <tr>\n",
       "      <th>198</th>\n",
       "      <td>1.0</td>\n",
       "      <td>125.958831</td>\n",
       "      <td>6.591257</td>\n",
       "      <td>24.419061</td>\n",
       "    </tr>\n",
       "    <tr>\n",
       "      <th>199</th>\n",
       "      <td>1.0</td>\n",
       "      <td>116.038335</td>\n",
       "      <td>5.972427</td>\n",
       "      <td>28.928465</td>\n",
       "    </tr>\n",
       "  </tbody>\n",
       "</table>\n",
       "<p>200 rows × 4 columns</p>\n",
       "</div>"
      ],
      "text/plain": [
       "     const        size     rooms        age\n",
       "0      1.0  121.168628  5.984595  26.408076\n",
       "1      1.0  104.801887  5.192218  23.304618\n",
       "2      1.0  111.744856  5.807175  34.599979\n",
       "3      1.0  126.890718  6.475589  32.137757\n",
       "4      1.0  122.410696  6.248561  19.388769\n",
       "..     ...         ...       ...        ...\n",
       "195    1.0   97.941444  4.744774  32.275413\n",
       "196    1.0  109.261487  5.634659  27.179803\n",
       "197    1.0  109.882050  5.722323  28.699611\n",
       "198    1.0  125.958831  6.591257  24.419061\n",
       "199    1.0  116.038335  5.972427  28.928465\n",
       "\n",
       "[200 rows x 4 columns]"
      ]
     },
     "execution_count": 7,
     "metadata": {},
     "output_type": "execute_result"
    }
   ],
   "source": [
    "# Add constant for regression intercept\n",
    "X = sm.add_constant(df)\n",
    "X"
   ]
  },
  {
   "cell_type": "code",
   "execution_count": 8,
   "id": "065b04a5-a641-4732-a98c-74d5311c6caf",
   "metadata": {},
   "outputs": [
    {
     "data": {
      "text/html": [
       "<div>\n",
       "<style scoped>\n",
       "    .dataframe tbody tr th:only-of-type {\n",
       "        vertical-align: middle;\n",
       "    }\n",
       "\n",
       "    .dataframe tbody tr th {\n",
       "        vertical-align: top;\n",
       "    }\n",
       "\n",
       "    .dataframe thead th {\n",
       "        text-align: right;\n",
       "    }\n",
       "</style>\n",
       "<table border=\"1\" class=\"dataframe\">\n",
       "  <thead>\n",
       "    <tr style=\"text-align: right;\">\n",
       "      <th></th>\n",
       "      <th>Feature</th>\n",
       "      <th>VIF</th>\n",
       "    </tr>\n",
       "  </thead>\n",
       "  <tbody>\n",
       "    <tr>\n",
       "      <th>0</th>\n",
       "      <td>const</td>\n",
       "      <td>99.027598</td>\n",
       "    </tr>\n",
       "    <tr>\n",
       "      <th>1</th>\n",
       "      <td>size</td>\n",
       "      <td>12.578257</td>\n",
       "    </tr>\n",
       "    <tr>\n",
       "      <th>2</th>\n",
       "      <td>rooms</td>\n",
       "      <td>12.537163</td>\n",
       "    </tr>\n",
       "    <tr>\n",
       "      <th>3</th>\n",
       "      <td>age</td>\n",
       "      <td>1.038335</td>\n",
       "    </tr>\n",
       "  </tbody>\n",
       "</table>\n",
       "</div>"
      ],
      "text/plain": [
       "  Feature        VIF\n",
       "0   const  99.027598\n",
       "1    size  12.578257\n",
       "2   rooms  12.537163\n",
       "3     age   1.038335"
      ]
     },
     "execution_count": 8,
     "metadata": {},
     "output_type": "execute_result"
    }
   ],
   "source": [
    "# Compute VIF for each feature\n",
    "vif_data = pd.DataFrame()\n",
    "vif_data[\"Feature\"] = X.columns\n",
    "vif_data[\"VIF\"] = [variance_inflation_factor(X.values, i) \n",
    "                   for i in range(X.shape[1])]\n",
    "\n",
    "vif_data"
   ]
  },
  {
   "cell_type": "code",
   "execution_count": null,
   "id": "888cd727-42cd-42d1-aa53-119db48b5fde",
   "metadata": {},
   "outputs": [],
   "source": []
  },
  {
   "cell_type": "code",
   "execution_count": null,
   "id": "0b8ff296-e847-453b-afb3-962f87ab51fe",
   "metadata": {},
   "outputs": [],
   "source": []
  }
 ],
 "metadata": {
  "kernelspec": {
   "display_name": "Python 3 (ipykernel)",
   "language": "python",
   "name": "python3"
  },
  "language_info": {
   "codemirror_mode": {
    "name": "ipython",
    "version": 3
   },
   "file_extension": ".py",
   "mimetype": "text/x-python",
   "name": "python",
   "nbconvert_exporter": "python",
   "pygments_lexer": "ipython3",
   "version": "3.13.5"
  }
 },
 "nbformat": 4,
 "nbformat_minor": 5
}
