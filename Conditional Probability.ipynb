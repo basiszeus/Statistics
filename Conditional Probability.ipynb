{
 "cells": [
  {
   "cell_type": "markdown",
   "id": "7c2fd373",
   "metadata": {},
   "source": [
    "<center><h1 style=\"background-color: #C6F3CD; border-radius: 10px; color: #FFFFFF; padding: 5px;\">\n",
    "Conditional Probability\n",
    "</h1><center/>"
   ]
  },
  {
   "cell_type": "markdown",
   "id": "bdfa8b4c",
   "metadata": {},
   "source": [
    "**Link to the article** :  https://medium.com/@soulawalid/data-science-conditional-probability-4a9a708f53e9?sk=22e90428a3820948ffab27155cb122b1"
   ]
  },
  {
   "cell_type": "code",
   "execution_count": 1,
   "id": "7a55f431",
   "metadata": {},
   "outputs": [],
   "source": [
    "import matplotlib.pyplot as plt"
   ]
  },
  {
   "cell_type": "code",
   "execution_count": 3,
   "id": "a3e4822a",
   "metadata": {},
   "outputs": [
    {
     "name": "stdout",
     "output_type": "stream",
     "text": [
      "The conditional probability P(A | B) is 0.33\n"
     ]
    }
   ],
   "source": [
    "# Define the probability of each outcome\n",
    "probability_space = {1: 1/6, 2: 1/6, 3: 1/6, 4: 1/6, 5: 1/6, 6: 1/6}\n",
    "\n",
    "# Define event A: rolling a 3\n",
    "A = {3}\n",
    "\n",
    "# Define event B: rolling an odd number\n",
    "B = {1, 3, 5}\n",
    "\n",
    "# Calculate P(A ∩ B): probability of rolling a 3 and it being odd\n",
    "P_A_intersection_B = sum(probability_space[x] for x in A if x in B)\n",
    "\n",
    "# Calculate P(B): probability of rolling an odd number\n",
    "P_B = sum(probability_space[x] for x in B)\n",
    "\n",
    "# Calculate conditional probability P(A | B)\n",
    "P_A_given_B = P_A_intersection_B / P_B\n",
    "\n",
    "print(f\"The conditional probability P(A | B) is {P_A_given_B:.2f}\")"
   ]
  },
  {
   "cell_type": "code",
   "execution_count": 5,
   "id": "da55d962",
   "metadata": {},
   "outputs": [
    {
     "name": "stdout",
     "output_type": "stream",
     "text": [
      "The conditional probability P(A | B) is 0.54\n"
     ]
    }
   ],
   "source": [
    "# Total number of people\n",
    "total_people = 200\n",
    "\n",
    "# Define the number of women and men who passed the exam\n",
    "women_passed = 92\n",
    "total_passed = 169\n",
    "\n",
    "# Calculate the conditional probability P(A | B)\n",
    "P_A_given_B = (women_passed / total_people) / (total_passed / total_people)\n",
    "\n",
    "print(f\"The conditional probability P(A | B) is {P_A_given_B:.2f}\")"
   ]
  },
  {
   "cell_type": "code",
   "execution_count": null,
   "id": "ebcd902b",
   "metadata": {},
   "outputs": [],
   "source": []
  }
 ],
 "metadata": {
  "kernelspec": {
   "display_name": "Python 3 (ipykernel)",
   "language": "python",
   "name": "python3"
  },
  "language_info": {
   "codemirror_mode": {
    "name": "ipython",
    "version": 3
   },
   "file_extension": ".py",
   "mimetype": "text/x-python",
   "name": "python",
   "nbconvert_exporter": "python",
   "pygments_lexer": "ipython3",
   "version": "3.11.5"
  }
 },
 "nbformat": 4,
 "nbformat_minor": 5
}
