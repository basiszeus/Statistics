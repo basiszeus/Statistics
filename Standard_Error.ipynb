{
 "cells": [
  {
   "cell_type": "markdown",
   "id": "7c2fd373",
   "metadata": {},
   "source": [
    "<center><h1 style=\"background-color: #C6F3CD; border-radius: 10px; color: #FFFFFF; padding: 5px;\">\n",
    "Standard Error\n",
    "</h1><center/>"
   ]
  },
  {
   "cell_type": "markdown",
   "id": "bdfa8b4c",
   "metadata": {},
   "source": [
    "**Link to the article** : https://medium.com/@soulawalid/data-science-standard-error-2f5f501c887d?sk=fef9bdf6ecf30ce01a3b7313bf521e8b"
   ]
  },
  {
   "cell_type": "code",
   "execution_count": 1,
   "id": "5348144c",
   "metadata": {},
   "outputs": [],
   "source": [
    "import numpy as np\n",
    "import scipy.stats as stats"
   ]
  },
  {
   "cell_type": "markdown",
   "id": "ac122717",
   "metadata": {},
   "source": [
    "<center><h1 style=\"background-color: #C6F3CD; border-radius: 10px; color: #FFFFFF; padding: 5px;\">\n",
    "Critical Value\n",
    "</h1><center/>"
   ]
  },
  {
   "cell_type": "code",
   "execution_count": 2,
   "id": "e1aad378",
   "metadata": {
    "scrolled": true
   },
   "outputs": [],
   "source": [
    "sample_mean = 8\n",
    "population_mean = 10\n",
    "sample_std_dev = 5\n",
    "sample_size = 25"
   ]
  },
  {
   "cell_type": "code",
   "execution_count": 3,
   "id": "ac71bdb0",
   "metadata": {},
   "outputs": [],
   "source": [
    "standard_error = sample_std_dev / np.sqrt(sample_size)"
   ]
  },
  {
   "cell_type": "code",
   "execution_count": 10,
   "id": "73bddb65",
   "metadata": {},
   "outputs": [
    {
     "data": {
      "text/plain": [
       "-2.0"
      ]
     },
     "execution_count": 10,
     "metadata": {},
     "output_type": "execute_result"
    }
   ],
   "source": [
    "t_statistic = (sample_mean - population_mean) / standard_error\n",
    "degrees_of_freedom = sample_size - 1\n",
    "t_statistic"
   ]
  },
  {
   "cell_type": "code",
   "execution_count": 8,
   "id": "cb8e6a03",
   "metadata": {},
   "outputs": [
    {
     "data": {
      "text/plain": [
       "2.0638985616280205"
      ]
     },
     "execution_count": 8,
     "metadata": {},
     "output_type": "execute_result"
    }
   ],
   "source": [
    "alpha = 0.05\n",
    "critical_t_value = stats.t.ppf(1 - alpha/2, degrees_of_freedom)\n",
    "critical_t_value"
   ]
  },
  {
   "cell_type": "code",
   "execution_count": 7,
   "id": "7d2f30d3",
   "metadata": {
    "scrolled": true
   },
   "outputs": [
    {
     "name": "stdout",
     "output_type": "stream",
     "text": [
      "Fail to reject the null hypothesis. The sample mean is not significantly different from the population mean.\n"
     ]
    }
   ],
   "source": [
    "if abs(t_statistic) > critical_t_value:\n",
    "    print(\"Reject the null hypothesis. The sample mean is significantly different from the population mean.\")\n",
    "else:\n",
    "    print(\"Fail to reject the null hypothesis. The sample mean is not significantly different from the population mean.\")"
   ]
  },
  {
   "cell_type": "markdown",
   "id": "fa7b2021",
   "metadata": {},
   "source": [
    "<center><h1 style=\"background-color: #C6F3CD; border-radius: 10px; color: #FFFFFF; padding: 5px;\">\n",
    "P Value\n",
    "</h1><center/>"
   ]
  },
  {
   "cell_type": "code",
   "execution_count": 13,
   "id": "0efb1914",
   "metadata": {},
   "outputs": [
    {
     "data": {
      "text/plain": [
       "0.056939849936591624"
      ]
     },
     "execution_count": 13,
     "metadata": {},
     "output_type": "execute_result"
    }
   ],
   "source": [
    "# Step 5: Calculate the p-value\n",
    "p_value = 2 * (1 - stats.t.cdf(np.abs(t_statistic), df=degrees_of_freedom))\n",
    "p_value"
   ]
  },
  {
   "cell_type": "code",
   "execution_count": 12,
   "id": "e2050f4c",
   "metadata": {},
   "outputs": [
    {
     "name": "stdout",
     "output_type": "stream",
     "text": [
      "Fail to reject the null hypothesis. The sample mean is not significantly different from the population mean.\n",
      "T-statistic: -2.0\n",
      "P-value: 0.056939849936591624\n"
     ]
    }
   ],
   "source": [
    "# Step 6: Compare the p-value with the significance level\n",
    "alpha = 0.05\n",
    "if p_value < alpha:\n",
    "    print(\"Reject the null hypothesis. The sample mean is significantly different from the population mean.\")\n",
    "else:\n",
    "    print(\"Fail to reject the null hypothesis. The sample mean is not significantly different from the population mean.\")\n",
    "\n",
    "# Output results\n",
    "print(f\"T-statistic: {t_statistic}\")\n",
    "print(f\"P-value: {p_value}\")"
   ]
  }
 ],
 "metadata": {
  "kernelspec": {
   "display_name": "Python 3 (ipykernel)",
   "language": "python",
   "name": "python3"
  },
  "language_info": {
   "codemirror_mode": {
    "name": "ipython",
    "version": 3
   },
   "file_extension": ".py",
   "mimetype": "text/x-python",
   "name": "python",
   "nbconvert_exporter": "python",
   "pygments_lexer": "ipython3",
   "version": "3.11.5"
  }
 },
 "nbformat": 4,
 "nbformat_minor": 5
}
