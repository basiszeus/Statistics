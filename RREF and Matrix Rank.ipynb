{
 "cells": [
  {
   "cell_type": "code",
   "execution_count": 1,
   "id": "861fa860",
   "metadata": {},
   "outputs": [
    {
     "name": "stdout",
     "output_type": "stream",
     "text": [
      "Matrix in row echelon form:\n",
      "Matrix([[1, 0, -1], [0, 1, 2], [0, 0, 0]])\n",
      "Rank of the matrix: 2\n"
     ]
    }
   ],
   "source": [
    "import sympy as sp\n",
    "\n",
    "matrix = sp.Matrix([[1, 2, 3],\n",
    "                    [4, 5, 6],\n",
    "                    [7, 8, 9]])\n",
    "\n",
    "echelon_matrix, pivot_columns = matrix.rref()\n",
    "\n",
    "print(\"Matrix in row echelon form:\")\n",
    "print(echelon_matrix)\n",
    "\n",
    "rank = len(pivot_columns)\n",
    "print(\"Rank of the matrix:\", rank)"
   ]
  },
  {
   "cell_type": "code",
   "execution_count": 2,
   "id": "f7fe94c8",
   "metadata": {},
   "outputs": [
    {
     "data": {
      "text/latex": [
       "$\\displaystyle \\left[\\begin{matrix}1 & 0 & -1\\\\0 & 1 & 2\\\\0 & 0 & 0\\end{matrix}\\right]$"
      ],
      "text/plain": [
       "Matrix([\n",
       "[1, 0, -1],\n",
       "[0, 1,  2],\n",
       "[0, 0,  0]])"
      ]
     },
     "execution_count": 2,
     "metadata": {},
     "output_type": "execute_result"
    }
   ],
   "source": [
    "echelon_matrix"
   ]
  }
 ],
 "metadata": {
  "kernelspec": {
   "display_name": "PYPARK_KERNEL",
   "language": "python",
   "name": "pypark_kernel"
  },
  "language_info": {
   "codemirror_mode": {
    "name": "ipython",
    "version": 3
   },
   "file_extension": ".py",
   "mimetype": "text/x-python",
   "name": "python",
   "nbconvert_exporter": "python",
   "pygments_lexer": "ipython3",
   "version": "3.11.5"
  }
 },
 "nbformat": 4,
 "nbformat_minor": 5
}
