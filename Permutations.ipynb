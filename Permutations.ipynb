{
 "cells": [
  {
   "cell_type": "markdown",
   "id": "25f5ce57",
   "metadata": {},
   "source": [
    "<center><h1> Permutations<h1/><center/>"
   ]
  },
  {
   "cell_type": "markdown",
   "id": "14aaf6e2",
   "metadata": {},
   "source": [
    "Link to the full article : https://medium.com/@soulawalid/data-science-permutation-e4547b99175f"
   ]
  },
  {
   "cell_type": "markdown",
   "id": "dbc6b28b",
   "metadata": {},
   "source": [
    "## Permutations Without Repetition"
   ]
  },
  {
   "cell_type": "markdown",
   "id": "1cfb22e0",
   "metadata": {},
   "source": [
    "Suppose a hacker is trying to crack a 3-character password, and the password can consist of any of the 5 distinct characters: A, B, C, D, and E (without repetition)\n",
    "We need to find out how many different 3-character passwords can be formed from these 5 characters, and to do that I will use the permutation formula P(n,x)"
   ]
  },
  {
   "cell_type": "code",
   "execution_count": 3,
   "id": "66be4c6f",
   "metadata": {},
   "outputs": [
    {
     "name": "stdout",
     "output_type": "stream",
     "text": [
      "The number of possible 3-character passwords from 5 characters is: 60\n"
     ]
    }
   ],
   "source": [
    "from math import factorial\n",
    "\n",
    "def permutations(n, r):\n",
    "    return factorial(n) // factorial(n - r)\n",
    "\n",
    "# Number of distinct characters\n",
    "n = 5\n",
    "\n",
    "# Length of the password\n",
    "r = 3\n",
    "\n",
    "# Calculate permutations\n",
    "num_permutations = permutations(n, r)\n",
    "\n",
    "print(f\"The number of possible 3-character passwords from 5 characters is: {num_permutations}\")"
   ]
  },
  {
   "cell_type": "markdown",
   "id": "6670e20d",
   "metadata": {},
   "source": [
    "## Permutations With Repetition"
   ]
  },
  {
   "cell_type": "markdown",
   "id": "dd650742",
   "metadata": {},
   "source": [
    "Creating a 3-digit code using digits 0–9 where digits can repeat"
   ]
  },
  {
   "cell_type": "code",
   "execution_count": 5,
   "id": "a7106e64",
   "metadata": {},
   "outputs": [
    {
     "name": "stdout",
     "output_type": "stream",
     "text": [
      "Total permutations: 1000\n",
      "000\n",
      "001\n",
      "002\n",
      "003\n",
      "004\n",
      "005\n",
      "006\n",
      "007\n",
      "008\n",
      "009\n"
     ]
    }
   ],
   "source": [
    "import itertools\n",
    "\n",
    "# Define the items (digits 0-9)\n",
    "digits = '0123456789'\n",
    "\n",
    "# Get all permutations of 3 digits with repetition\n",
    "permutations = list(itertools.product(digits, repeat=3))\n",
    "\n",
    "print(f\"Total permutations: {len(permutations)}\")\n",
    "for perm in permutations[:10]:  # Display only the first 10 permutations\n",
    "    print(''.join(perm))"
   ]
  },
  {
   "cell_type": "markdown",
   "id": "641667a7",
   "metadata": {},
   "source": [
    "## Circular Permutations"
   ]
  },
  {
   "cell_type": "markdown",
   "id": "7b8eff67",
   "metadata": {},
   "source": [
    "Refer to the number of ways to arrange items in a circle, where rotations of the same arrangement are considered identical."
   ]
  },
  {
   "cell_type": "code",
   "execution_count": 6,
   "id": "41d80392",
   "metadata": {
    "scrolled": true
   },
   "outputs": [
    {
     "name": "stdout",
     "output_type": "stream",
     "text": [
      "Total circular permutations for 5 team leaders: 24\n"
     ]
    }
   ],
   "source": [
    "import math\n",
    "\n",
    "# Number of team leaders\n",
    "n = 5\n",
    "\n",
    "# Calculate circular permutations\n",
    "circular_permutations = math.factorial(n - 1)\n",
    "\n",
    "print(f\"Total circular permutations for 5 team leaders: {circular_permutations}\")"
   ]
  },
  {
   "cell_type": "markdown",
   "id": "eb990c9e",
   "metadata": {},
   "source": [
    "## Permutations With Repetition"
   ]
  },
  {
   "cell_type": "markdown",
   "id": "836e6db4",
   "metadata": {},
   "source": [
    "Suppose you have 10 flowers: 5 roses, 3 tulips, and 2 daisies. You want to find out how many different ways you can arrange these flowers in a row."
   ]
  },
  {
   "cell_type": "code",
   "execution_count": 7,
   "id": "b546a1f1",
   "metadata": {},
   "outputs": [
    {
     "name": "stdout",
     "output_type": "stream",
     "text": [
      "Total multiset permutations for the flowers: 2520\n"
     ]
    }
   ],
   "source": [
    "from math import factorial\n",
    "from collections import Counter\n",
    "\n",
    "# Define the multiset of flowers\n",
    "flowers = [\"Rose\"] * 5 + [\"Tulip\"] * 3 + [\"Daisy\"] * 2\n",
    "\n",
    "# Count the occurrences of each type of flower\n",
    "flower_counts = Counter(flowers)\n",
    "\n",
    "# Calculate the denominator of the permutation formula\n",
    "denominator = 1\n",
    "for count in flower_counts.values():\n",
    "    denominator *= factorial(count)\n",
    "\n",
    "# Calculate multiset permutations\n",
    "multiset_permutations = factorial(len(flowers)) // denominator\n",
    "\n",
    "print(f\"Total multiset permutations for the flowers: {multiset_permutations}\")"
   ]
  }
 ],
 "metadata": {
  "kernelspec": {
   "display_name": "PYPARK_KERNEL",
   "language": "python",
   "name": "pypark_kernel"
  },
  "language_info": {
   "codemirror_mode": {
    "name": "ipython",
    "version": 3
   },
   "file_extension": ".py",
   "mimetype": "text/x-python",
   "name": "python",
   "nbconvert_exporter": "python",
   "pygments_lexer": "ipython3",
   "version": "3.11.5"
  }
 },
 "nbformat": 4,
 "nbformat_minor": 5
}
