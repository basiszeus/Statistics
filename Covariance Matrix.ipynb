{
 "cells": [
  {
   "cell_type": "markdown",
   "id": "b3928a79",
   "metadata": {},
   "source": [
    "<center> <h1>Covariance Matrix<h1/> <center/>"
   ]
  },
  {
   "cell_type": "markdown",
   "id": "38b1f837",
   "metadata": {},
   "source": [
    "A covariance matrix is a square matrix that summarizes the pairwise covariances between multiple variables. \n",
    "It captures the linear relationship between each pair of variables. The diagonal elements represent the variances of individual variables, while off-diagonal elements reveal the strength and direction of relationships between variables."
   ]
  },
  {
   "cell_type": "markdown",
   "id": "7778b757",
   "metadata": {},
   "source": [
    "### Let's get a practical example to understand it : "
   ]
  },
  {
   "cell_type": "markdown",
   "id": "25f800f3",
   "metadata": {},
   "source": [
    "Suppose we have three variables measured for a group of patients and we want to understand how these variables relate to each other. :\n",
    "- blood pressure (BP)\n",
    "- body mass index (BMI)\n",
    "- fasting glucose levels (FG)"
   ]
  },
  {
   "cell_type": "code",
   "execution_count": 11,
   "id": "7327c884",
   "metadata": {},
   "outputs": [
    {
     "data": {
      "text/html": [
       "<div>\n",
       "<style scoped>\n",
       "    .dataframe tbody tr th:only-of-type {\n",
       "        vertical-align: middle;\n",
       "    }\n",
       "\n",
       "    .dataframe tbody tr th {\n",
       "        vertical-align: top;\n",
       "    }\n",
       "\n",
       "    .dataframe thead th {\n",
       "        text-align: right;\n",
       "    }\n",
       "</style>\n",
       "<table border=\"1\" class=\"dataframe\">\n",
       "  <thead>\n",
       "    <tr style=\"text-align: right;\">\n",
       "      <th></th>\n",
       "      <th>Blood Pressure (mmHg)</th>\n",
       "      <th>Body Mass Index</th>\n",
       "      <th>Fasting Glucose (mg/dL)</th>\n",
       "    </tr>\n",
       "  </thead>\n",
       "  <tbody>\n",
       "    <tr>\n",
       "      <th>0</th>\n",
       "      <td>130</td>\n",
       "      <td>25</td>\n",
       "      <td>120</td>\n",
       "    </tr>\n",
       "    <tr>\n",
       "      <th>1</th>\n",
       "      <td>140</td>\n",
       "      <td>28</td>\n",
       "      <td>110</td>\n",
       "    </tr>\n",
       "    <tr>\n",
       "      <th>2</th>\n",
       "      <td>125</td>\n",
       "      <td>22</td>\n",
       "      <td>130</td>\n",
       "    </tr>\n",
       "    <tr>\n",
       "      <th>3</th>\n",
       "      <td>150</td>\n",
       "      <td>30</td>\n",
       "      <td>100</td>\n",
       "    </tr>\n",
       "    <tr>\n",
       "      <th>4</th>\n",
       "      <td>135</td>\n",
       "      <td>26</td>\n",
       "      <td>115</td>\n",
       "    </tr>\n",
       "  </tbody>\n",
       "</table>\n",
       "</div>"
      ],
      "text/plain": [
       "   Blood Pressure (mmHg)  Body Mass Index  Fasting Glucose (mg/dL)\n",
       "0                    130               25                      120\n",
       "1                    140               28                      110\n",
       "2                    125               22                      130\n",
       "3                    150               30                      100\n",
       "4                    135               26                      115"
      ]
     },
     "execution_count": 11,
     "metadata": {},
     "output_type": "execute_result"
    }
   ],
   "source": [
    "import pandas as pd\n",
    "\n",
    "data = {\n",
    "    'Blood Pressure (mmHg)': [130, 140, 125, 150, 135],\n",
    "    'Body Mass Index': [25, 28, 22, 30, 26],\n",
    "    'Fasting Glucose (mg/dL)': [120, 110, 130, 100, 115]\n",
    "}\n",
    "\n",
    "df = pd.DataFrame(data)\n",
    "\n",
    "df"
   ]
  },
  {
   "cell_type": "code",
   "execution_count": 14,
   "id": "8344c069",
   "metadata": {},
   "outputs": [
    {
     "data": {
      "text/html": [
       "<div>\n",
       "<style scoped>\n",
       "    .dataframe tbody tr th:only-of-type {\n",
       "        vertical-align: middle;\n",
       "    }\n",
       "\n",
       "    .dataframe tbody tr th {\n",
       "        vertical-align: top;\n",
       "    }\n",
       "\n",
       "    .dataframe thead th {\n",
       "        text-align: right;\n",
       "    }\n",
       "</style>\n",
       "<table border=\"1\" class=\"dataframe\">\n",
       "  <thead>\n",
       "    <tr style=\"text-align: right;\">\n",
       "      <th></th>\n",
       "      <th>Blood Pressure (mmHg)</th>\n",
       "      <th>Body Mass Index</th>\n",
       "      <th>Fasting Glucose (mg/dL)</th>\n",
       "    </tr>\n",
       "  </thead>\n",
       "  <tbody>\n",
       "    <tr>\n",
       "      <th>Blood Pressure (mmHg)</th>\n",
       "      <td>92.50</td>\n",
       "      <td>28.50</td>\n",
       "      <td>-106.25</td>\n",
       "    </tr>\n",
       "    <tr>\n",
       "      <th>Body Mass Index</th>\n",
       "      <td>28.50</td>\n",
       "      <td>9.20</td>\n",
       "      <td>-33.75</td>\n",
       "    </tr>\n",
       "    <tr>\n",
       "      <th>Fasting Glucose (mg/dL)</th>\n",
       "      <td>-106.25</td>\n",
       "      <td>-33.75</td>\n",
       "      <td>125.00</td>\n",
       "    </tr>\n",
       "  </tbody>\n",
       "</table>\n",
       "</div>"
      ],
      "text/plain": [
       "                         Blood Pressure (mmHg)  Body Mass Index  \\\n",
       "Blood Pressure (mmHg)                    92.50            28.50   \n",
       "Body Mass Index                          28.50             9.20   \n",
       "Fasting Glucose (mg/dL)                -106.25           -33.75   \n",
       "\n",
       "                         Fasting Glucose (mg/dL)  \n",
       "Blood Pressure (mmHg)                    -106.25  \n",
       "Body Mass Index                           -33.75  \n",
       "Fasting Glucose (mg/dL)                   125.00  "
      ]
     },
     "execution_count": 14,
     "metadata": {},
     "output_type": "execute_result"
    }
   ],
   "source": [
    "cov_matrix = df.cov()\n",
    "cov_matrix"
   ]
  },
  {
   "cell_type": "code",
   "execution_count": null,
   "id": "ca3891e5",
   "metadata": {},
   "outputs": [],
   "source": []
  }
 ],
 "metadata": {
  "kernelspec": {
   "display_name": "PYPARK_KERNEL",
   "language": "python",
   "name": "pypark_kernel"
  },
  "language_info": {
   "codemirror_mode": {
    "name": "ipython",
    "version": 3
   },
   "file_extension": ".py",
   "mimetype": "text/x-python",
   "name": "python",
   "nbconvert_exporter": "python",
   "pygments_lexer": "ipython3",
   "version": "3.11.5"
  }
 },
 "nbformat": 4,
 "nbformat_minor": 5
}
