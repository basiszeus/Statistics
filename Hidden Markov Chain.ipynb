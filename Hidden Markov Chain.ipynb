{
 "cells": [
  {
   "cell_type": "markdown",
   "id": "558d43f4",
   "metadata": {},
   "source": [
    "<center><h1> Hidden Markov Chain <h1/><center/>"
   ]
  },
  {
   "cell_type": "markdown",
   "id": "af7c793d",
   "metadata": {},
   "source": [
    "Link to the article : https://medium.com/@soulawalid/hidden-markov-model-5c6bd4b867c4"
   ]
  },
  {
   "cell_type": "code",
   "execution_count": 1,
   "id": "7f05d275",
   "metadata": {},
   "outputs": [
    {
     "name": "stdout",
     "output_type": "stream",
     "text": [
      "States: ['H', 'S']\n",
      "Observations: ['G', 'B', 'R']\n",
      "Transition Probabilities:\n",
      " [[0.7 0.3]\n",
      " [0.5 0.5]]\n",
      "Emission Probabilities:\n",
      " [[0.1 0.1 0.8]\n",
      " [0.3 0.5 0.2]]\n",
      "Initial Probabilities: [0.4 0.6]\n",
      "Observation Sequence: ['G', 'B', 'R']\n",
      "Observation Mapping: {'G': 0, 'B': 1, 'R': 2}\n"
     ]
    }
   ],
   "source": [
    "import numpy as np\n",
    "\n",
    "# Define states and observations\n",
    "states = ['H', 'S']  # H for Happy, S for Sad\n",
    "observations = ['G', 'B', 'R']  # G for Green, B for Blue, R for Red\n",
    "\n",
    "# Define transition probabilities matrix (A)\n",
    "transition_probabilities = np.array([\n",
    "    [0.7, 0.3],  # From H to H, H to S\n",
    "    [0.5, 0.5]   # From S to H, S to S\n",
    "])\n",
    "\n",
    "# Define emission probabilities matrix (B)\n",
    "emission_probabilities = np.array([\n",
    "    [0.1, 0.1, 0.8],  # H (Happy): P(G|H), P(B|H), P(R|H)\n",
    "    [0.3, 0.5, 0.2]   # S (Sad): P(G|S), P(B|S), P(R|S)\n",
    "])\n",
    "\n",
    "# Define initial probabilities (pi)\n",
    "initial_probabilities = np.array([0.4, 0.6])  # P(H) and P(S)\n",
    "\n",
    "# Define the observation sequence (O)\n",
    "observation_sequence = ['G', 'B', 'R']  # Observations over 3 days\n",
    "\n",
    "# Create a mapping from observations to indices\n",
    "obs_map = {obs: idx for idx, obs in enumerate(observations)}\n",
    "\n",
    "# Print out the defined data\n",
    "print(\"States:\", states)\n",
    "print(\"Observations:\", observations)\n",
    "print(\"Transition Probabilities:\\n\", transition_probabilities)\n",
    "print(\"Emission Probabilities:\\n\", emission_probabilities)\n",
    "print(\"Initial Probabilities:\", initial_probabilities)\n",
    "print(\"Observation Sequence:\", observation_sequence)\n",
    "print(\"Observation Mapping:\", obs_map)\n"
   ]
  },
  {
   "cell_type": "code",
   "execution_count": 2,
   "id": "e0094569",
   "metadata": {},
   "outputs": [
    {
     "name": "stdout",
     "output_type": "stream",
     "text": [
      "Most likely sequence of moods: ['S', 'S', 'H']\n",
      "Probability of the most likely sequence: 0.018\n"
     ]
    }
   ],
   "source": [
    "# Viterbi algorithm implementation\n",
    "def viterbi_algorithm(obs_seq, states, start_prob, trans_prob, emis_prob, obs_map):\n",
    "    n_states = len(states)\n",
    "    T = len(obs_seq)\n",
    "    \n",
    "    # Initialize the Viterbi matrix and the path pointer matrix\n",
    "    V = np.zeros((n_states, T))\n",
    "    path = np.zeros((n_states, T), dtype=int)\n",
    "    \n",
    "    # Initialize base cases (t == 0)\n",
    "    first_obs_idx = obs_map[obs_seq[0]]\n",
    "    V[:, 0] = start_prob * emis_prob[:, first_obs_idx]\n",
    "    \n",
    "    # Run Viterbi for t > 0\n",
    "    for t in range(1, T):\n",
    "        obs_idx = obs_map[obs_seq[t]]\n",
    "        for s in range(n_states):\n",
    "            trans_prob_col = V[:, t-1] * trans_prob[:, s]\n",
    "            max_prob_index = np.argmax(trans_prob_col)\n",
    "            V[s, t] = trans_prob_col[max_prob_index] * emis_prob[s, obs_idx]\n",
    "            path[s, t] = max_prob_index\n",
    "    \n",
    "    # Find the most probable final state\n",
    "    final_state = np.argmax(V[:, T-1])\n",
    "    prob_of_most_likely_sequence = V[final_state, T-1]\n",
    "    \n",
    "    # Backtrack to find the most probable state sequence\n",
    "    most_likely_sequence = [final_state]\n",
    "    for t in range(T-1, 0, -1):\n",
    "        final_state = path[final_state, t]\n",
    "        most_likely_sequence.append(final_state)\n",
    "    most_likely_sequence.reverse()\n",
    "    \n",
    "    # Map state indices back to state names\n",
    "    most_likely_sequence = [states[s] for s in most_likely_sequence]\n",
    "    \n",
    "    return most_likely_sequence, prob_of_most_likely_sequence\n",
    "\n",
    "# Run the Viterbi algorithm\n",
    "most_likely_sequence, prob_of_most_likely_sequence = viterbi_algorithm(\n",
    "    observation_sequence, states, initial_probabilities,\n",
    "    transition_probabilities, emission_probabilities, obs_map\n",
    ")\n",
    "\n",
    "print(\"Most likely sequence of moods:\", most_likely_sequence)\n",
    "print(\"Probability of the most likely sequence:\", prob_of_most_likely_sequence)"
   ]
  },
  {
   "cell_type": "code",
   "execution_count": null,
   "id": "9e47eded",
   "metadata": {},
   "outputs": [],
   "source": []
  }
 ],
 "metadata": {
  "kernelspec": {
   "display_name": "Python 3 (ipykernel)",
   "language": "python",
   "name": "python3"
  },
  "language_info": {
   "codemirror_mode": {
    "name": "ipython",
    "version": 3
   },
   "file_extension": ".py",
   "mimetype": "text/x-python",
   "name": "python",
   "nbconvert_exporter": "python",
   "pygments_lexer": "ipython3",
   "version": "3.11.5"
  }
 },
 "nbformat": 4,
 "nbformat_minor": 5
}
