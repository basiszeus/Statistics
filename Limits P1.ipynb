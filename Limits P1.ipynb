{
 "cells": [
  {
   "cell_type": "markdown",
   "id": "6644ae6a",
   "metadata": {},
   "source": [
    "# Limits Part 1"
   ]
  },
  {
   "cell_type": "markdown",
   "id": "19546ba9",
   "metadata": {},
   "source": [
    "Have you ever wondered what happens at a function's edge? Do values 'hit' a certain point, or just get close and veer off? This curiosity is where limits come in. In this article, In this first part, will explain the concept of limits and see how they shape our understanding of math highlighting their properties.\n",
    "\n",
    "Link to my article (Part 1) : https://medium.com/@soulawalid/your-guide-to-limits-part-1-4c998cbe2d06"
   ]
  },
  {
   "cell_type": "code",
   "execution_count": 6,
   "id": "ec3f9d56",
   "metadata": {},
   "outputs": [
    {
     "name": "stdout",
     "output_type": "stream",
     "text": [
      "The limit of f(x) as x approaches 2 is 5\n"
     ]
    }
   ],
   "source": [
    "import sympy as sp\n",
    "\n",
    "x = sp.symbols('x')\n",
    "f = (x**2 + 1) / (x - 1)\n",
    "\n",
    "limit = sp.limit(f, x, 2)\n",
    "print('The limit of f(x) as x approaches 2 is ' + str(limit))"
   ]
  },
  {
   "cell_type": "markdown",
   "id": "7f7fc126",
   "metadata": {},
   "source": [
    "## Indeterminate form"
   ]
  },
  {
   "cell_type": "code",
   "execution_count": 7,
   "id": "102c4781",
   "metadata": {},
   "outputs": [
    {
     "name": "stdout",
     "output_type": "stream",
     "text": [
      "The limit of f(x) as x approaches 3 is 6\n"
     ]
    }
   ],
   "source": [
    "import sympy as sp\n",
    "\n",
    "x = sp.symbols('x')\n",
    "f = (x**2 -9) / (x - 3)\n",
    "\n",
    "limit = sp.limit(f, x, 3)\n",
    "print('The limit of f(x) as x approaches 3 is ' + str(limit))"
   ]
  },
  {
   "cell_type": "markdown",
   "id": "34fe81a2",
   "metadata": {},
   "source": [
    "## Properties of Limits"
   ]
  },
  {
   "cell_type": "markdown",
   "id": "814a9fc1",
   "metadata": {},
   "source": [
    "**Limit of a Constant**"
   ]
  },
  {
   "cell_type": "code",
   "execution_count": 9,
   "id": "132ce159",
   "metadata": {},
   "outputs": [
    {
     "name": "stdout",
     "output_type": "stream",
     "text": [
      "The limit of the constant 5 as x approaches any value is 5\n"
     ]
    }
   ],
   "source": [
    "from sympy import Symbol, S\n",
    "\n",
    "x = Symbol('x')\n",
    "k = 5  \n",
    "limit_expr = S(k)\n",
    "\n",
    "limit_value = limit_expr\n",
    "\n",
    "print(f\"The limit of the constant {k} as x approaches any value is {limit_value}\")"
   ]
  },
  {
   "cell_type": "markdown",
   "id": "ca821fd3",
   "metadata": {},
   "source": [
    "**Limit of the Identity Function**"
   ]
  },
  {
   "cell_type": "code",
   "execution_count": 12,
   "id": "2ceb4293",
   "metadata": {},
   "outputs": [
    {
     "name": "stdout",
     "output_type": "stream",
     "text": [
      "The limit of the identity function x as x approaches any value is 10\n"
     ]
    }
   ],
   "source": [
    "from sympy import Symbol\n",
    "\n",
    "x = Symbol('x')\n",
    "\n",
    "f = x\n",
    "c= 10\n",
    "\n",
    "limit_expr = f.subs(x, c)  \n",
    "\n",
    "limit_value = limit_expr\n",
    "\n",
    "print(f\"The limit of the identity function x as x approaches any value is {limit_value}\")"
   ]
  },
  {
   "cell_type": "markdown",
   "id": "4db0ecc8",
   "metadata": {},
   "source": [
    "**Sum Rule**"
   ]
  },
  {
   "cell_type": "code",
   "execution_count": 13,
   "id": "ab46cdc2",
   "metadata": {},
   "outputs": [
    {
     "name": "stdout",
     "output_type": "stream",
     "text": [
      "The limit of the sum of f(x) and g(x) as x approaches c is 120\n"
     ]
    }
   ],
   "source": [
    "from sympy import Symbol, Limit\n",
    "\n",
    "x = Symbol('x')\n",
    "f = x**2\n",
    "g = 2*x\n",
    "\n",
    "# Create a Limit object for the sum\n",
    "limit_expr_sum = Limit(f + g, x, c)\n",
    "\n",
    "# Evaluate the limit\n",
    "limit_value_sum = limit_expr_sum.doit()\n",
    "\n",
    "print(f\"The limit of the sum of f(x) and g(x) as x approaches c is {limit_value_sum}\")"
   ]
  },
  {
   "cell_type": "markdown",
   "id": "c131f5e2",
   "metadata": {},
   "source": [
    "**Difference Rule**"
   ]
  },
  {
   "cell_type": "code",
   "execution_count": 15,
   "id": "f00164dd",
   "metadata": {},
   "outputs": [
    {
     "name": "stdout",
     "output_type": "stream",
     "text": [
      "The limit of the difference of f(x) and g(x) as x approaches c is 80\n"
     ]
    }
   ],
   "source": [
    "from sympy import Symbol, Limit\n",
    "\n",
    "x = Symbol('x')\n",
    "f = x**2\n",
    "g = 2*x\n",
    "c = 10\n",
    "\n",
    "# Create a Limit object for the difference\n",
    "limit_expr_diff = Limit(f - g, x, c)\n",
    "\n",
    "# Evaluate the limit\n",
    "limit_value_diff = limit_expr_diff.doit()\n",
    "\n",
    "print(f\"The limit of the difference of f(x) and g(x) as x approaches c is {limit_value_diff}\")"
   ]
  },
  {
   "cell_type": "markdown",
   "id": "791acdb3",
   "metadata": {},
   "source": [
    "**Constant Multiple Rule**"
   ]
  },
  {
   "cell_type": "code",
   "execution_count": 16,
   "id": "58bf032a",
   "metadata": {},
   "outputs": [
    {
     "name": "stdout",
     "output_type": "stream",
     "text": [
      "The limit of the constant multiple k * f(x) as x approaches c is 300\n"
     ]
    }
   ],
   "source": [
    "from sympy import Symbol, Limit\n",
    "\n",
    "x = Symbol('x')\n",
    "f = x**2\n",
    "k = 3  \n",
    "c = 10\n",
    "\n",
    "# Create a Limit object for the constant multiple\n",
    "limit_expr_const_mult = Limit(k * f, x, c)\n",
    "\n",
    "# Evaluate the limit\n",
    "limit_value_const_mult = limit_expr_const_mult.doit()\n",
    "\n",
    "print(f\"The limit of the constant multiple k * f(x) as x approaches c is {limit_value_const_mult}\")"
   ]
  },
  {
   "cell_type": "markdown",
   "id": "ff942417",
   "metadata": {},
   "source": [
    "**Product Rule**"
   ]
  },
  {
   "cell_type": "code",
   "execution_count": 17,
   "id": "64e7d482",
   "metadata": {},
   "outputs": [
    {
     "name": "stdout",
     "output_type": "stream",
     "text": [
      "The limit of the product of f(x) and g(x) as x approaches c is 2000\n"
     ]
    }
   ],
   "source": [
    "from sympy import Symbol, Limit\n",
    "\n",
    "x = Symbol('x')\n",
    "f = x**2\n",
    "g = 2*x\n",
    "c = 10\n",
    "\n",
    "# Create a Limit object for the product\n",
    "limit_expr_product = Limit(f * g, x, c)\n",
    "\n",
    "# Evaluate the limit\n",
    "limit_value_product = limit_expr_product.doit()\n",
    "\n",
    "print(f\"The limit of the product of f(x) and g(x) as x approaches c is {limit_value_product}\")"
   ]
  },
  {
   "cell_type": "markdown",
   "id": "846aa5df",
   "metadata": {},
   "source": [
    "**Quotient Rule**"
   ]
  },
  {
   "cell_type": "code",
   "execution_count": 18,
   "id": "b580f25a",
   "metadata": {},
   "outputs": [
    {
     "name": "stdout",
     "output_type": "stream",
     "text": [
      "The limit of the quotient of f(x) and g(x) as x approaches c is 5\n"
     ]
    }
   ],
   "source": [
    "from sympy import Symbol, Limit\n",
    "\n",
    "x = Symbol('x')\n",
    "f = x**2\n",
    "g = 2*x\n",
    "c = 10\n",
    "\n",
    "# Create a Limit object for the quotient\n",
    "limit_expr_quotient = Limit(f / g, x, c)\n",
    "\n",
    "# Evaluate the limit\n",
    "limit_value_quotient = limit_expr_quotient.doit()\n",
    "\n",
    "print(f\"The limit of the quotient of f(x) and g(x) as x approaches c is {limit_value_quotient}\")\n"
   ]
  },
  {
   "cell_type": "markdown",
   "id": "a8992e81",
   "metadata": {},
   "source": [
    "**Power Rule**"
   ]
  },
  {
   "cell_type": "code",
   "execution_count": 19,
   "id": "cb881d20",
   "metadata": {},
   "outputs": [
    {
     "name": "stdout",
     "output_type": "stream",
     "text": [
      "The limit of f(x) raised to the power of 3 as x approaches c is 1000000\n"
     ]
    }
   ],
   "source": [
    "from sympy import Symbol, Limit\n",
    "\n",
    "x = Symbol('x')\n",
    "f = x**2\n",
    "n = 3  # Positive integer\n",
    "c = 10\n",
    "\n",
    "# Create a Limit object for the power\n",
    "limit_expr_power = Limit(f**n, x, c)\n",
    "\n",
    "# Evaluate the limit\n",
    "limit_value_power = limit_expr_power.doit()\n",
    "\n",
    "print(f\"The limit of f(x) raised to the power of {n} as x approaches c is {limit_value_power}\")\n",
    "# The limit of f(x) raised to the power of 3 as x approaches c is 1000000"
   ]
  },
  {
   "cell_type": "markdown",
   "id": "7a9ac7a5",
   "metadata": {},
   "source": [
    "**Root Rule**"
   ]
  },
  {
   "cell_type": "code",
   "execution_count": 20,
   "id": "b60f3e9e",
   "metadata": {},
   "outputs": [
    {
     "name": "stdout",
     "output_type": "stream",
     "text": [
      "The limit of the square root of f(x) as x approaches c is 10\n"
     ]
    }
   ],
   "source": [
    "from sympy import Symbol, Limit\n",
    "\n",
    "x = Symbol('x')\n",
    "f = x**2\n",
    "n = 2  # Denotes square root\n",
    "c = 10\n",
    "\n",
    "# Create a Limit object for the root\n",
    "limit_expr_root = Limit(f**(1/n), x, c)\n",
    "\n",
    "# Evaluate the limit\n",
    "limit_value_root = limit_expr_root.doit()\n",
    "\n",
    "print(f\"The limit of the square root of f(x) as x approaches c is {limit_value_root}\")"
   ]
  },
  {
   "cell_type": "markdown",
   "id": "c9ba2470",
   "metadata": {},
   "source": [
    "**Substitution Rule**"
   ]
  },
  {
   "cell_type": "code",
   "execution_count": 22,
   "id": "fcdd9c55",
   "metadata": {},
   "outputs": [
    {
     "name": "stdout",
     "output_type": "stream",
     "text": [
      "The limit of the composite function f(g(x)) as x approaches c is 36\n"
     ]
    }
   ],
   "source": [
    "from sympy import Symbol, Limit\n",
    "\n",
    "x = Symbol('x')\n",
    "f = x**2\n",
    "g = 2*x\n",
    "c = 3  # Value approaching\n",
    "\n",
    "# Create a Limit object for the composite function\n",
    "limit_expr_composite = Limit(f.subs(x, g), x, c)\n",
    "\n",
    "# Evaluate the limit\n",
    "limit_value_composite = limit_expr_composite.doit()\n",
    "\n",
    "print(f\"The limit of the composite function f(g(x)) as x approaches c is {limit_value_composite}\")"
   ]
  },
  {
   "cell_type": "code",
   "execution_count": null,
   "id": "e985efa4",
   "metadata": {},
   "outputs": [],
   "source": []
  }
 ],
 "metadata": {
  "kernelspec": {
   "display_name": "PYPARK_KERNEL",
   "language": "python",
   "name": "pypark_kernel"
  },
  "language_info": {
   "codemirror_mode": {
    "name": "ipython",
    "version": 3
   },
   "file_extension": ".py",
   "mimetype": "text/x-python",
   "name": "python",
   "nbconvert_exporter": "python",
   "pygments_lexer": "ipython3",
   "version": "3.11.5"
  }
 },
 "nbformat": 4,
 "nbformat_minor": 5
}
