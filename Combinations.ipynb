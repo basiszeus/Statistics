{
 "cells": [
  {
   "cell_type": "markdown",
   "id": "7c2fd373",
   "metadata": {},
   "source": [
    "<center><h1 style=\"background-color: #C6F3CD; border-radius: 10px; color: #FFFFFF; padding: 5px;\">\n",
    "Combinations\n",
    "</h1><center/>"
   ]
  },
  {
   "cell_type": "markdown",
   "id": "bdfa8b4c",
   "metadata": {},
   "source": [
    "**Link to the article** : https://medium.com/@soulawalid/data-science-combination-400829f2d624?sk=979b0afdd341343c9e321e423f6149bf"
   ]
  },
  {
   "cell_type": "code",
   "execution_count": 3,
   "id": "74e975ca",
   "metadata": {},
   "outputs": [],
   "source": [
    "from itertools import combinations\n",
    "from itertools import combinations_with_replacement"
   ]
  },
  {
   "cell_type": "markdown",
   "id": "89b2fb39",
   "metadata": {},
   "source": [
    "### Without repetition"
   ]
  },
  {
   "cell_type": "code",
   "execution_count": 2,
   "id": "c55f2238",
   "metadata": {},
   "outputs": [
    {
     "name": "stdout",
     "output_type": "stream",
     "text": [
      "Number of combinations: 10\n",
      "Combinations: [(1, 2), (1, 3), (1, 4), (1, 5), (2, 3), (2, 4), (2, 5), (3, 4), (3, 5), (4, 5)]\n"
     ]
    }
   ],
   "source": [
    "# Define the set of balls\n",
    "balls = [1, 2, 3, 4, 5]\n",
    "\n",
    "# Compute all combinations of 2 balls\n",
    "combs = list(combinations(balls, 2))\n",
    "\n",
    "# Print the number of combinations and the combinations themselves\n",
    "print(f\"Number of combinations: {len(combs)}\")\n",
    "print(\"Combinations:\", combs)"
   ]
  },
  {
   "cell_type": "markdown",
   "id": "014ae244",
   "metadata": {},
   "source": [
    "### With repetition"
   ]
  },
  {
   "cell_type": "code",
   "execution_count": 4,
   "id": "398e4f54",
   "metadata": {},
   "outputs": [
    {
     "name": "stdout",
     "output_type": "stream",
     "text": [
      "Number of combinations with repetition: 15\n",
      "Combinations with repetition: [(1, 1), (1, 2), (1, 3), (1, 4), (1, 5), (2, 2), (2, 3), (2, 4), (2, 5), (3, 3), (3, 4), (3, 5), (4, 4), (4, 5), (5, 5)]\n"
     ]
    }
   ],
   "source": [
    "# Define the set of balls\n",
    "balls = [1, 2, 3, 4, 5]\n",
    "\n",
    "# Compute all combinations of 2 balls with repetition\n",
    "combs = list(combinations_with_replacement(balls, 2))\n",
    "\n",
    "# Print the number of combinations and the combinations themselves\n",
    "print(f\"Number of combinations with repetition: {len(combs)}\")\n",
    "print(\"Combinations with repetition:\", combs)"
   ]
  }
 ],
 "metadata": {
  "kernelspec": {
   "display_name": "Python 3 (ipykernel)",
   "language": "python",
   "name": "python3"
  },
  "language_info": {
   "codemirror_mode": {
    "name": "ipython",
    "version": 3
   },
   "file_extension": ".py",
   "mimetype": "text/x-python",
   "name": "python",
   "nbconvert_exporter": "python",
   "pygments_lexer": "ipython3",
   "version": "3.11.5"
  }
 },
 "nbformat": 4,
 "nbformat_minor": 5
}
