{
 "cells": [
  {
   "cell_type": "markdown",
   "id": "7c2fd373",
   "metadata": {},
   "source": [
    "<center><h1 style=\"background-color: #C6F3CD; border-radius: 10px; color: #FFFFFF; padding: 5px;\">\n",
    "Derivative Rules\n",
    "</h1><center/>"
   ]
  },
  {
   "cell_type": "markdown",
   "id": "bdfa8b4c",
   "metadata": {},
   "source": [
    "**Link to the article** : https://medium.com/@soulawalid/derivatives-made-easy-824770e317d8?sk=41ccc2d37422b17d6ec11c08cde93845"
   ]
  },
  {
   "cell_type": "code",
   "execution_count": 1,
   "id": "7a55f431",
   "metadata": {},
   "outputs": [],
   "source": [
    "import sympy as sp"
   ]
  },
  {
   "cell_type": "markdown",
   "id": "dde50710",
   "metadata": {},
   "source": [
    "### Power Rule"
   ]
  },
  {
   "cell_type": "code",
   "execution_count": 2,
   "id": "a3e4822a",
   "metadata": {},
   "outputs": [
    {
     "name": "stdout",
     "output_type": "stream",
     "text": [
      "3*x**2\n"
     ]
    }
   ],
   "source": [
    "# Define the variable and function\n",
    "x = sp.symbols('x')\n",
    "expr = x**3\n",
    "\n",
    "# Compute the derivative using the power rule\n",
    "derivative = sp.diff(expr, x)\n",
    "\n",
    "# Output the result\n",
    "print(derivative)"
   ]
  },
  {
   "cell_type": "code",
   "execution_count": 3,
   "id": "efde8baa",
   "metadata": {},
   "outputs": [
    {
     "name": "stdout",
     "output_type": "stream",
     "text": [
      "The function is: y = x**(5/3)\n",
      "The derivative of y = x**(5/3) is:\n",
      "1.66666666666667*x**0.666666666666667\n"
     ]
    }
   ],
   "source": [
    "import sympy as sp\n",
    "\n",
    "# Define the variable\n",
    "x = sp.Symbol('x')\n",
    "\n",
    "# Define the function\n",
    "y = x**(5/3)\n",
    "\n",
    "# Compute the derivative\n",
    "dy_dx = sp.diff(y, x)\n",
    "\n",
    "# Print the function and its derivative\n",
    "print(\"The function is: y = x**(5/3)\")\n",
    "print(\"The derivative of y = x**(5/3) is:\")\n",
    "print(dy_dx)"
   ]
  },
  {
   "cell_type": "markdown",
   "id": "917d3e32",
   "metadata": {},
   "source": [
    "### Product Rule"
   ]
  },
  {
   "cell_type": "code",
   "execution_count": 4,
   "id": "f107e1e7",
   "metadata": {},
   "outputs": [
    {
     "name": "stdout",
     "output_type": "stream",
     "text": [
      "x**2*cos(x) + 2*x*sin(x)\n"
     ]
    }
   ],
   "source": [
    "# Define the functions\n",
    "u = x**2\n",
    "v = sp.sin(x)\n",
    "\n",
    "# Compute the derivative using the product rule\n",
    "derivative = sp.diff(u * v, x)\n",
    "\n",
    "# Output the result\n",
    "print(derivative)"
   ]
  },
  {
   "cell_type": "markdown",
   "id": "ff4714eb",
   "metadata": {},
   "source": [
    "### Quotient Rule"
   ]
  },
  {
   "cell_type": "code",
   "execution_count": 5,
   "id": "1e875bb8",
   "metadata": {},
   "outputs": [
    {
     "name": "stdout",
     "output_type": "stream",
     "text": [
      "0\n"
     ]
    }
   ],
   "source": [
    "# Define the functions\n",
    "u = x**2\n",
    "v = x**2\n",
    "\n",
    "# Compute the derivative using the quotient rule\n",
    "derivative = sp.diff(u / v, x)\n",
    "\n",
    "# Output the result\n",
    "print(derivative)"
   ]
  },
  {
   "cell_type": "markdown",
   "id": "bc31d7e8",
   "metadata": {},
   "source": [
    "### Chain Rule"
   ]
  },
  {
   "cell_type": "code",
   "execution_count": 6,
   "id": "a0e40131",
   "metadata": {},
   "outputs": [
    {
     "name": "stdout",
     "output_type": "stream",
     "text": [
      "The derivative of y = (2x + 1)^2 is:\n",
      "8*x + 4\n"
     ]
    }
   ],
   "source": [
    "import sympy as sp\n",
    "\n",
    "# Define the variable\n",
    "x = sp.Symbol('x')\n",
    "\n",
    "# Define the function\n",
    "u = 2*x + 1\n",
    "y = u**2\n",
    "\n",
    "# Compute the derivative\n",
    "dy_dx = sp.diff(y, x)\n",
    "\n",
    "# Print the derivative\n",
    "print(\"The derivative of y = (2x + 1)^2 is:\")\n",
    "print(dy_dx)"
   ]
  }
 ],
 "metadata": {
  "kernelspec": {
   "display_name": "Python 3 (ipykernel)",
   "language": "python",
   "name": "python3"
  },
  "language_info": {
   "codemirror_mode": {
    "name": "ipython",
    "version": 3
   },
   "file_extension": ".py",
   "mimetype": "text/x-python",
   "name": "python",
   "nbconvert_exporter": "python",
   "pygments_lexer": "ipython3",
   "version": "3.11.5"
  }
 },
 "nbformat": 4,
 "nbformat_minor": 5
}
