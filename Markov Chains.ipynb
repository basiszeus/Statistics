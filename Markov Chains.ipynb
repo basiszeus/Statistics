{
 "cells": [
  {
   "cell_type": "markdown",
   "id": "6ed123b1",
   "metadata": {},
   "source": [
    "<center> <h1>Markov Chains<h1/> <center/>"
   ]
  },
  {
   "cell_type": "markdown",
   "id": "f10d3948",
   "metadata": {},
   "source": [
    "Have you ever noticed how sometimes things seem to follow a pattern? For instance, if you’re scrolling through social media and see three posts in a row about data science, cats or other subject of interest, it’ s likely that the next post will be about something related right ? These patterns are not just coincidences as you might think but they’re actually examples of Markov Chains at work.\n",
    "\n",
    "In this article, I will cover Markov Chains (also known as Markov Processes), provide an overview of the concept, and illustrate it with a practical example!"
   ]
  },
  {
   "cell_type": "markdown",
   "id": "9b6f2f8c",
   "metadata": {},
   "source": [
    "You can find my article here : https://medium.com/ai-in-plain-english/markov-chains-b30d7b05dd1c"
   ]
  },
  {
   "cell_type": "code",
   "execution_count": 9,
   "id": "0118c9cd",
   "metadata": {},
   "outputs": [
    {
     "name": "stdout",
     "output_type": "stream",
     "text": [
      "Probability of sunny day tomorrow: 0.7\n",
      "Probability of rainy day tomorrow: 0.3\n"
     ]
    }
   ],
   "source": [
    "P_ss = 0.7  # P(Sunny tomorrow| Sunny today)\n",
    "P_sr = 0.3  # P(Rainy tomorrow| Sunny today)\n",
    "P_rs = 0.6  # P(Sunny tomorrow| Rainy today)\n",
    "P_rr = 0.4  # P(Rainy tomorrow| Rainy today)\n",
    "\n",
    "initial_state = 1\n",
    "\n",
    "P_sunny_tomorrow = P_ss * initial_state\n",
    "P_rainy_tomorrow = P_sr * initial_state\n",
    "\n",
    "print(\"Probability of sunny day tomorrow:\", P_sunny_tomorrow)\n",
    "print(\"Probability of rainy day tomorrow:\", P_rainy_tomorrow)\n",
    "\n",
    "# Probability of sunny day tomorrow: 0.7\n",
    "# Probability of rainy day tomorrow: 0.3"
   ]
  },
  {
   "cell_type": "code",
   "execution_count": 10,
   "id": "676f08ed",
   "metadata": {},
   "outputs": [
    {
     "name": "stdout",
     "output_type": "stream",
     "text": [
      "Probability of sunny day tomorrow: 0.48999999999999994\n",
      "Probability of rainy day tomorrow: 0.21\n"
     ]
    }
   ],
   "source": [
    "P_ss = 0.7  # P(Sunny tomorrow| Sunny today)\n",
    "P_sr = 0.3  # P(Rainy tomorrow| Sunny today)\n",
    "P_rs = 0.6  # P(Sunny tomorrow| Rainy today)\n",
    "P_rr = 0.4  # P(Rainy tomorrow| Rainy today)\n",
    "\n",
    "initial_state = 0.7\n",
    "\n",
    "P_sunny_tomorrow = P_ss * initial_state\n",
    "P_rainy_tomorrow = P_sr * initial_state\n",
    "\n",
    "print(\"Probability of sunny day tomorrow:\", P_sunny_tomorrow)\n",
    "print(\"Probability of rainy day tomorrow:\", P_rainy_tomorrow)\n",
    "\n",
    "# Probability of sunny day tomorrow: 0.48999999999999994\n",
    "# Probability of rainy day tomorrow: 0.21"
   ]
  },
  {
   "cell_type": "code",
   "execution_count": 11,
   "id": "abf737cc",
   "metadata": {},
   "outputs": [
    {
     "name": "stdout",
     "output_type": "stream",
     "text": [
      "Steady-state probabilities:\n",
      "Sunny: 0.67\n",
      "Rainy: 0.33\n"
     ]
    }
   ],
   "source": [
    "import numpy as np\n",
    "\n",
    "# Transition matrix\n",
    "P = np.array([[0.7, 0.3],  # P(Sunny tomorrow| Sunny today), P(Rainy tomorrow| Sunny today)\n",
    "              [0.6, 0.4]]) # P(Sunny tomorrow| Rainy today), P(Rainy tomorrow| Rainy today)\n",
    "\n",
    "# Calculate eigenvectors and eigenvalues\n",
    "eigenvalues, eigenvectors = np.linalg.eig(P.T)\n",
    "# Find the index of the eigenvalue closest to 1\n",
    "index = np.argmin(np.abs(eigenvalues - 1))\n",
    "# Get the corresponding eigenvector\n",
    "steady_state = np.real(eigenvectors[:, index])\n",
    "# Normalize the steady-state probabilities\n",
    "steady_state /= np.sum(steady_state)\n",
    "\n",
    "print(\"Steady-state probabilities:\")\n",
    "print(\"Sunny: {:.2f}\".format(steady_state[0]))\n",
    "print(\"Rainy: {:.2f}\".format(steady_state[1]))"
   ]
  }
 ],
 "metadata": {
  "kernelspec": {
   "display_name": "PYPARK_KERNEL",
   "language": "python",
   "name": "pypark_kernel"
  },
  "language_info": {
   "codemirror_mode": {
    "name": "ipython",
    "version": 3
   },
   "file_extension": ".py",
   "mimetype": "text/x-python",
   "name": "python",
   "nbconvert_exporter": "python",
   "pygments_lexer": "ipython3",
   "version": "3.11.5"
  }
 },
 "nbformat": 4,
 "nbformat_minor": 5
}
