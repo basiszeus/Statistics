{
 "cells": [
  {
   "cell_type": "markdown",
   "id": "7c2fd373",
   "metadata": {},
   "source": [
    "<center><h1 style=\"background-color: #C6F3CD; border-radius: 10px; color: #FFFFFF; padding: 5px;\">\n",
    "PCA\n",
    "</h1><center/>"
   ]
  },
  {
   "cell_type": "markdown",
   "id": "bdfa8b4c",
   "metadata": {},
   "source": [
    "**Link to the article** :  https://medium.com/@soulawalid/math-behind-pca-bb3d179cffbc?sk=38c6a9d042af469d69929d8537f7f082"
   ]
  },
  {
   "cell_type": "markdown",
   "id": "2ff4f439",
   "metadata": {},
   "source": [
    "<center><h1 style=\"background-color: #C6F3CD; border-radius: 10px; color: #FFFFFF; padding: 5px;\">\n",
    "Centering the Data\n",
    "</h1><center/>"
   ]
  },
  {
   "cell_type": "code",
   "execution_count": 62,
   "id": "34f05033",
   "metadata": {},
   "outputs": [],
   "source": [
    "Scores = np.array([[85,80],[70,75],[90,85]])"
   ]
  },
  {
   "cell_type": "code",
   "execution_count": 64,
   "id": "65867d02",
   "metadata": {},
   "outputs": [
    {
     "data": {
      "text/html": [
       "<div>\n",
       "<style scoped>\n",
       "    .dataframe tbody tr th:only-of-type {\n",
       "        vertical-align: middle;\n",
       "    }\n",
       "\n",
       "    .dataframe tbody tr th {\n",
       "        vertical-align: top;\n",
       "    }\n",
       "\n",
       "    .dataframe thead th {\n",
       "        text-align: right;\n",
       "    }\n",
       "</style>\n",
       "<table border=\"1\" class=\"dataframe\">\n",
       "  <thead>\n",
       "    <tr style=\"text-align: right;\">\n",
       "      <th></th>\n",
       "      <th>Python</th>\n",
       "      <th>Math</th>\n",
       "    </tr>\n",
       "  </thead>\n",
       "  <tbody>\n",
       "    <tr>\n",
       "      <th>0</th>\n",
       "      <td>85</td>\n",
       "      <td>80</td>\n",
       "    </tr>\n",
       "    <tr>\n",
       "      <th>1</th>\n",
       "      <td>70</td>\n",
       "      <td>75</td>\n",
       "    </tr>\n",
       "    <tr>\n",
       "      <th>2</th>\n",
       "      <td>90</td>\n",
       "      <td>85</td>\n",
       "    </tr>\n",
       "  </tbody>\n",
       "</table>\n",
       "</div>"
      ],
      "text/plain": [
       "   Python  Math\n",
       "0      85    80\n",
       "1      70    75\n",
       "2      90    85"
      ]
     },
     "execution_count": 64,
     "metadata": {},
     "output_type": "execute_result"
    }
   ],
   "source": [
    "Scores_df =pd.DataFrame(Scores, columns = ['Python','Math'])\n",
    "Scores_df"
   ]
  },
  {
   "cell_type": "code",
   "execution_count": 66,
   "id": "24833790",
   "metadata": {},
   "outputs": [
    {
     "data": {
      "image/png": "[encoded data removed]",
      "text/plain": [
       "<Figure size 1000x800 with 1 Axes>"
      ]
     },
     "metadata": {},
     "output_type": "display_data"
    }
   ],
   "source": [
    "plt.figure(figsize=(10, 8))\n",
    "plt.scatter(Scores_df['Python'],Scores_df['Math'])\n",
    "plt.title('Original Data Plot')\n",
    "plt.xlabel('Python Scores')\n",
    "plt.ylabel('Math Scores')\n",
    "plt.grid(True)\n",
    "plt.show()"
   ]
  },
  {
   "cell_type": "code",
   "execution_count": 67,
   "id": "ff9aecba",
   "metadata": {},
   "outputs": [
    {
     "data": {
      "text/plain": [
       "array([[85, 80],\n",
       "       [70, 75],\n",
       "       [90, 85]])"
      ]
     },
     "execution_count": 67,
     "metadata": {},
     "output_type": "execute_result"
    }
   ],
   "source": [
    "Scores"
   ]
  },
  {
   "cell_type": "code",
   "execution_count": 72,
   "id": "3bb3633a",
   "metadata": {},
   "outputs": [
    {
     "data": {
      "text/plain": [
       "array([[85, 70, 90],\n",
       "       [80, 75, 85]])"
      ]
     },
     "execution_count": 72,
     "metadata": {},
     "output_type": "execute_result"
    }
   ],
   "source": [
    "Scores.T"
   ]
  },
  {
   "cell_type": "code",
   "execution_count": 70,
   "id": "3803384b",
   "metadata": {},
   "outputs": [
    {
     "data": {
      "text/plain": [
       "array([81.66666667, 80.        ])"
      ]
     },
     "execution_count": 70,
     "metadata": {},
     "output_type": "execute_result"
    }
   ],
   "source": [
    "#Making data mean centric\n",
    "mean_by_columns = np.mean(Scores.T,axis=1)\n",
    "mean_by_columns"
   ]
  },
  {
   "cell_type": "code",
   "execution_count": 71,
   "id": "a366f2f4",
   "metadata": {},
   "outputs": [
    {
     "data": {
      "text/plain": [
       "array([[  3.33333333,   0.        ],\n",
       "       [-11.66666667,  -5.        ],\n",
       "       [  8.33333333,   5.        ]])"
      ]
     },
     "execution_count": 71,
     "metadata": {},
     "output_type": "execute_result"
    }
   ],
   "source": [
    "#Scaled data\n",
    "Scaled_Data = Scores - mean_by_columns\n",
    "Scaled_Data"
   ]
  },
  {
   "cell_type": "code",
   "execution_count": 73,
   "id": "96a572ba",
   "metadata": {},
   "outputs": [
    {
     "data": {
      "text/plain": [
       "array([[108.33333333,  50.        ],\n",
       "       [ 50.        ,  25.        ]])"
      ]
     },
     "execution_count": 73,
     "metadata": {},
     "output_type": "execute_result"
    }
   ],
   "source": [
    "cov_mat = np.cov(Scaled_Data.T)\n",
    "cov_mat"
   ]
  },
  {
   "cell_type": "code",
   "execution_count": 74,
   "id": "9b0c3289",
   "metadata": {},
   "outputs": [
    {
     "name": "stdout",
     "output_type": "stream",
     "text": [
      "Eigenvalues :\n",
      "[131.75208063   1.5812527 ]\n",
      "Eigenvectors :\n",
      "[[ 0.90558942 -0.4241554 ]\n",
      " [ 0.4241554   0.90558942]]\n"
     ]
    }
   ],
   "source": [
    "Eval, Evec = eig(cov_mat)\n",
    "print('Eigenvalues :')\n",
    "print(Eval)\n",
    "print('Eigenvectors :')\n",
    "print(Evec)"
   ]
  },
  {
   "cell_type": "code",
   "execution_count": 81,
   "id": "c316d803",
   "metadata": {},
   "outputs": [
    {
     "data": {
      "text/plain": [
       "array([[  3.0186314 ,  -1.41385132],\n",
       "       [-12.6859869 ,   0.42053252],\n",
       "       [  9.66735549,   0.9933188 ]])"
      ]
     },
     "execution_count": 81,
     "metadata": {},
     "output_type": "execute_result"
    }
   ],
   "source": [
    "# Projection\n",
    "projected_data = Evec.T.dot(Scaled_Data.T)\n",
    "projected_data.T"
   ]
  },
  {
   "cell_type": "code",
   "execution_count": 86,
   "id": "36326252",
   "metadata": {},
   "outputs": [
    {
     "data": {
      "text/plain": [
       "array([[  3.0186314 ,  -1.41385132],\n",
       "       [-12.6859869 ,   0.42053252],\n",
       "       [  9.66735549,   0.9933188 ]])"
      ]
     },
     "execution_count": 86,
     "metadata": {},
     "output_type": "execute_result"
    }
   ],
   "source": [
    "from sklearn.decomposition import PCA\n",
    "pca = PCA(n_components=2)\n",
    "pca.fit_transform(Scores)"
   ]
  },
  {
   "cell_type": "code",
   "execution_count": 82,
   "id": "f2c96902",
   "metadata": {},
   "outputs": [
    {
     "data": {
      "text/plain": [
       "array([[ 0.90558942,  0.4241554 ],\n",
       "       [-0.4241554 ,  0.90558942]])"
      ]
     },
     "execution_count": 82,
     "metadata": {},
     "output_type": "execute_result"
    }
   ],
   "source": [
    "pca.components_"
   ]
  },
  {
   "cell_type": "code",
   "execution_count": 83,
   "id": "bfc77157",
   "metadata": {},
   "outputs": [
    {
     "data": {
      "text/plain": [
       "array([131.75208063,   1.5812527 ])"
      ]
     },
     "execution_count": 83,
     "metadata": {},
     "output_type": "execute_result"
    }
   ],
   "source": [
    "pca.explained_variance_"
   ]
  },
  {
   "cell_type": "markdown",
   "id": "dff11f46",
   "metadata": {},
   "source": [
    "---"
   ]
  },
  {
   "cell_type": "code",
   "execution_count": 91,
   "id": "50c786ba",
   "metadata": {},
   "outputs": [
    {
     "data": {
      "text/html": [
       "<div>\n",
       "<style scoped>\n",
       "    .dataframe tbody tr th:only-of-type {\n",
       "        vertical-align: middle;\n",
       "    }\n",
       "\n",
       "    .dataframe tbody tr th {\n",
       "        vertical-align: top;\n",
       "    }\n",
       "\n",
       "    .dataframe thead th {\n",
       "        text-align: right;\n",
       "    }\n",
       "</style>\n",
       "<table border=\"1\" class=\"dataframe\">\n",
       "  <thead>\n",
       "    <tr style=\"text-align: right;\">\n",
       "      <th></th>\n",
       "      <th>Student</th>\n",
       "      <th>Python</th>\n",
       "      <th>Math</th>\n",
       "    </tr>\n",
       "  </thead>\n",
       "  <tbody>\n",
       "    <tr>\n",
       "      <th>0</th>\n",
       "      <td>Student 1</td>\n",
       "      <td>85</td>\n",
       "      <td>80</td>\n",
       "    </tr>\n",
       "    <tr>\n",
       "      <th>1</th>\n",
       "      <td>Student 2</td>\n",
       "      <td>70</td>\n",
       "      <td>75</td>\n",
       "    </tr>\n",
       "    <tr>\n",
       "      <th>2</th>\n",
       "      <td>Student 3</td>\n",
       "      <td>90</td>\n",
       "      <td>85</td>\n",
       "    </tr>\n",
       "  </tbody>\n",
       "</table>\n",
       "</div>"
      ],
      "text/plain": [
       "     Student  Python  Math\n",
       "0  Student 1      85    80\n",
       "1  Student 2      70    75\n",
       "2  Student 3      90    85"
      ]
     },
     "execution_count": 91,
     "metadata": {},
     "output_type": "execute_result"
    }
   ],
   "source": [
    "import pandas as pd\n",
    "import matplotlib.pyplot as plt\n",
    "import numpy as np\n",
    "from numpy.linalg import eig\n",
    "\n",
    "data = {\n",
    "    'Student': ['Student 1', 'Student 2', 'Student 3'],\n",
    "    'Python': [85, 70, 90],\n",
    "    'Math': [80, 75, 85]\n",
    "}\n",
    "\n",
    "df = pd.DataFrame(data)\n",
    "df"
   ]
  },
  {
   "cell_type": "code",
   "execution_count": 92,
   "id": "d39be3a0",
   "metadata": {},
   "outputs": [
    {
     "data": {
      "image/png": "[encoded data removed]",
      "text/plain": [
       "<Figure size 1000x800 with 1 Axes>"
      ]
     },
     "metadata": {},
     "output_type": "display_data"
    }
   ],
   "source": [
    "# Plotting the original data\n",
    "plt.figure(figsize=(10, 8))\n",
    "\n",
    "for i, student in enumerate(df['Student']):\n",
    "    plt.scatter(df.loc[i, 'Python'], df.loc[i, 'Math'], label=student, marker='o')\n",
    "\n",
    "plt.title('Original Data Plot')\n",
    "plt.xlabel('Python Scores')\n",
    "plt.ylabel('Math Scores')\n",
    "plt.legend()\n",
    "plt.grid(True)\n",
    "plt.show()"
   ]
  },
  {
   "cell_type": "code",
   "execution_count": 93,
   "id": "abc1258e",
   "metadata": {},
   "outputs": [
    {
     "name": "stdout",
     "output_type": "stream",
     "text": [
      "Mean Python score: 81.66666666666667\n",
      "Mean Math score: 80.0\n"
     ]
    }
   ],
   "source": [
    "# Calculate the mean of Python and Math scores\n",
    "mean_python = df['Python'].mean()\n",
    "mean_math = df['Math'].mean()\n",
    "\n",
    "# Print the means\n",
    "print(f\"Mean Python score: {mean_python}\")\n",
    "print(f\"Mean Math score: {mean_math}\")"
   ]
  },
  {
   "cell_type": "code",
   "execution_count": 94,
   "id": "05d0a6ce",
   "metadata": {},
   "outputs": [
    {
     "name": "stdout",
     "output_type": "stream",
     "text": [
      "Centered Data:\n",
      "     Student     Python  Math\n",
      "0  Student 1   3.333333   0.0\n",
      "1  Student 2 -11.666667  -5.0\n",
      "2  Student 3   8.333333   5.0\n"
     ]
    }
   ],
   "source": [
    "# Center the data by subtracting the mean from each score\n",
    "df_centered = df.copy() # I make a copy of the data\n",
    "df_centered['Python'] = df['Python'] - mean_python\n",
    "df_centered['Math'] = df['Math'] - mean_math\n",
    "\n",
    "# Print the centered data\n",
    "print(\"Centered Data:\")\n",
    "print(df_centered)"
   ]
  },
  {
   "cell_type": "code",
   "execution_count": 95,
   "id": "fa942be2",
   "metadata": {},
   "outputs": [
    {
     "data": {
      "image/png": "[encoded data removed]",
      "text/plain": [
       "<Figure size 1000x800 with 1 Axes>"
      ]
     },
     "metadata": {},
     "output_type": "display_data"
    }
   ],
   "source": [
    "# Plotting the centered data\n",
    "plt.figure(figsize=(10, 8))\n",
    "\n",
    "for i, student in enumerate(df['Student']):\n",
    "    plt.scatter(df_centered.loc[i, 'Python'], df_centered.loc[i, 'Math'], label=student, marker='o')\n",
    "\n",
    "plt.axhline(0, color='grey', linestyle='--')\n",
    "plt.axvline(0, color='grey', linestyle='--')\n",
    "plt.title('Centered Data Plot')\n",
    "plt.xlabel('Centered Python Scores')\n",
    "plt.ylabel('Centered Math Scores')\n",
    "plt.legend()\n",
    "plt.grid(True)\n",
    "plt.show()"
   ]
  },
  {
   "cell_type": "code",
   "execution_count": 96,
   "id": "caa79fcb",
   "metadata": {},
   "outputs": [
    {
     "data": {
      "text/html": [
       "<div>\n",
       "<style scoped>\n",
       "    .dataframe tbody tr th:only-of-type {\n",
       "        vertical-align: middle;\n",
       "    }\n",
       "\n",
       "    .dataframe tbody tr th {\n",
       "        vertical-align: top;\n",
       "    }\n",
       "\n",
       "    .dataframe thead th {\n",
       "        text-align: right;\n",
       "    }\n",
       "</style>\n",
       "<table border=\"1\" class=\"dataframe\">\n",
       "  <thead>\n",
       "    <tr style=\"text-align: right;\">\n",
       "      <th></th>\n",
       "      <th>Student</th>\n",
       "      <th>Python</th>\n",
       "      <th>Math</th>\n",
       "    </tr>\n",
       "  </thead>\n",
       "  <tbody>\n",
       "    <tr>\n",
       "      <th>0</th>\n",
       "      <td>Student 1</td>\n",
       "      <td>3.333333</td>\n",
       "      <td>0.0</td>\n",
       "    </tr>\n",
       "    <tr>\n",
       "      <th>1</th>\n",
       "      <td>Student 2</td>\n",
       "      <td>-11.666667</td>\n",
       "      <td>-5.0</td>\n",
       "    </tr>\n",
       "    <tr>\n",
       "      <th>2</th>\n",
       "      <td>Student 3</td>\n",
       "      <td>8.333333</td>\n",
       "      <td>5.0</td>\n",
       "    </tr>\n",
       "  </tbody>\n",
       "</table>\n",
       "</div>"
      ],
      "text/plain": [
       "     Student     Python  Math\n",
       "0  Student 1   3.333333   0.0\n",
       "1  Student 2 -11.666667  -5.0\n",
       "2  Student 3   8.333333   5.0"
      ]
     },
     "execution_count": 96,
     "metadata": {},
     "output_type": "execute_result"
    }
   ],
   "source": [
    "df_centered"
   ]
  },
  {
   "cell_type": "code",
   "execution_count": 97,
   "id": "10773a62",
   "metadata": {},
   "outputs": [
    {
     "data": {
      "text/plain": [
       "array([[  3.33333333,   0.        ],\n",
       "       [-11.66666667,  -5.        ],\n",
       "       [  8.33333333,   5.        ]])"
      ]
     },
     "execution_count": 97,
     "metadata": {},
     "output_type": "execute_result"
    }
   ],
   "source": [
    "X_centered = df_centered[['Python', 'Math']].values\n",
    "X_centered "
   ]
  },
  {
   "cell_type": "code",
   "execution_count": 98,
   "id": "110f2d9c",
   "metadata": {},
   "outputs": [
    {
     "data": {
      "text/plain": [
       "array([[108.33333333,  50.        ],\n",
       "       [ 50.        ,  25.        ]])"
      ]
     },
     "execution_count": 98,
     "metadata": {},
     "output_type": "execute_result"
    }
   ],
   "source": [
    "cov_mat = np.cov(X_centered.T)\n",
    "cov_mat"
   ]
  },
  {
   "cell_type": "code",
   "execution_count": 99,
   "id": "c2ba43e4",
   "metadata": {},
   "outputs": [
    {
     "name": "stdout",
     "output_type": "stream",
     "text": [
      "Eigenvalues :\n",
      "[131.75208063   1.5812527 ]\n",
      "Eigenvectors :\n",
      "[[ 0.90558942 -0.4241554 ]\n",
      " [ 0.4241554   0.90558942]]\n"
     ]
    }
   ],
   "source": [
    "Eval, Evec = eig(cov_mat)\n",
    "print('Eigenvalues :')\n",
    "print(Eval)\n",
    "print('Eigenvectors :')\n",
    "print(Evec)"
   ]
  },
  {
   "cell_type": "code",
   "execution_count": 100,
   "id": "b65b4af4",
   "metadata": {
    "scrolled": true
   },
   "outputs": [
    {
     "data": {
      "text/plain": [
       "array([[  3.0186314 ,  -1.41385132],\n",
       "       [-12.6859869 ,   0.42053252],\n",
       "       [  9.66735549,   0.9933188 ]])"
      ]
     },
     "execution_count": 100,
     "metadata": {},
     "output_type": "execute_result"
    }
   ],
   "source": [
    "# Projection\n",
    "projected_data = Evec.T.dot(X_centered.T)\n",
    "projected_data.T"
   ]
  },
  {
   "cell_type": "markdown",
   "id": "ac75d3f3",
   "metadata": {},
   "source": [
    "<center><h1 style=\"background-color: #C6F3CD; border-radius: 10px; color: #FFFFFF; padding: 5px;\">\n",
    "PCA with SKLEARN\n",
    "</h1><center/>"
   ]
  },
  {
   "cell_type": "code",
   "execution_count": 58,
   "id": "cbd3b767",
   "metadata": {},
   "outputs": [],
   "source": [
    "df2 = np.array([[85,80],[70,75],[90,85]])"
   ]
  },
  {
   "cell_type": "code",
   "execution_count": 88,
   "id": "c7e76a7a",
   "metadata": {},
   "outputs": [
    {
     "data": {
      "text/plain": [
       "array([[  3.0186314 ,  -1.41385132],\n",
       "       [-12.6859869 ,   0.42053252],\n",
       "       [  9.66735549,   0.9933188 ]])"
      ]
     },
     "execution_count": 88,
     "metadata": {},
     "output_type": "execute_result"
    }
   ],
   "source": [
    "from sklearn.decomposition import PCA\n",
    "pca = PCA(n_components=2)\n",
    "pca.fit_transform(df2)"
   ]
  },
  {
   "cell_type": "code",
   "execution_count": 101,
   "id": "9687e586",
   "metadata": {},
   "outputs": [
    {
     "data": {
      "text/plain": [
       "array([0.9881406, 0.0118594])"
      ]
     },
     "execution_count": 101,
     "metadata": {},
     "output_type": "execute_result"
    }
   ],
   "source": [
    "pca.explained_variance_ratio_"
   ]
  },
  {
   "cell_type": "code",
   "execution_count": 102,
   "id": "5f7b95bf",
   "metadata": {},
   "outputs": [
    {
     "data": {
      "text/html": [
       "<div>\n",
       "<style scoped>\n",
       "    .dataframe tbody tr th:only-of-type {\n",
       "        vertical-align: middle;\n",
       "    }\n",
       "\n",
       "    .dataframe tbody tr th {\n",
       "        vertical-align: top;\n",
       "    }\n",
       "\n",
       "    .dataframe thead th {\n",
       "        text-align: right;\n",
       "    }\n",
       "</style>\n",
       "<table border=\"1\" class=\"dataframe\">\n",
       "  <thead>\n",
       "    <tr style=\"text-align: right;\">\n",
       "      <th></th>\n",
       "      <th>PC1</th>\n",
       "      <th>PC2</th>\n",
       "    </tr>\n",
       "  </thead>\n",
       "  <tbody>\n",
       "    <tr>\n",
       "      <th>0</th>\n",
       "      <td>3.018631</td>\n",
       "      <td>-1.413851</td>\n",
       "    </tr>\n",
       "    <tr>\n",
       "      <th>1</th>\n",
       "      <td>-12.685987</td>\n",
       "      <td>0.420533</td>\n",
       "    </tr>\n",
       "    <tr>\n",
       "      <th>2</th>\n",
       "      <td>9.667355</td>\n",
       "      <td>0.993319</td>\n",
       "    </tr>\n",
       "  </tbody>\n",
       "</table>\n",
       "</div>"
      ],
      "text/plain": [
       "         PC1       PC2\n",
       "0   3.018631 -1.413851\n",
       "1 -12.685987  0.420533\n",
       "2   9.667355  0.993319"
      ]
     },
     "execution_count": 102,
     "metadata": {},
     "output_type": "execute_result"
    }
   ],
   "source": [
    "pcadf = pd.DataFrame(data = pca.fit_transform(df2), columns = ['PC1', 'PC2'])\n",
    "pcadf"
   ]
  },
  {
   "cell_type": "code",
   "execution_count": null,
   "id": "8873d304",
   "metadata": {},
   "outputs": [],
   "source": []
  },
  {
   "cell_type": "code",
   "execution_count": null,
   "id": "db23bcec",
   "metadata": {},
   "outputs": [],
   "source": []
  }
 ],
 "metadata": {
  "kernelspec": {
   "display_name": "Python 3 (ipykernel)",
   "language": "python",
   "name": "python3"
  },
  "language_info": {
   "codemirror_mode": {
    "name": "ipython",
    "version": 3
   },
   "file_extension": ".py",
   "mimetype": "text/x-python",
   "name": "python",
   "nbconvert_exporter": "python",
   "pygments_lexer": "ipython3",
   "version": "3.11.5"
  }
 },
 "nbformat": 4,
 "nbformat_minor": 5
}
