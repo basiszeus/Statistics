{
 "cells": [
  {
   "cell_type": "markdown",
   "id": "7c2fd373",
   "metadata": {},
   "source": [
    "<center><h1 style=\"background-color: #C6F3CD; border-radius: 10px; color: #FFFFFF; padding: 5px;\">\n",
    "Building Recommendation engines using ALS\n",
    "</h1><center/>"
   ]
  },
  {
   "cell_type": "markdown",
   "id": "bdfa8b4c",
   "metadata": {},
   "source": [
    "**Link to the article** : https://medium.com/@soulawalid/building-recommendation-engines-using-als-bf5823308b6b?sk=c31f611636789af3279db4a346301942"
   ]
  },
  {
   "cell_type": "code",
   "execution_count": 1,
   "id": "eef64054",
   "metadata": {},
   "outputs": [
    {
     "name": "stdout",
     "output_type": "stream",
     "text": [
      "Requirement already satisfied: implicit in c:\\users\\walid\\anaconda3\\lib\\site-packages (0.7.2)\n",
      "Requirement already satisfied: pandas in c:\\users\\walid\\anaconda3\\lib\\site-packages (2.2.2)\n",
      "Requirement already satisfied: scipy in c:\\users\\walid\\anaconda3\\lib\\site-packages (1.12.0)\n",
      "Requirement already satisfied: numpy in c:\\users\\walid\\appdata\\roaming\\python\\python311\\site-packages (1.26.4)\n",
      "Requirement already satisfied: tqdm>=4.27 in c:\\users\\walid\\anaconda3\\lib\\site-packages (from implicit) (4.66.2)\n",
      "Requirement already satisfied: threadpoolctl in c:\\users\\walid\\anaconda3\\lib\\site-packages (from implicit) (3.5.0)\n",
      "Requirement already satisfied: python-dateutil>=2.8.2 in c:\\users\\walid\\anaconda3\\lib\\site-packages (from pandas) (2.8.2)\n",
      "Requirement already satisfied: pytz>=2020.1 in c:\\users\\walid\\anaconda3\\lib\\site-packages (from pandas) (2023.3.post1)\n",
      "Requirement already satisfied: tzdata>=2022.7 in c:\\users\\walid\\anaconda3\\lib\\site-packages (from pandas) (2023.3)\n",
      "Requirement already satisfied: six>=1.5 in c:\\users\\walid\\anaconda3\\lib\\site-packages (from python-dateutil>=2.8.2->pandas) (1.16.0)\n",
      "Requirement already satisfied: colorama in c:\\users\\walid\\anaconda3\\lib\\site-packages (from tqdm>=4.27->implicit) (0.4.6)\n"
     ]
    }
   ],
   "source": [
    "! pip install implicit pandas scipy numpy"
   ]
  },
  {
   "cell_type": "code",
   "execution_count": 2,
   "id": "921ad70b",
   "metadata": {},
   "outputs": [],
   "source": [
    "import numpy as np\n",
    "import pandas as pd\n",
    "import scipy.sparse as sparse\n",
    "from implicit.als import AlternatingLeastSquares"
   ]
  },
  {
   "cell_type": "code",
   "execution_count": 3,
   "id": "765cb933",
   "metadata": {},
   "outputs": [],
   "source": [
    "# Sample user-item interaction data\n",
    "data = {\n",
    "    'user_id': [0, 0, 1, 1, 2, 2, 3, 3],\n",
    "    'item_id': [0, 1, 1, 2, 2, 3, 3, 0],\n",
    "    'interaction': [1, 2, 3, 4, 5, 6, 7, 8]  # Could represent clicks, views, etc.\n",
    "}\n",
    "\n",
    "df = pd.DataFrame(data)\n",
    "\n",
    "# Convert to sparse matrix format\n",
    "user_item_matrix = sparse.coo_matrix(\n",
    "    (df['interaction'], (df['user_id'], df['item_id']))\n",
    ")\n",
    "\n",
    "# ✅ Convert to CSR format (required for recommend function)\n",
    "user_item_matrix = user_item_matrix.tocsr()"
   ]
  },
  {
   "cell_type": "code",
   "execution_count": 4,
   "id": "c0f8e393",
   "metadata": {},
   "outputs": [
    {
     "name": "stderr",
     "output_type": "stream",
     "text": [
      "C:\\Users\\Walid\\anaconda3\\Lib\\site-packages\\implicit\\cpu\\als.py:95: RuntimeWarning: OpenBLAS is configured to use 8 threads. It is highly recommended to disable its internal threadpool by setting the environment variable 'OPENBLAS_NUM_THREADS=1' or by calling 'threadpoolctl.threadpool_limits(1, \"blas\")'. Having OpenBLAS use a threadpool can lead to severe performance issues here.\n",
      "  check_blas_config()\n",
      "C:\\Users\\Walid\\anaconda3\\Lib\\site-packages\\implicit\\utils.py:164: ParameterWarning: Method expects CSR input, and was passed csc_matrix instead. Converting to CSR took 0.0 seconds\n",
      "  warnings.warn(\n"
     ]
    },
    {
     "data": {
      "application/vnd.jupyter.widget-view+json": {
       "model_id": "d75c535405b24d8298c20c02357a0cdd",
       "version_major": 2,
       "version_minor": 0
      },
      "text/plain": [
       "  0%|          | 0/10 [00:00<?, ?it/s]"
      ]
     },
     "metadata": {},
     "output_type": "display_data"
    }
   ],
   "source": [
    "# Initialize ALS model\n",
    "als_model = AlternatingLeastSquares(factors=5, regularization=0.1, iterations=10)\n",
    "\n",
    "# Train model (Implicit library requires a \"confidence\" matrix, so we use .T)\n",
    "als_model.fit(user_item_matrix.T)"
   ]
  },
  {
   "cell_type": "code",
   "execution_count": 5,
   "id": "4ce28543",
   "metadata": {},
   "outputs": [],
   "source": [
    "user_id = 1  # Example user\n",
    "recommendations = als_model.recommend(user_id, user_item_matrix.getrow(user_id), N=3)"
   ]
  },
  {
   "cell_type": "code",
   "execution_count": 6,
   "id": "92494bfd",
   "metadata": {},
   "outputs": [
    {
     "name": "stdout",
     "output_type": "stream",
     "text": [
      "\n",
      "📌 Top Recommended Items:\n",
      "─────────────────────────\n",
      "🔹 Rank 1: Azurite (ID: 0) → Score: 0.9530\n",
      "🔹 Rank 2: Agate (ID: 3) → Score: 0.0244\n",
      "─────────────────────────\n",
      "\n"
     ]
    }
   ],
   "source": [
    "item_mapping = {\n",
    "    0: \"Azurite\",\n",
    "    1: \"Cyanite\",\n",
    "    2: \"Larimar\", \n",
    "    3: \"Agate\"\n",
    "}\n",
    "\n",
    "# Extract item IDs and scores\n",
    "item_ids, scores = recommendations\n",
    "\n",
    "# Create a clean display format\n",
    "print(\"\\n📌 Top Recommended Items:\")\n",
    "print(\"─────────────────────────\")\n",
    "for rank, (item_id, score) in enumerate(zip(item_ids, scores), start=1):\n",
    "    if score > -1e+10:  # Ignore extreme negative scores\n",
    "        item_name = item_mapping.get(item_id, f\"Item {item_id}\")  # Get name or default to ID\n",
    "        print(f\"🔹 Rank {rank}: {item_name} (ID: {item_id}) → Score: {score:.4f}\")\n",
    "print(\"─────────────────────────\\n\")"
   ]
  },
  {
   "cell_type": "markdown",
   "id": "44eeb104",
   "metadata": {},
   "source": [
    "Since Azurite (ID: 0) has the highest recommendation score (0.9485), the ALS model suggests that User 1 is most likely to prefer Azurite over the other options"
   ]
  },
  {
   "cell_type": "markdown",
   "id": "1a3c47f5",
   "metadata": {},
   "source": [
    "# Explicit "
   ]
  },
  {
   "cell_type": "code",
   "execution_count": 7,
   "id": "f833cf0d",
   "metadata": {},
   "outputs": [
    {
     "name": "stdout",
     "output_type": "stream",
     "text": [
      "Requirement already satisfied: pyspark in c:\\users\\walid\\anaconda3\\lib\\site-packages (3.5.1)\n",
      "Requirement already satisfied: py4j==0.10.9.7 in c:\\users\\walid\\anaconda3\\lib\\site-packages (from pyspark) (0.10.9.7)\n",
      "Note: you may need to restart the kernel to use updated packages.\n"
     ]
    }
   ],
   "source": [
    "pip install pyspark"
   ]
  },
  {
   "cell_type": "code",
   "execution_count": 8,
   "id": "c262c62f",
   "metadata": {},
   "outputs": [],
   "source": [
    "from pyspark.sql import SparkSession\n",
    "from pyspark.ml.recommendation import ALS\n",
    "from pyspark.sql.functions import col"
   ]
  },
  {
   "cell_type": "code",
   "execution_count": 9,
   "id": "b32b84fe",
   "metadata": {},
   "outputs": [],
   "source": [
    "spark = SparkSession.builder.appName(\"ALSExample\").getOrCreate()"
   ]
  },
  {
   "cell_type": "code",
   "execution_count": 10,
   "id": "3cdbc04c",
   "metadata": {},
   "outputs": [
    {
     "name": "stdout",
     "output_type": "stream",
     "text": [
      "+-------+-------+------+\n",
      "|user_id|item_id|rating|\n",
      "+-------+-------+------+\n",
      "|      0|      0|   5.0|\n",
      "|      0|      1|   3.0|\n",
      "|      1|      1|   4.0|\n",
      "|      1|      2|   4.0|\n",
      "|      2|      2|   5.0|\n",
      "|      2|      3|   3.0|\n",
      "|      3|      3|   4.0|\n",
      "|      3|      0|   2.0|\n",
      "+-------+-------+------+\n",
      "\n"
     ]
    }
   ],
   "source": [
    "ratings_data = [\n",
    "    (0, 0, 5.0), (0, 1, 3.0), (1, 1, 4.0),\n",
    "    (1, 2, 4.0), (2, 2, 5.0), (2, 3, 3.0),\n",
    "    (3, 3, 4.0), (3, 0, 2.0)\n",
    "]\n",
    "columns = [\"user_id\", \"item_id\", \"rating\"]\n",
    "\n",
    "ratings_df = spark.createDataFrame(ratings_data, columns)\n",
    "ratings_df.show()"
   ]
  },
  {
   "cell_type": "code",
   "execution_count": 11,
   "id": "269ee1bc",
   "metadata": {},
   "outputs": [],
   "source": [
    "als = ALS(\n",
    "    maxIter=10,  # Number of iterations\n",
    "    regParam=0.1,  # Regularization parameter\n",
    "    userCol=\"user_id\",\n",
    "    itemCol=\"item_id\",\n",
    "    ratingCol=\"rating\",\n",
    "    coldStartStrategy=\"drop\"  # Drop users/items with no history\n",
    ")\n",
    "\n",
    "model = als.fit(ratings_df)"
   ]
  },
  {
   "cell_type": "code",
   "execution_count": 12,
   "id": "fbe2378d",
   "metadata": {},
   "outputs": [
    {
     "name": "stdout",
     "output_type": "stream",
     "text": [
      "+-------+------------------------------------------------+\n",
      "|user_id|recommendations                                 |\n",
      "+-------+------------------------------------------------+\n",
      "|0      |[{0, 4.843926}, {1, 3.0059536}, {2, 2.9161665}] |\n",
      "|1      |[{2, 4.0052705}, {1, 3.8317149}, {0, 3.2888417}]|\n",
      "|2      |[{2, 4.8638043}, {1, 3.3661618}, {3, 3.0026472}]|\n",
      "|3      |[{3, 3.845995}, {2, 3.3937259}, {0, 2.0039403}] |\n",
      "+-------+------------------------------------------------+\n",
      "\n"
     ]
    }
   ],
   "source": [
    "user_recommendations = model.recommendForAllUsers(3)\n",
    "user_recommendations.show(truncate=False)"
   ]
  },
  {
   "cell_type": "code",
   "execution_count": 13,
   "id": "97042b9a",
   "metadata": {},
   "outputs": [],
   "source": [
    "item_mapping = {\n",
    "    0: \"Azurite\",\n",
    "    1: \"Cyanite\",\n",
    "    2: \"Larimar\", \n",
    "    3: \"Agate\"\n",
    "}"
   ]
  },
  {
   "cell_type": "code",
   "execution_count": 14,
   "id": "b3da8ca3",
   "metadata": {},
   "outputs": [],
   "source": [
    "from pyspark.sql.functions import udf\n",
    "from pyspark.sql.types import ArrayType, StructType, StructField, StringType, FloatType\n",
    "\n",
    "# Define a UDF to replace item IDs with names\n",
    "def map_items(recommendations):\n",
    "    return [(item_mapping.get(item_id, \"Unknown\"), score) for item_id, score in recommendations]\n",
    "\n",
    "map_items_udf = udf(map_items, ArrayType(StructType([\n",
    "    StructField(\"item_name\", StringType(), True),\n",
    "    StructField(\"rating\", FloatType(), True)\n",
    "])))"
   ]
  },
  {
   "cell_type": "code",
   "execution_count": 15,
   "id": "e9bdc798",
   "metadata": {},
   "outputs": [
    {
     "name": "stdout",
     "output_type": "stream",
     "text": [
      "+-------+------------------------------------------------------------------+\n",
      "|user_id|recommendations                                                   |\n",
      "+-------+------------------------------------------------------------------+\n",
      "|0      |[{Azurite, 4.843926}, {Cyanite, 3.0059536}, {Larimar, 2.9161665}] |\n",
      "|1      |[{Larimar, 4.0052705}, {Cyanite, 3.8317149}, {Azurite, 3.2888417}]|\n",
      "|2      |[{Larimar, 4.8638043}, {Cyanite, 3.3661618}, {Agate, 3.0026472}]  |\n",
      "|3      |[{Agate, 3.845995}, {Larimar, 3.3937259}, {Azurite, 2.0039403}]   |\n",
      "+-------+------------------------------------------------------------------+\n",
      "\n"
     ]
    }
   ],
   "source": [
    "# Apply mapping to user recommendations\n",
    "user_recommendations_named = user_recommendations.withColumn(\n",
    "    \"recommendations\", map_items_udf(\"recommendations\")\n",
    ")\n",
    "\n",
    "# Show results\n",
    "user_recommendations_named.show(truncate=False)"
   ]
  },
  {
   "cell_type": "markdown",
   "id": "50d37185",
   "metadata": {},
   "source": [
    "# Weights and Multiple Interactions"
   ]
  },
  {
   "cell_type": "code",
   "execution_count": 16,
   "id": "b798e2c0",
   "metadata": {},
   "outputs": [
    {
     "data": {
      "text/html": [
       "<div>\n",
       "<style scoped>\n",
       "    .dataframe tbody tr th:only-of-type {\n",
       "        vertical-align: middle;\n",
       "    }\n",
       "\n",
       "    .dataframe tbody tr th {\n",
       "        vertical-align: top;\n",
       "    }\n",
       "\n",
       "    .dataframe thead th {\n",
       "        text-align: right;\n",
       "    }\n",
       "</style>\n",
       "<table border=\"1\" class=\"dataframe\">\n",
       "  <thead>\n",
       "    <tr style=\"text-align: right;\">\n",
       "      <th></th>\n",
       "      <th>user_id</th>\n",
       "      <th>item_id</th>\n",
       "      <th>likes</th>\n",
       "      <th>comments</th>\n",
       "      <th>interaction_score</th>\n",
       "    </tr>\n",
       "  </thead>\n",
       "  <tbody>\n",
       "    <tr>\n",
       "      <th>0</th>\n",
       "      <td>0</td>\n",
       "      <td>0</td>\n",
       "      <td>2</td>\n",
       "      <td>0</td>\n",
       "      <td>0.8</td>\n",
       "    </tr>\n",
       "    <tr>\n",
       "      <th>1</th>\n",
       "      <td>0</td>\n",
       "      <td>1</td>\n",
       "      <td>1</td>\n",
       "      <td>3</td>\n",
       "      <td>2.2</td>\n",
       "    </tr>\n",
       "    <tr>\n",
       "      <th>2</th>\n",
       "      <td>1</td>\n",
       "      <td>1</td>\n",
       "      <td>3</td>\n",
       "      <td>1</td>\n",
       "      <td>1.8</td>\n",
       "    </tr>\n",
       "    <tr>\n",
       "      <th>3</th>\n",
       "      <td>1</td>\n",
       "      <td>2</td>\n",
       "      <td>0</td>\n",
       "      <td>4</td>\n",
       "      <td>2.4</td>\n",
       "    </tr>\n",
       "    <tr>\n",
       "      <th>4</th>\n",
       "      <td>2</td>\n",
       "      <td>2</td>\n",
       "      <td>5</td>\n",
       "      <td>0</td>\n",
       "      <td>2.0</td>\n",
       "    </tr>\n",
       "    <tr>\n",
       "      <th>5</th>\n",
       "      <td>2</td>\n",
       "      <td>3</td>\n",
       "      <td>2</td>\n",
       "      <td>6</td>\n",
       "      <td>4.4</td>\n",
       "    </tr>\n",
       "    <tr>\n",
       "      <th>6</th>\n",
       "      <td>3</td>\n",
       "      <td>3</td>\n",
       "      <td>0</td>\n",
       "      <td>7</td>\n",
       "      <td>4.2</td>\n",
       "    </tr>\n",
       "    <tr>\n",
       "      <th>7</th>\n",
       "      <td>3</td>\n",
       "      <td>0</td>\n",
       "      <td>4</td>\n",
       "      <td>2</td>\n",
       "      <td>2.8</td>\n",
       "    </tr>\n",
       "  </tbody>\n",
       "</table>\n",
       "</div>"
      ],
      "text/plain": [
       "   user_id  item_id  likes  comments  interaction_score\n",
       "0        0        0      2         0                0.8\n",
       "1        0        1      1         3                2.2\n",
       "2        1        1      3         1                1.8\n",
       "3        1        2      0         4                2.4\n",
       "4        2        2      5         0                2.0\n",
       "5        2        3      2         6                4.4\n",
       "6        3        3      0         7                4.2\n",
       "7        3        0      4         2                2.8"
      ]
     },
     "execution_count": 16,
     "metadata": {},
     "output_type": "execute_result"
    }
   ],
   "source": [
    "import pandas as pd\n",
    "import numpy as np\n",
    "from scipy.sparse import coo_matrix\n",
    "from implicit.als import AlternatingLeastSquares\n",
    "\n",
    "# Define weights for different interactions\n",
    "WEIGHT_LIKE = 0.4\n",
    "WEIGHT_COMMENT = 0.6\n",
    "\n",
    "# Sample data with separate interactions\n",
    "data = {\n",
    "    'user_id': [0, 0, 1, 1, 2, 2, 3, 3],\n",
    "    'item_id': [0, 1, 1, 2, 2, 3, 3, 0],\n",
    "    'likes':    [2, 1, 3, 0, 5, 2, 0, 4],  # Number of likes\n",
    "    'comments': [0, 3, 1, 4, 0, 6, 7, 2]   # Number of comments\n",
    "}\n",
    "\n",
    "df = pd.DataFrame(data)\n",
    "\n",
    "# Compute a weighted interaction score\n",
    "df[\"interaction_score\"] = df[\"likes\"] * WEIGHT_LIKE + df[\"comments\"] * WEIGHT_COMMENT\n",
    "\n",
    "df"
   ]
  },
  {
   "cell_type": "code",
   "execution_count": 17,
   "id": "60141053",
   "metadata": {},
   "outputs": [],
   "source": [
    "# Convert DataFrame to sparse matrix format\n",
    "user_ids = df[\"user_id\"].astype(np.int32)\n",
    "item_ids = df[\"item_id\"].astype(np.int32)\n",
    "scores = df[\"interaction_score\"].astype(np.float32)\n",
    "\n",
    "user_item_matrix = coo_matrix((scores, (user_ids, item_ids)))\n",
    "\n",
    "# Convert to CSR format (required for ALS)\n",
    "user_item_matrix = user_item_matrix.tocsr()"
   ]
  },
  {
   "cell_type": "code",
   "execution_count": 18,
   "id": "cc01be3c",
   "metadata": {},
   "outputs": [
    {
     "name": "stderr",
     "output_type": "stream",
     "text": [
      "C:\\Users\\Walid\\anaconda3\\Lib\\site-packages\\implicit\\utils.py:164: ParameterWarning: Method expects CSR input, and was passed csc_matrix instead. Converting to CSR took 0.0 seconds\n",
      "  warnings.warn(\n"
     ]
    },
    {
     "data": {
      "application/vnd.jupyter.widget-view+json": {
       "model_id": "3a2aea91991b4fb1b433c6ce9472f167",
       "version_major": 2,
       "version_minor": 0
      },
      "text/plain": [
       "  0%|          | 0/10 [00:00<?, ?it/s]"
      ]
     },
     "metadata": {},
     "output_type": "display_data"
    }
   ],
   "source": [
    "# Train ALS model\n",
    "als_model = AlternatingLeastSquares(factors=5, regularization=0.1, iterations=10)\n",
    "\n",
    "# ALS expects item-user matrix, so transpose it\n",
    "als_model.fit(user_item_matrix.T)"
   ]
  },
  {
   "cell_type": "code",
   "execution_count": 19,
   "id": "09b14ab3",
   "metadata": {},
   "outputs": [
    {
     "name": "stdout",
     "output_type": "stream",
     "text": [
      "\n",
      "📌 Top Recommended Items:\n",
      "─────────────────────────\n",
      "🔹 Rank 1: Azurite (ID: 0) → Score: 0.9587\n",
      "🔹 Rank 2: Agate (ID: 3) → Score: 0.0162\n",
      "─────────────────────────\n",
      "\n"
     ]
    }
   ],
   "source": [
    "user_id = 1  # Example user\n",
    "\n",
    "recommendations = als_model.recommend(user_id, user_item_matrix.getrow(user_id), N=3)\n",
    "\n",
    "# Item name mapping\n",
    "item_mapping = {\n",
    "    0: \"Azurite\",\n",
    "    1: \"Cyanite\",\n",
    "    2: \"Larimar\", \n",
    "    3: \"Agate\"\n",
    "}\n",
    "\n",
    "# Extract item IDs and scores\n",
    "item_ids, scores = recommendations\n",
    "\n",
    "print(\"\\n📌 Top Recommended Items:\")\n",
    "print(\"─────────────────────────\")\n",
    "for rank, (item_id, score) in enumerate(zip(item_ids, scores), start=1):\n",
    "    if score > -1e+10:  # Ignore extreme negative scores\n",
    "        item_name = item_mapping.get(item_id, f\"Item {item_id}\")  \n",
    "        print(f\"🔹 Rank {rank}: {item_name} (ID: {item_id}) → Score: {score:.4f}\")\n",
    "print(\"─────────────────────────\\n\")"
   ]
  }
 ],
 "metadata": {
  "kernelspec": {
   "display_name": "Python 3 (ipykernel)",
   "language": "python",
   "name": "python3"
  },
  "language_info": {
   "codemirror_mode": {
    "name": "ipython",
    "version": 3
   },
   "file_extension": ".py",
   "mimetype": "text/x-python",
   "name": "python",
   "nbconvert_exporter": "python",
   "pygments_lexer": "ipython3",
   "version": "3.11.5"
  }
 },
 "nbformat": 4,
 "nbformat_minor": 5
}
