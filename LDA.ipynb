{
 "cells": [
  {
   "cell_type": "markdown",
   "id": "7c2fd373",
   "metadata": {},
   "source": [
    "<center><h1 style=\"background-color: #C6F3CD; border-radius: 10px; color: #FFFFFF; padding: 5px;\">\n",
    "LDA\n",
    "</h1><center/>"
   ]
  },
  {
   "cell_type": "markdown",
   "id": "4f4fde3b",
   "metadata": {},
   "source": [
    "Linear Discriminant Analysis (LDA) is a a supervised learning algorithm commonly used for dimensionality reduction like PCA and classification in machine learning and statistics.\n",
    "\n",
    "It is particularly useful when there are more features than samples, as it can help identify the most informative features to reduce dimensionality while preserving relevant information ! (example : radiomics)"
   ]
  },
  {
   "cell_type": "markdown",
   "id": "bdfa8b4c",
   "metadata": {},
   "source": [
    "**Link to the article** : https://medium.com/ai-in-plain-english/linear-discriminant-analysis-lda-94aad4fb3e6d?sk=ed1ba5e52777b2eb077d9c5c0a94c095"
   ]
  },
  {
   "cell_type": "code",
   "execution_count": 1,
   "id": "3d6feb70",
   "metadata": {},
   "outputs": [],
   "source": [
    "import numpy as np\n",
    "import matplotlib.pyplot as plt\n",
    "import pandas as pd\n",
    "from sklearn.datasets import load_iris\n",
    "from sklearn.discriminant_analysis import LinearDiscriminantAnalysis"
   ]
  },
  {
   "cell_type": "code",
   "execution_count": 2,
   "id": "83aa846f",
   "metadata": {},
   "outputs": [],
   "source": [
    "data = load_iris()\n",
    "x = data.data\n",
    "y = data.target\n",
    "feature_names = data.feature_names"
   ]
  },
  {
   "cell_type": "code",
   "execution_count": 3,
   "id": "03b277eb",
   "metadata": {},
   "outputs": [
    {
     "data": {
      "text/plain": [
       "array([0, 1, 2])"
      ]
     },
     "execution_count": 3,
     "metadata": {},
     "output_type": "execute_result"
    }
   ],
   "source": [
    "np.unique(y) #Categories"
   ]
  },
  {
   "cell_type": "code",
   "execution_count": 4,
   "id": "d926297e",
   "metadata": {
    "scrolled": false
   },
   "outputs": [],
   "source": [
    "lda = LinearDiscriminantAnalysis()\n",
    "lda_transformed = lda.fit_transform(x, y)"
   ]
  },
  {
   "cell_type": "code",
   "execution_count": 5,
   "id": "ce4aed32",
   "metadata": {},
   "outputs": [
    {
     "name": "stdout",
     "output_type": "stream",
     "text": [
      "Explained variance ratio for each LD: [0.9912126 0.0087874]\n"
     ]
    }
   ],
   "source": [
    "explained_variance_ratio = lda.explained_variance_ratio_\n",
    "print(\"Explained variance ratio for each LD:\", explained_variance_ratio)"
   ]
  },
  {
   "cell_type": "code",
   "execution_count": 6,
   "id": "5cdf4895",
   "metadata": {},
   "outputs": [
    {
     "name": "stdout",
     "output_type": "stream",
     "text": [
      "LDA Coefficients:\n",
      "Feature 'sepal length (cm)': [ 6.31475846 -1.53119919 -4.78355927]\n",
      "Feature 'sepal width (cm)': [12.13931718 -4.37604348 -7.7632737 ]\n",
      "Feature 'petal length (cm)': [-16.94642465   4.69566531  12.25075935]\n",
      "Feature 'petal width (cm)': [-20.77005459   3.06258539  17.7074692 ]\n"
     ]
    }
   ],
   "source": [
    "coefficients = lda.coef_\n",
    "print(\"LDA Coefficients:\")\n",
    "for feature_name, coef in zip(data.feature_names, coefficients.T):\n",
    "    print(f\"Feature '{feature_name}': {coef}\")"
   ]
  },
  {
   "cell_type": "code",
   "execution_count": 7,
   "id": "6f59d467",
   "metadata": {},
   "outputs": [
    {
     "ename": "NameError",
     "evalue": "name 'LDA_transformed' is not defined",
     "output_type": "error",
     "traceback": [
      "\u001b[1;31m---------------------------------------------------------------------------\u001b[0m",
      "\u001b[1;31mNameError\u001b[0m                                 Traceback (most recent call last)",
      "Cell \u001b[1;32mIn[7], line 3\u001b[0m\n\u001b[0;32m      1\u001b[0m plt\u001b[38;5;241m.\u001b[39mfigure(figsize\u001b[38;5;241m=\u001b[39m(\u001b[38;5;241m8\u001b[39m, \u001b[38;5;241m6\u001b[39m))\n\u001b[0;32m      2\u001b[0m \u001b[38;5;28;01mfor\u001b[39;00m label, color \u001b[38;5;129;01min\u001b[39;00m \u001b[38;5;28mzip\u001b[39m(np\u001b[38;5;241m.\u001b[39munique(y), [\u001b[38;5;124m'\u001b[39m\u001b[38;5;124mred\u001b[39m\u001b[38;5;124m'\u001b[39m, \u001b[38;5;124m'\u001b[39m\u001b[38;5;124mblue\u001b[39m\u001b[38;5;124m'\u001b[39m, \u001b[38;5;124m'\u001b[39m\u001b[38;5;124mgreen\u001b[39m\u001b[38;5;124m'\u001b[39m]):\n\u001b[1;32m----> 3\u001b[0m     plt\u001b[38;5;241m.\u001b[39mscatter(LDA_transformed[y \u001b[38;5;241m==\u001b[39m label, \u001b[38;5;241m0\u001b[39m], LDA_transformed[y \u001b[38;5;241m==\u001b[39m label, \u001b[38;5;241m1\u001b[39m], color\u001b[38;5;241m=\u001b[39mcolor, label\u001b[38;5;241m=\u001b[39mlabel)\n\u001b[0;32m      4\u001b[0m plt\u001b[38;5;241m.\u001b[39mtitle(\u001b[38;5;124m'\u001b[39m\u001b[38;5;124mLDA of Wine dataset\u001b[39m\u001b[38;5;124m'\u001b[39m)\n\u001b[0;32m      5\u001b[0m plt\u001b[38;5;241m.\u001b[39mxlabel(\u001b[38;5;124m'\u001b[39m\u001b[38;5;124mLD1\u001b[39m\u001b[38;5;124m'\u001b[39m)\n",
      "\u001b[1;31mNameError\u001b[0m: name 'LDA_transformed' is not defined"
     ]
    },
    {
     "data": {
      "text/plain": [
       "<Figure size 800x600 with 0 Axes>"
      ]
     },
     "metadata": {},
     "output_type": "display_data"
    }
   ],
   "source": [
    "plt.figure(figsize=(8, 6))\n",
    "for label, color in zip(np.unique(y), ['red', 'blue', 'green']):\n",
    "    plt.scatter(LDA_transformed[y == label, 0], LDA_transformed[y == label, 1], color=color, label=label)\n",
    "plt.title('LDA of Wine dataset')\n",
    "plt.xlabel('LD1')\n",
    "plt.ylabel('LD2')\n",
    "plt.legend(loc='best')\n",
    "plt.show()"
   ]
  },
  {
   "cell_type": "code",
   "execution_count": null,
   "id": "09b657ef",
   "metadata": {},
   "outputs": [],
   "source": [
    "coefficients = LDA.coef_"
   ]
  },
  {
   "cell_type": "code",
   "execution_count": null,
   "id": "eefed439",
   "metadata": {},
   "outputs": [],
   "source": [
    "feature_names = data.feature_names\n",
    "# Print feature contributions to each LD\n",
    "for i, feature_name in enumerate(feature_names):\n",
    "    print(f\"Feature '{feature_name}': {coefficients[:, i]}\")\n",
    "\n",
    "# Optionally, you can plot the LD coefficients\n",
    "plt.figure(figsize=(10, 6))\n",
    "plt.bar(range(len(feature_names)), coefficients[0], align='center', label='LD1')\n",
    "plt.xticks(range(len(feature_names)), feature_names, rotation=90)\n",
    "plt.xlabel('Features')\n",
    "plt.ylabel('LD Coefficients')\n",
    "plt.title('Coefficients of Features for LD1')\n",
    "plt.legend()\n",
    "plt.tight_layout()\n",
    "plt.show()"
   ]
  }
 ],
 "metadata": {
  "kernelspec": {
   "display_name": "Python 3 (ipykernel)",
   "language": "python",
   "name": "python3"
  },
  "language_info": {
   "codemirror_mode": {
    "name": "ipython",
    "version": 3
   },
   "file_extension": ".py",
   "mimetype": "text/x-python",
   "name": "python",
   "nbconvert_exporter": "python",
   "pygments_lexer": "ipython3",
   "version": "3.11.5"
  }
 },
 "nbformat": 4,
 "nbformat_minor": 5
}
