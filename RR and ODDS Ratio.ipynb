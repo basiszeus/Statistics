{
 "cells": [
  {
   "cell_type": "markdown",
   "id": "e52b292e",
   "metadata": {},
   "source": [
    "<center><h1> RR and ODDS Ratio <h1/><center/>"
   ]
  },
  {
   "cell_type": "markdown",
   "id": "132cd13b",
   "metadata": {},
   "source": [
    "Link to the article : https://medium.com/@soulawalid/data-science-relative-risk-odds-ratios-4bed115a3143"
   ]
  },
  {
   "cell_type": "markdown",
   "id": "c91c132d",
   "metadata": {},
   "source": [
    "## Relative Risk (RR)"
   ]
  },
  {
   "cell_type": "code",
   "execution_count": 1,
   "id": "69a67f94",
   "metadata": {},
   "outputs": [
    {
     "name": "stdout",
     "output_type": "stream",
     "text": [
      "Risk of diabetes in exposed group (with diabetic parents): 0.65\n",
      "Risk of diabetes in unexposed group (without diabetic parents): 0.3\n",
      "Relative Risk (RR): 2.166666666666667\n"
     ]
    }
   ],
   "source": [
    "# Define the number of people in each group and the number of cases of diabetes\n",
    "total_exposed = 100  # Total number of people with diabetic parents\n",
    "total_unexposed = 100  # Total number of people without diabetic parents\n",
    "diabetes_exposed = 65  # Number of people with diabetic parents who developed diabetes\n",
    "diabetes_unexposed = 30  # Number of people without diabetic parents who developed diabetes\n",
    "\n",
    "# Calculate the risk of diabetes in each group\n",
    "risk_exposed = diabetes_exposed / total_exposed\n",
    "risk_unexposed = diabetes_unexposed / total_unexposed\n",
    "\n",
    "# Calculate the relative risk\n",
    "relative_risk = risk_exposed / risk_unexposed\n",
    "\n",
    "print(\"Risk of diabetes in exposed group (with diabetic parents):\", risk_exposed)\n",
    "print(\"Risk of diabetes in unexposed group (without diabetic parents):\", risk_unexposed)\n",
    "print(\"Relative Risk (RR):\", relative_risk)"
   ]
  },
  {
   "cell_type": "markdown",
   "id": "b4d6675f",
   "metadata": {},
   "source": [
    "### Auto Analysis"
   ]
  },
  {
   "cell_type": "code",
   "execution_count": 2,
   "id": "5c641626",
   "metadata": {},
   "outputs": [
    {
     "name": "stdout",
     "output_type": "stream",
     "text": [
      "The relative risk (RR) is 2.166666666666667 which indicates that people with diabetic parents have a significantly higher risk of developing diabetes compared to those without diabetic parents.\n"
     ]
    }
   ],
   "source": [
    "# Define the relative risk threshold for significance\n",
    "relative_risk_threshold = 1.0\n",
    "\n",
    "# Perform the automated analysis\n",
    "if relative_risk > relative_risk_threshold:\n",
    "    print(\"The relative risk (RR) is\", relative_risk, \"which indicates that people with diabetic parents have a significantly higher risk of developing diabetes compared to those without diabetic parents.\")\n",
    "elif relative_risk < relative_risk_threshold:\n",
    "    print(\"The relative risk (RR) is\", relative_risk, \"which suggests that there is no significant difference in the risk of developing diabetes between people with and without diabetic parents.\")\n",
    "else:\n",
    "    print(\"The relative risk (RR) is\", relative_risk, \"which implies that there is an equal risk of developing diabetes between people with and without diabetic parents.\")"
   ]
  },
  {
   "cell_type": "markdown",
   "id": "8982ca77",
   "metadata": {},
   "source": [
    "### RR with CI"
   ]
  },
  {
   "cell_type": "code",
   "execution_count": 26,
   "id": "214eccc5",
   "metadata": {},
   "outputs": [
    {
     "name": "stdout",
     "output_type": "stream",
     "text": [
      "Relative Risk (RR): 2.166666666666667\n",
      "ConfidenceInterval(low=1.554333943347421, high=3.0202289955364856)\n"
     ]
    }
   ],
   "source": [
    "import numpy as np\n",
    "from scipy.stats import contingency\n",
    "\n",
    "# Data\n",
    "exposed_cases = 65\n",
    "exposed_total = 100\n",
    "unexposed_cases = 30\n",
    "unexposed_total = 100\n",
    "\n",
    "control_cases = unexposed_cases\n",
    "control_total = unexposed_total\n",
    "\n",
    "# Calculate relative risk and p-value\n",
    "result = contingency.relative_risk(exposed_cases, exposed_total, control_cases, control_total)\n",
    "\n",
    "print(\"Relative Risk (RR):\", result.relative_risk)\n",
    "print( result.confidence_interval(confidence_level=0.95))"
   ]
  },
  {
   "cell_type": "markdown",
   "id": "4c0d963d",
   "metadata": {},
   "source": [
    "### RR with P-Value"
   ]
  },
  {
   "cell_type": "code",
   "execution_count": 24,
   "id": "24239663",
   "metadata": {},
   "outputs": [
    {
     "name": "stdout",
     "output_type": "stream",
     "text": [
      "p-value: 7.19791038534024e-07\n"
     ]
    }
   ],
   "source": [
    "from scipy.stats import chi2_contingency\n",
    "\n",
    "# Create contingency table\n",
    "contingency_table = np.array([[exposed_cases, unexposed_cases],\n",
    "                               [exposed_total - exposed_cases, unexposed_total - unexposed_cases]])\n",
    "\n",
    "# Calculate chi-squared test statistic and p-value\n",
    "chi2, p_value, _, _ = chi2_contingency(contingency_table, correction=False)\n",
    "print(\"p-value:\", p_value)"
   ]
  },
  {
   "cell_type": "markdown",
   "id": "e5c30132",
   "metadata": {},
   "source": [
    "## Odds Ratio"
   ]
  },
  {
   "cell_type": "code",
   "execution_count": 35,
   "id": "9fc1a30a",
   "metadata": {},
   "outputs": [
    {
     "name": "stdout",
     "output_type": "stream",
     "text": [
      "Odds Ratio: OddsRatioResult(statistic=4.29880513726658)\n",
      "Confidence Interval: ConfidenceInterval(low=2.2996622431845144, high=8.197615607440484)\n"
     ]
    }
   ],
   "source": [
    "from scipy.stats.contingency import odds_ratio\n",
    "\n",
    "# Define the counts for each group\n",
    "exposed = [[65, 35], [30, 70]]  # Exposed: [diabetic, non-diabetic]\n",
    "\n",
    "# Calculate the Odds Ratio\n",
    "odds_ratio_result = odds_ratio(exposed)\n",
    "\n",
    "print(\"Odds Ratio:\", odds_ratio_result)\n",
    "print(\"Confidence Interval:\", odds_ratio_result.confidence_interval())"
   ]
  },
  {
   "cell_type": "code",
   "execution_count": 34,
   "id": "b29a6367",
   "metadata": {},
   "outputs": [
    {
     "name": "stdout",
     "output_type": "stream",
     "text": [
      "Chi-squared test statistic: 24.561403508771928\n",
      "p-value: 7.19791038534024e-07\n"
     ]
    }
   ],
   "source": [
    "import numpy as np\n",
    "from scipy.stats import chi2_contingency\n",
    "\n",
    "# Define the counts for each group\n",
    "exposed_cases = 65\n",
    "exposed_total = 100\n",
    "unexposed_cases = 30\n",
    "unexposed_total = 100\n",
    "\n",
    "# Create contingency table\n",
    "contingency_table = np.array([[exposed_cases, unexposed_cases],\n",
    "                               [exposed_total - exposed_cases, unexposed_total - unexposed_cases]])\n",
    "\n",
    "# Calculate chi-squared test statistic and p-value\n",
    "chi2, p_value, _, _ = chi2_contingency(contingency_table, correction=False)\n",
    "print(\"Chi-squared test statistic:\", chi2)\n",
    "print(\"p-value:\", p_value)"
   ]
  },
  {
   "cell_type": "code",
   "execution_count": null,
   "id": "a295194c",
   "metadata": {},
   "outputs": [],
   "source": []
  }
 ],
 "metadata": {
  "kernelspec": {
   "display_name": "Python 3 (ipykernel)",
   "language": "python",
   "name": "python3"
  },
  "language_info": {
   "codemirror_mode": {
    "name": "ipython",
    "version": 3
   },
   "file_extension": ".py",
   "mimetype": "text/x-python",
   "name": "python",
   "nbconvert_exporter": "python",
   "pygments_lexer": "ipython3",
   "version": "3.11.5"
  }
 },
 "nbformat": 4,
 "nbformat_minor": 5
}
