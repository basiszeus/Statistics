{
 "cells": [
  {
   "cell_type": "markdown",
   "id": "898564ec",
   "metadata": {},
   "source": [
    "<center> <H1> Matrices Recap <H1/><center/>"
   ]
  },
  {
   "cell_type": "markdown",
   "id": "d08ff3b8",
   "metadata": {},
   "source": [
    "Link to the article : https://medium.com/@soulawalid/complete-guide-for-matrices-2c324242276c"
   ]
  },
  {
   "cell_type": "markdown",
   "id": "d261ce85",
   "metadata": {},
   "source": [
    "## Types of Matrices"
   ]
  },
  {
   "cell_type": "markdown",
   "id": "b3641bd6",
   "metadata": {},
   "source": [
    "### Square"
   ]
  },
  {
   "cell_type": "code",
   "execution_count": 4,
   "id": "ef3d756e",
   "metadata": {},
   "outputs": [
    {
     "name": "stdout",
     "output_type": "stream",
     "text": [
      "[[1 2 3]\n",
      " [4 5 6]\n",
      " [7 8 9]]\n"
     ]
    }
   ],
   "source": [
    "import numpy as np\n",
    "matrix = np.array([[1, 2, 3], [4, 5, 6], [7, 8, 9]])\n",
    "\n",
    "print(matrix)"
   ]
  },
  {
   "cell_type": "markdown",
   "id": "dea96e88",
   "metadata": {},
   "source": [
    "### Rectangular"
   ]
  },
  {
   "cell_type": "code",
   "execution_count": 5,
   "id": "b0dfeddf",
   "metadata": {},
   "outputs": [
    {
     "name": "stdout",
     "output_type": "stream",
     "text": [
      "[[ 1  2  3  4]\n",
      " [ 5  6  7  8]\n",
      " [ 9 10 11 12]]\n"
     ]
    }
   ],
   "source": [
    "import numpy as np\n",
    "matrix = np.array([[1, 2, 3, 4], [5, 6, 7, 8], [9, 10, 11, 12]])\n",
    "print(matrix)"
   ]
  },
  {
   "cell_type": "markdown",
   "id": "2389827a",
   "metadata": {},
   "source": [
    "### Identity Matrix"
   ]
  },
  {
   "cell_type": "code",
   "execution_count": 6,
   "id": "c6332d45",
   "metadata": {},
   "outputs": [
    {
     "name": "stdout",
     "output_type": "stream",
     "text": [
      "[[1 0 0]\n",
      " [0 1 0]\n",
      " [0 0 1]]\n"
     ]
    }
   ],
   "source": [
    "import numpy as np\n",
    "matrix = np.array([[1, 0, 0], [0, 1, 0], [0, 0, 1]])\n",
    "print(matrix)"
   ]
  },
  {
   "cell_type": "markdown",
   "id": "221e6652",
   "metadata": {},
   "source": [
    "## Matrix Arithmetic Operations"
   ]
  },
  {
   "cell_type": "markdown",
   "id": "9cf62bcc",
   "metadata": {},
   "source": [
    "### Addition"
   ]
  },
  {
   "cell_type": "code",
   "execution_count": 7,
   "id": "4d6970e3",
   "metadata": {},
   "outputs": [
    {
     "name": "stdout",
     "output_type": "stream",
     "text": [
      "Matrix A:\n",
      "[[1 2]\n",
      " [3 4]]\n",
      "\n",
      "Matrix B:\n",
      "[[5 6]\n",
      " [7 8]]\n",
      "\n",
      "Result of adding Matrix A and Matrix B:\n",
      "[[ 6  8]\n",
      " [10 12]]\n"
     ]
    }
   ],
   "source": [
    "import numpy as np\n",
    "\n",
    "matrix_a = np.array([[1, 2], [3, 4]])\n",
    "matrix_b = np.array([[5, 6], [7, 8]])\n",
    "\n",
    "print(\"Matrix A:\")\n",
    "print(matrix_a)\n",
    "print(\"\\nMatrix B:\")\n",
    "print(matrix_b)\n",
    "\n",
    "result = matrix_a + matrix_b\n",
    "\n",
    "print(\"\\nResult of adding Matrix A and Matrix B:\")\n",
    "print(result)"
   ]
  },
  {
   "cell_type": "markdown",
   "id": "d6f15770",
   "metadata": {},
   "source": [
    "### Subtraction"
   ]
  },
  {
   "cell_type": "code",
   "execution_count": 13,
   "id": "31c5fee5",
   "metadata": {},
   "outputs": [
    {
     "name": "stdout",
     "output_type": "stream",
     "text": [
      "Matrix A:\n",
      "[[1 2 3]\n",
      " [4 5 6]]\n",
      "\n",
      "Matrix B:\n",
      "[[ 7  8]\n",
      " [ 9 10]\n",
      " [11 12]]\n",
      "\n",
      "Dot Product (Matrix Product):\n",
      "[[ 58  64]\n",
      " [139 154]]\n"
     ]
    }
   ],
   "source": [
    "import numpy as np\n",
    "\n",
    "A = np.array([[1, 2, 3], [4, 5, 6]])  \n",
    "B = np.array([[7,8], [9,10], [11,12]])  \n",
    "\n",
    "C = np.dot(A, B)\n",
    "\n",
    "print(\"Matrix A:\")\n",
    "print(A)\n",
    "print(\"\\nMatrix B:\")\n",
    "print(B)\n",
    "print(\"\\nDot Product (Matrix Product):\")\n",
    "print(C)"
   ]
  },
  {
   "cell_type": "markdown",
   "id": "57e98e8a",
   "metadata": {},
   "source": [
    "### Dot Product"
   ]
  },
  {
   "cell_type": "code",
   "execution_count": 24,
   "id": "c9b0152f",
   "metadata": {},
   "outputs": [
    {
     "name": "stdout",
     "output_type": "stream",
     "text": [
      "Matrix A:\n",
      "[1000  400 1200]\n",
      "\n",
      "Matrix B:\n",
      "[[30 40 50]\n",
      " [ 5 10 15]\n",
      " [ 2  5  7]]\n",
      "\n",
      "Dot Product (Matrix Product):\n",
      "[34400 50000 64400]\n"
     ]
    }
   ],
   "source": [
    "import numpy as np\n",
    "\n",
    "A = np.array([1000, 400, 1200])  \n",
    "B = np.array([[30,40,50], [5,10,15], [2,5,7]])  \n",
    "\n",
    "C = np.dot(A, B)\n",
    "\n",
    "print(\"Matrix A:\")\n",
    "print(A)\n",
    "print(\"\\nMatrix B:\")\n",
    "print(B)\n",
    "print(\"\\nDot Product:\")\n",
    "print(C)"
   ]
  },
  {
   "cell_type": "markdown",
   "id": "13fdfcdd",
   "metadata": {},
   "source": [
    "### Matrix Multiplication by a scalar"
   ]
  },
  {
   "cell_type": "code",
   "execution_count": 16,
   "id": "355e3eed",
   "metadata": {},
   "outputs": [
    {
     "name": "stdout",
     "output_type": "stream",
     "text": [
      "Matrix A:\n",
      "[[1 2 3]\n",
      " [4 5 6]]\n",
      "\n",
      "Result of Matrix Multiplication:\n",
      "[[ 2  4  6]\n",
      " [ 8 10 12]]\n"
     ]
    }
   ],
   "source": [
    "import numpy as np\n",
    "\n",
    "A = np.array([[1, 2, 3], [4, 5, 6]])  \n",
    "B = 2\n",
    "\n",
    "C = A*B\n",
    "\n",
    "print(\"Matrix A:\")\n",
    "print(A)\n",
    "print(\"\\nResult of Matrix Multiplication:\")\n",
    "print(C)"
   ]
  },
  {
   "cell_type": "markdown",
   "id": "740458e0",
   "metadata": {},
   "source": [
    "### Matrix-Matrix Multiplication"
   ]
  },
  {
   "cell_type": "code",
   "execution_count": 19,
   "id": "7b85c882",
   "metadata": {},
   "outputs": [
    {
     "name": "stdout",
     "output_type": "stream",
     "text": [
      "Matrix A:\n",
      "[[1 2 3]\n",
      " [4 5 6]]\n",
      "\n",
      "Matrix B:\n",
      "[[ 7  8]\n",
      " [ 9 10]\n",
      " [11 12]]\n",
      "\n",
      "Dot Product (Matrix Product):\n",
      "[[ 58  64]\n",
      " [139 154]]\n"
     ]
    }
   ],
   "source": [
    "import numpy as np\n",
    "\n",
    "A = np.array([[1, 2, 3], [4, 5, 6]])  \n",
    "B = np.array([[7,8], [9,10], [11,12]])  \n",
    "\n",
    "C = A @ B\n",
    "\n",
    "print(\"Matrix A:\")\n",
    "print(A)\n",
    "print(\"\\nMatrix B:\")\n",
    "print(B)\n",
    "print(\"\\nDot Product (Matrix Product):\")\n",
    "print(C)"
   ]
  },
  {
   "cell_type": "markdown",
   "id": "4fcc3ca7",
   "metadata": {},
   "source": [
    "## Determinant of  a Matrix"
   ]
  },
  {
   "cell_type": "markdown",
   "id": "8c6bbb6b",
   "metadata": {},
   "source": [
    "### 2x2"
   ]
  },
  {
   "cell_type": "code",
   "execution_count": 25,
   "id": "271cb12f",
   "metadata": {},
   "outputs": [
    {
     "name": "stdout",
     "output_type": "stream",
     "text": [
      "The determinant of the matrix is: -5\n"
     ]
    }
   ],
   "source": [
    "# Define the 2x2 matrix\n",
    "matrix = [[3, 4], [2, 1]]\n",
    "\n",
    "# Calculate the determinant using the formula: ad - bc\n",
    "det = matrix[0][0] * matrix[1][1] - matrix[0][1] * matrix[1][0]\n",
    "\n",
    "print(\"The determinant of the matrix is:\", det)"
   ]
  },
  {
   "cell_type": "code",
   "execution_count": 27,
   "id": "5fcd7bfa",
   "metadata": {},
   "outputs": [
    {
     "name": "stdout",
     "output_type": "stream",
     "text": [
      "The determinant of the matrix is: -5.000000000000001\n"
     ]
    }
   ],
   "source": [
    "import numpy as np\n",
    "\n",
    "matrix = [[3, 4], [2, 1]]\n",
    "det = np.linalg.det(matrix)\n",
    "\n",
    "print(\"The determinant of the matrix is:\", det)"
   ]
  },
  {
   "cell_type": "markdown",
   "id": "08236cac",
   "metadata": {},
   "source": [
    "### 3x3"
   ]
  },
  {
   "cell_type": "code",
   "execution_count": 29,
   "id": "7ad6f794",
   "metadata": {},
   "outputs": [
    {
     "name": "stdout",
     "output_type": "stream",
     "text": [
      "The determinant of the matrix is: -55.000000000000014\n"
     ]
    }
   ],
   "source": [
    "import numpy as np\n",
    "\n",
    "matrix = [[3, 4,1], [2, 1,5],[1, 3,7]]\n",
    "det = np.linalg.det(matrix)\n",
    "\n",
    "print(\"The determinant of the matrix is:\", det)\n",
    "#The determinant of the matrix is: -55.000000000000014"
   ]
  },
  {
   "cell_type": "markdown",
   "id": "b799badd",
   "metadata": {},
   "source": [
    "## Inversion"
   ]
  },
  {
   "cell_type": "code",
   "execution_count": 6,
   "id": "f1c8a50f",
   "metadata": {},
   "outputs": [
    {
     "name": "stdout",
     "output_type": "stream",
     "text": [
      "Determinant of A: 0.9999999999999987\n",
      "Inverse of matrix A:\n",
      "[[-24.  18.   5.]\n",
      " [ 20. -15.  -4.]\n",
      " [ -5.   4.   1.]]\n"
     ]
    }
   ],
   "source": [
    "import numpy as np\n",
    "\n",
    "# Define a 3x3 matrix\n",
    "A = np.array([[1, 2, 3],\n",
    "              [0, 1, 4],\n",
    "              [5, 6, 0]])\n",
    "\n",
    "# Compute the determinant to check if the matrix is invertible\n",
    "det_A = np.linalg.det(A)\n",
    "print(f\"Determinant of A: {det_A}\")\n",
    "\n",
    "if det_A != 0:\n",
    "    # Calculate the inverse of the matrix\n",
    "    A_inv = np.linalg.inv(A)\n",
    "    print(\"Inverse of matrix A:\")\n",
    "    print(A_inv)\n",
    "else:\n",
    "    print(\"Matrix A is not invertible.\")"
   ]
  },
  {
   "cell_type": "code",
   "execution_count": null,
   "id": "13cfb0be",
   "metadata": {},
   "outputs": [],
   "source": []
  }
 ],
 "metadata": {
  "kernelspec": {
   "display_name": "PYPARK_KERNEL",
   "language": "python",
   "name": "pypark_kernel"
  },
  "language_info": {
   "codemirror_mode": {
    "name": "ipython",
    "version": 3
   },
   "file_extension": ".py",
   "mimetype": "text/x-python",
   "name": "python",
   "nbconvert_exporter": "python",
   "pygments_lexer": "ipython3",
   "version": "3.11.5"
  }
 },
 "nbformat": 4,
 "nbformat_minor": 5
}
