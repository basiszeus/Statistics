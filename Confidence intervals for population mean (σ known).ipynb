{
 "cells": [
  {
   "cell_type": "markdown",
   "id": "7c2fd373",
   "metadata": {},
   "source": [
    "<center><h1 style=\"background-color: #C6F3CD; border-radius: 10px; color: #FFFFFF; padding: 5px;\">\n",
    "Confidence intervals for population mean (σ known)\n",
    "</h1><center/>"
   ]
  },
  {
   "cell_type": "markdown",
   "id": "bdfa8b4c",
   "metadata": {},
   "source": [
    "**Link to the article** : \n",
    "- https://medium.com/@soulawalid/data-science-confidence-intervals-for-population-mean-349313ccc2d7"
   ]
  },
  {
   "cell_type": "code",
   "execution_count": 2,
   "id": "7a55f431",
   "metadata": {},
   "outputs": [],
   "source": [
    "import numpy as np\n",
    "import scipy.stats as stats"
   ]
  },
  {
   "cell_type": "markdown",
   "id": "bcc12a2b",
   "metadata": {},
   "source": [
    "### 2 Tails"
   ]
  },
  {
   "cell_type": "code",
   "execution_count": 4,
   "id": "a3e4822a",
   "metadata": {},
   "outputs": [
    {
     "data": {
      "text/plain": [
       "(83020.01800772997, 84979.98199227003)"
      ]
     },
     "execution_count": 4,
     "metadata": {},
     "output_type": "execute_result"
    }
   ],
   "source": [
    "sample_mean = 84000\n",
    "sigma = 5000\n",
    "n = 100\n",
    "confidence_level = 0.95\n",
    "\n",
    "# Calculate the Z-score for the desired confidence level\n",
    "alpha = 1 - confidence_level\n",
    "z_score = stats.norm.ppf(1 - alpha/2)\n",
    "\n",
    "# Calculate the margin of error\n",
    "margin_of_error = z_score * (sigma / np.sqrt(n))\n",
    "\n",
    "# Calculate the confidence interval\n",
    "lower_limit = sample_mean - margin_of_error\n",
    "upper_limit = sample_mean + margin_of_error\n",
    "\n",
    "(lower_limit, upper_limit)"
   ]
  },
  {
   "cell_type": "markdown",
   "id": "aab7b248",
   "metadata": {},
   "source": [
    "### 1 Tail"
   ]
  },
  {
   "cell_type": "code",
   "execution_count": 5,
   "id": "0915ce67",
   "metadata": {},
   "outputs": [
    {
     "data": {
      "text/plain": [
       "83177.57318652427"
      ]
     },
     "execution_count": 5,
     "metadata": {},
     "output_type": "execute_result"
    }
   ],
   "source": [
    "sample_mean = 84000\n",
    "sigma = 5000\n",
    "n = 100\n",
    "confidence_level = 0.95\n",
    "\n",
    "# Calculate the Z-score for the desired confidence level\n",
    "alpha = 1 - confidence_level\n",
    "z_score = stats.norm.ppf(1 - alpha)\n",
    "\n",
    "# Calculate the lower limit of the one-tailed confidence interval\n",
    "lower_limit = sample_mean - z_score * (sigma / np.sqrt(n))\n",
    "\n",
    "lower_limit"
   ]
  }
 ],
 "metadata": {
  "kernelspec": {
   "display_name": "Python 3 (ipykernel)",
   "language": "python",
   "name": "python3"
  },
  "language_info": {
   "codemirror_mode": {
    "name": "ipython",
    "version": 3
   },
   "file_extension": ".py",
   "mimetype": "text/x-python",
   "name": "python",
   "nbconvert_exporter": "python",
   "pygments_lexer": "ipython3",
   "version": "3.11.5"
  }
 },
 "nbformat": 4,
 "nbformat_minor": 5
}
