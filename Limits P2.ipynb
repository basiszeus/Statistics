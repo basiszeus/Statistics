{
 "cells": [
  {
   "cell_type": "markdown",
   "id": "dcc203e2",
   "metadata": {},
   "source": [
    "# Limits that Fail to Exist"
   ]
  },
  {
   "cell_type": "markdown",
   "id": "f8d620b4",
   "metadata": {},
   "source": [
    "- Link to the article : https://medium.com/@soulawalid/your-guide-to-limits-part-2-af34197654d0"
   ]
  },
  {
   "cell_type": "markdown",
   "id": "3f933f5e",
   "metadata": {},
   "source": [
    "## 1 - Unbounded Behavior"
   ]
  },
  {
   "cell_type": "code",
   "execution_count": 1,
   "id": "bb3deed8",
   "metadata": {},
   "outputs": [
    {
     "name": "stdout",
     "output_type": "stream",
     "text": [
      "The limit of 1/x^2 as x approaches 0 is oo\n"
     ]
    }
   ],
   "source": [
    "from sympy import Symbol, Limit, oo\n",
    "\n",
    "x = Symbol('x')\n",
    "f = 1 / x**2\n",
    "\n",
    "# Create a Limit object for the limit as x approaches 0\n",
    "limit_expr_unbounded = Limit(f, x, 0)\n",
    "\n",
    "# Evaluate the limit\n",
    "limit_value_unbounded = limit_expr_unbounded.doit()\n",
    "\n",
    "print(f\"The limit of 1/x^2 as x approaches 0 is {limit_value_unbounded}\")"
   ]
  },
  {
   "cell_type": "markdown",
   "id": "bf214d49",
   "metadata": {},
   "source": [
    "## 2 - Oscillatory Behavior"
   ]
  },
  {
   "cell_type": "code",
   "execution_count": 2,
   "id": "4c1c4cf2",
   "metadata": {},
   "outputs": [
    {
     "name": "stdout",
     "output_type": "stream",
     "text": [
      "The limit of sin(1/x) as x approaches 0 is AccumBounds(-1, 1)\n"
     ]
    }
   ],
   "source": [
    "from sympy import Symbol, Limit, sin\n",
    "\n",
    "x = Symbol('x')\n",
    "f = sin(1 / x)\n",
    "\n",
    "# Create a Limit object for the limit as x approaches 0\n",
    "limit_expr_oscillatory = Limit(f, x, 0)\n",
    "\n",
    "# Evaluate the limit\n",
    "limit_value_oscillatory = limit_expr_oscillatory.doit()\n",
    "\n",
    "print(f\"The limit of sin(1/x) as x approaches 0 is {limit_value_oscillatory}\")"
   ]
  },
  {
   "cell_type": "markdown",
   "id": "dda38688",
   "metadata": {},
   "source": [
    "## 3 - Limits at Infinity"
   ]
  },
  {
   "cell_type": "code",
   "execution_count": 3,
   "id": "f59d561d",
   "metadata": {},
   "outputs": [
    {
     "name": "stdout",
     "output_type": "stream",
     "text": [
      "The limit of (2*x^2 + 3*x - 1) / (x^2 + 2) as x approaches infinity is 2\n"
     ]
    }
   ],
   "source": [
    "# EX1 :\n",
    "from sympy import Symbol, Limit, oo\n",
    "\n",
    "x = Symbol('x')\n",
    "f = (2*x**2 + 3*x - 1) / (x**2 + 2)\n",
    "\n",
    "# Create a Limit object for the limit as x approaches infinity\n",
    "limit_expr_infinity = Limit(f, x, oo)\n",
    "\n",
    "# Evaluate the limit\n",
    "limit_value_infinity = limit_expr_infinity.doit()\n",
    "\n",
    "print(f\"The limit of (2*x^2 + 3*x - 1) / (x^2 + 2) as x approaches infinity is {limit_value_infinity}\")"
   ]
  },
  {
   "cell_type": "code",
   "execution_count": 4,
   "id": "7a73a989",
   "metadata": {},
   "outputs": [
    {
     "name": "stdout",
     "output_type": "stream",
     "text": [
      "The limit of e^(-x) as x approaches infinity is 0\n"
     ]
    }
   ],
   "source": [
    "# EX2 :\n",
    "\n",
    "from sympy import Symbol, Limit, exp, oo\n",
    "\n",
    "# Define the variable and the function\n",
    "x = Symbol('x')\n",
    "f = exp(-x)\n",
    "\n",
    "# Create a Limit object for the limit as x approaches infinity\n",
    "limit_expr_exponential = Limit(f, x, oo)\n",
    "\n",
    "# Evaluate the limit\n",
    "limit_value_exponential = limit_expr_exponential.doit()\n",
    "\n",
    "print(f\"The limit of e^(-x) as x approaches infinity is {limit_value_exponential}\")"
   ]
  },
  {
   "cell_type": "markdown",
   "id": "056b284d",
   "metadata": {},
   "source": [
    "##  4 - Indeterminate forms with Hôpital's Rule "
   ]
  },
  {
   "cell_type": "code",
   "execution_count": 6,
   "id": "2d5984e3",
   "metadata": {},
   "outputs": [
    {
     "name": "stdout",
     "output_type": "stream",
     "text": [
      "The limit of sin(x)/x as x approaches 0 is 1\n"
     ]
    }
   ],
   "source": [
    "# EX 1:\n",
    "from sympy import Symbol, Limit, sin, cos\n",
    "\n",
    "x = Symbol('x')\n",
    "f = sin(x) / x\n",
    "\n",
    "# Create a Limit object for the limit as x approaches 0\n",
    "limit_expr_indeterminate = Limit(f, x, 0)\n",
    "\n",
    "# Evaluate the limit\n",
    "limit_value_indeterminate = limit_expr_indeterminate.doit()\n",
    "\n",
    "print(f\"The limit of sin(x)/x as x approaches 0 is {limit_value_indeterminate}\")"
   ]
  },
  {
   "cell_type": "code",
   "execution_count": 7,
   "id": "5a1c4c74",
   "metadata": {},
   "outputs": [
    {
     "name": "stdout",
     "output_type": "stream",
     "text": [
      "The limit of ln(x)/x as x approaches infinity is 0\n"
     ]
    }
   ],
   "source": [
    "from sympy import Symbol, Limit, log, oo\n",
    "\n",
    "x = Symbol('x')\n",
    "f = log(x) / x\n",
    "\n",
    "# Create a Limit object for the limit as x approaches infinity\n",
    "limit_expr_infinity = Limit(f, x, oo)\n",
    "\n",
    "# Evaluate the limit\n",
    "limit_value_infinity = limit_expr_infinity.doit()\n",
    "\n",
    "print(f\"The limit of ln(x)/x as x approaches infinity is {limit_value_infinity}\")"
   ]
  },
  {
   "cell_type": "markdown",
   "id": "a92ba223",
   "metadata": {},
   "source": [
    "## 5 - Discontinuity"
   ]
  },
  {
   "cell_type": "code",
   "execution_count": 1,
   "id": "30c24042",
   "metadata": {},
   "outputs": [
    {
     "name": "stdout",
     "output_type": "stream",
     "text": [
      "The left-hand limit of f(x) as x approaches 2 is 4\n",
      "The right-hand limit of f(x) as x approaches 2 is 3\n",
      "The value of f(x) at x = 2 is nan\n",
      "The limit does not exist since the left-hand and right-hand limits are not equal.\n"
     ]
    }
   ],
   "source": [
    "from sympy import Symbol, Limit, Piecewise\n",
    "\n",
    "x = Symbol('x')\n",
    "\n",
    "# Define the piecewise function\n",
    "f = Piecewise((x**2, x < 2), (3, x == 2), (x + 1, x > 2))\n",
    "\n",
    "# Evaluate the left-hand limit as x approaches 2\n",
    "left_limit = Limit(f, x, 2, dir='-').doit()\n",
    "\n",
    "# Evaluate the right-hand limit as x approaches 2\n",
    "right_limit = Limit(f, x, 2, dir='+').doit()\n",
    "\n",
    "# Value at x = 2\n",
    "value_at_2 = f.subs(x, 2)\n",
    "\n",
    "print(f\"The left-hand limit of f(x) as x approaches 2 is {left_limit}\")\n",
    "print(f\"The right-hand limit of f(x) as x approaches 2 is {right_limit}\")\n",
    "print(f\"The value of f(x) at x = 2 is {value_at_2}\")\n",
    "\n",
    "if left_limit != right_limit:\n",
    "    print(\"The limit does not exist since the left-hand and right-hand limits are not equal.\")"
   ]
  },
  {
   "cell_type": "markdown",
   "id": "1d0bb0cb",
   "metadata": {},
   "source": [
    "## 6 - Limits Involving Absolute Values"
   ]
  },
  {
   "cell_type": "code",
   "execution_count": 2,
   "id": "cfe89cb6",
   "metadata": {},
   "outputs": [
    {
     "name": "stdout",
     "output_type": "stream",
     "text": [
      "The left-hand limit of f(x) as x approaches 2 is -1\n",
      "The right-hand limit of f(x) as x approaches 2 is 1\n",
      "The limit does not exist since the left-hand and right-hand limits are not equal.\n"
     ]
    }
   ],
   "source": [
    "from sympy import Symbol, Abs, Limit\n",
    "\n",
    "# Define the variable\n",
    "x = Symbol('x')\n",
    "\n",
    "# Define the function\n",
    "f = Abs(x - 2) / (x - 2)\n",
    "\n",
    "# Evaluate the left-hand limit as x approaches 2\n",
    "left_limit = Limit(f, x, 2, dir='-').doit()\n",
    "\n",
    "# Evaluate the right-hand limit as x approaches 2\n",
    "right_limit = Limit(f, x, 2, dir='+').doit()\n",
    "\n",
    "print(f\"The left-hand limit of f(x) as x approaches 2 is {left_limit}\")\n",
    "print(f\"The right-hand limit of f(x) as x approaches 2 is {right_limit}\")\n",
    "\n",
    "if left_limit != right_limit:\n",
    "    print(\"The limit does not exist since the left-hand and right-hand limits are not equal.\")\n",
    "else:\n",
    "    print(\"The limit exists and is equal to\", left_limit)"
   ]
  },
  {
   "cell_type": "markdown",
   "id": "965eb364",
   "metadata": {},
   "source": [
    "## 7 - Vertical Asymptote"
   ]
  },
  {
   "cell_type": "code",
   "execution_count": 3,
   "id": "744db833",
   "metadata": {},
   "outputs": [
    {
     "name": "stdout",
     "output_type": "stream",
     "text": [
      "The limit of f(x) as x approaches 0 from the right is oo\n",
      "The limit of f(x) as x approaches 0 from the left is oo\n",
      "The limit as x approaches 0 is +∞, indicating a vertical asymptote at x = 0.\n"
     ]
    }
   ],
   "source": [
    "from sympy import Symbol, Limit, oo\n",
    "\n",
    "# Define the variable\n",
    "x = Symbol('x')\n",
    "\n",
    "# Define the function\n",
    "f = 1 / x**2\n",
    "\n",
    "# Evaluate the limit as x approaches 0 from the right\n",
    "limit_right = Limit(f, x, 0, dir='+').doit()\n",
    "\n",
    "# Evaluate the limit as x approaches 0 from the left\n",
    "limit_left = Limit(f, x, 0, dir='-').doit()\n",
    "\n",
    "print(f\"The limit of f(x) as x approaches 0 from the right is {limit_right}\")\n",
    "print(f\"The limit of f(x) as x approaches 0 from the left is {limit_left}\")\n",
    "\n",
    "if limit_right == oo and limit_left == oo:\n",
    "    print(\"The limit as x approaches 0 is +∞, indicating a vertical asymptote at x = 0.\")\n",
    "else:\n",
    "    print(\"The limit does not exist in a finite sense.\")"
   ]
  }
 ],
 "metadata": {
  "kernelspec": {
   "display_name": "PYPARK_KERNEL",
   "language": "python",
   "name": "pypark_kernel"
  },
  "language_info": {
   "codemirror_mode": {
    "name": "ipython",
    "version": 3
   },
   "file_extension": ".py",
   "mimetype": "text/x-python",
   "name": "python",
   "nbconvert_exporter": "python",
   "pygments_lexer": "ipython3",
   "version": "3.11.5"
  }
 },
 "nbformat": 4,
 "nbformat_minor": 5
}
