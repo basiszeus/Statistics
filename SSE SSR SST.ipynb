{
 "cells": [
  {
   "cell_type": "markdown",
   "id": "7c2fd373",
   "metadata": {},
   "source": [
    "<center><h1 style=\"background-color: #C6F3CD; border-radius: 10px; color: #FFFFFF; padding: 5px;\">\n",
    "SSE SSR SST</h1><center/>"
   ]
  },
  {
   "cell_type": "markdown",
   "id": "bdfa8b4c",
   "metadata": {},
   "source": [
    "**Link to the article** : https://medium.com/@soulawalid/statistical-regression-ssr-sse-sst-c46848a7cf7a?sk=9c2c36f27b88771baf5315384513ec4c"
   ]
  },
  {
   "cell_type": "markdown",
   "id": "bcb77786",
   "metadata": {},
   "source": [
    "## SSE"
   ]
  },
  {
   "cell_type": "code",
   "execution_count": 1,
   "id": "3096846d",
   "metadata": {},
   "outputs": [],
   "source": [
    "import numpy as np\n",
    "from scipy import stats"
   ]
  },
  {
   "cell_type": "code",
   "execution_count": 2,
   "id": "5fdbe896",
   "metadata": {},
   "outputs": [],
   "source": [
    "salary = [100000, 120000, 80000, 115000, 70000, 55000, 60000, 65000, 75000]\n",
    "years_of_experience = [6, 5, 4, 6, 3, 1, 1, 2, 2]"
   ]
  },
  {
   "cell_type": "code",
   "execution_count": 3,
   "id": "8d4f6a4f",
   "metadata": {},
   "outputs": [],
   "source": [
    "slope, intercept, r_value, p_value, std_err = stats.linregress(years_of_experience, salary)"
   ]
  },
  {
   "cell_type": "code",
   "execution_count": 4,
   "id": "39ee8a05",
   "metadata": {},
   "outputs": [],
   "source": [
    "predicted_salary = [intercept + slope * x for x in years_of_experience]"
   ]
  },
  {
   "cell_type": "code",
   "execution_count": 5,
   "id": "72a91c86",
   "metadata": {
    "scrolled": true
   },
   "outputs": [
    {
     "name": "stdout",
     "output_type": "stream",
     "text": [
      "SSE: 763802083.3333328\n"
     ]
    }
   ],
   "source": [
    "SSE = sum([(observed - predicted)**2 for observed, predicted in zip(salary, predicted_salary)])\n",
    "print(\"SSE:\", SSE)#763802083.33"
   ]
  },
  {
   "cell_type": "markdown",
   "id": "33a2a15f",
   "metadata": {},
   "source": [
    "---"
   ]
  },
  {
   "cell_type": "markdown",
   "id": "2cfac3a1",
   "metadata": {},
   "source": [
    "## SSR"
   ]
  },
  {
   "cell_type": "code",
   "execution_count": 6,
   "id": "53a95896",
   "metadata": {},
   "outputs": [],
   "source": [
    "mean_salary = np.mean(salary)"
   ]
  },
  {
   "cell_type": "code",
   "execution_count": 7,
   "id": "425bfe44",
   "metadata": {},
   "outputs": [
    {
     "name": "stdout",
     "output_type": "stream",
     "text": [
      "SSR: 3791753472.2222233\n"
     ]
    }
   ],
   "source": [
    "SSR = sum([(predicted - mean_salary)**2 for predicted in predicted_salary])\n",
    "\n",
    "print(\"SSR:\", SSR) #3791753472"
   ]
  },
  {
   "cell_type": "markdown",
   "id": "ab691188",
   "metadata": {},
   "source": [
    "## SST"
   ]
  },
  {
   "cell_type": "code",
   "execution_count": 8,
   "id": "60af46e7",
   "metadata": {},
   "outputs": [
    {
     "name": "stdout",
     "output_type": "stream",
     "text": [
      "SST: 4555555555.555556\n"
     ]
    }
   ],
   "source": [
    "SST  = SSR + SSE\n",
    "\n",
    "print(\"SST:\", SST) # 4555555555.5"
   ]
  }
 ],
 "metadata": {
  "kernelspec": {
   "display_name": "Python 3 (ipykernel)",
   "language": "python",
   "name": "python3"
  },
  "language_info": {
   "codemirror_mode": {
    "name": "ipython",
    "version": 3
   },
   "file_extension": ".py",
   "mimetype": "text/x-python",
   "name": "python",
   "nbconvert_exporter": "python",
   "pygments_lexer": "ipython3",
   "version": "3.11.5"
  }
 },
 "nbformat": 4,
 "nbformat_minor": 5
}
