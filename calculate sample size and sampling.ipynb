{
 "cells": [
  {
   "cell_type": "markdown",
   "id": "7c2fd373",
   "metadata": {},
   "source": [
    "<center><h1 style=\"background-color: #C6F3CD; border-radius: 10px; color: #FFFFFF; padding: 5px;\">\n",
    "How to calculate sample size ?\n",
    "</h1><center/>"
   ]
  },
  {
   "cell_type": "markdown",
   "id": "bdfa8b4c",
   "metadata": {},
   "source": [
    "**Link to the article** : https://medium.com/@soulawalid/data-science-how-to-calculate-sample-size-d9af786219ec?sk=19651b804cac2dbcb1eb7fb004c5940c"
   ]
  },
  {
   "cell_type": "code",
   "execution_count": 1,
   "id": "7a55f431",
   "metadata": {},
   "outputs": [],
   "source": [
    "import math"
   ]
  },
  {
   "cell_type": "markdown",
   "id": "79292c4f",
   "metadata": {},
   "source": [
    "#  Sampling"
   ]
  },
  {
   "cell_type": "markdown",
   "id": "374d5764",
   "metadata": {},
   "source": [
    "### 1 - Simple Random Sampling"
   ]
  },
  {
   "cell_type": "code",
   "execution_count": 2,
   "id": "c55f2238",
   "metadata": {},
   "outputs": [
    {
     "name": "stdout",
     "output_type": "stream",
     "text": [
      "Simple Random Sample Size: 385\n"
     ]
    }
   ],
   "source": [
    "def sample_size_simple_random(Z, p, e):\n",
    "    return math.ceil((Z**2 * p * (1 - p)) / e**2)\n",
    "\n",
    "Z = 1.96  # 95% confidence\n",
    "p = 0.5   # Estimated proportion\n",
    "e = 0.05  # Margin of error\n",
    "\n",
    "sample_size = sample_size_simple_random(Z, p, e)\n",
    "print(f'Simple Random Sample Size: {sample_size}')"
   ]
  },
  {
   "cell_type": "markdown",
   "id": "1940b7a6",
   "metadata": {},
   "source": [
    "### 2 - Systematic Sampling"
   ]
  },
  {
   "cell_type": "code",
   "execution_count": 3,
   "id": "5b67058e",
   "metadata": {},
   "outputs": [
    {
     "name": "stdout",
     "output_type": "stream",
     "text": [
      "Systematic Sampling Interval: 10\n"
     ]
    }
   ],
   "source": [
    "def sample_size_systematic(N, n):\n",
    "    return N // n\n",
    "\n",
    "# Example parameters\n",
    "N = 1000  # Population size\n",
    "n = 100   # Desired sample size\n",
    "\n",
    "k = sample_size_systematic(N, n)\n",
    "print(f'Systematic Sampling Interval: {k}')"
   ]
  },
  {
   "cell_type": "markdown",
   "id": "a70664e6",
   "metadata": {},
   "source": [
    "### 3 - Stratified Sampling"
   ]
  },
  {
   "cell_type": "code",
   "execution_count": 4,
   "id": "b878a7c5",
   "metadata": {},
   "outputs": [
    {
     "name": "stdout",
     "output_type": "stream",
     "text": [
      "Stratified Sample Size: 100\n"
     ]
    }
   ],
   "source": [
    "def sample_size_stratified(population_strata, sample_size_strata):\n",
    "    return sum(sample_size_strata)\n",
    "\n",
    "population_strata = [200, 300, 500]\n",
    "sample_size_strata = [20, 30, 50]\n",
    "\n",
    "total_sample_size = sample_size_stratified(population_strata, sample_size_strata)\n",
    "print(f'Stratified Sample Size: {total_sample_size}')"
   ]
  },
  {
   "cell_type": "markdown",
   "id": "08809b01",
   "metadata": {},
   "source": [
    "### 4 - Cluster Sampling"
   ]
  },
  {
   "cell_type": "code",
   "execution_count": 5,
   "id": "2017de67",
   "metadata": {},
   "outputs": [
    {
     "name": "stdout",
     "output_type": "stream",
     "text": [
      "Cluster Sample Size: 200\n"
     ]
    }
   ],
   "source": [
    "def sample_size_cluster(N, c, k):\n",
    "    return (N * c) // k\n",
    "\n",
    "N = 1000  # Population size\n",
    "c = 10    # Number of clusters selected\n",
    "k = 50    # Total number of clusters\n",
    "\n",
    "sample_size = sample_size_cluster(N, c, k)\n",
    "print(f'Cluster Sample Size: {sample_size}')"
   ]
  },
  {
   "cell_type": "markdown",
   "id": "d1607acd",
   "metadata": {},
   "source": [
    "### 5 - Snowball Sampling"
   ]
  },
  {
   "cell_type": "code",
   "execution_count": 6,
   "id": "190b20a7",
   "metadata": {},
   "outputs": [
    {
     "name": "stdout",
     "output_type": "stream",
     "text": [
      "Snowball Sample Size: 40\n"
     ]
    }
   ],
   "source": [
    "def sample_size_snowball(initial_subjects, recruitment_factor, waves):\n",
    "    return initial_subjects * (recruitment_factor ** waves)\n",
    "\n",
    "# Example parameters\n",
    "initial_subjects = 5\n",
    "recruitment_factor = 2\n",
    "waves = 3\n",
    "\n",
    "sample_size = sample_size_snowball(initial_subjects, recruitment_factor, waves)\n",
    "print(f'Snowball Sample Size: {sample_size}')"
   ]
  },
  {
   "cell_type": "markdown",
   "id": "55f6aa13",
   "metadata": {},
   "source": [
    "# Sample size calculation"
   ]
  },
  {
   "cell_type": "markdown",
   "id": "2c648601",
   "metadata": {},
   "source": [
    "### 1 - Yamane's Formula for Sample Size"
   ]
  },
  {
   "cell_type": "code",
   "execution_count": 9,
   "id": "7f33f9b1",
   "metadata": {},
   "outputs": [
    {
     "name": "stdout",
     "output_type": "stream",
     "text": [
      "Yamane's Sample Size: 286\n"
     ]
    }
   ],
   "source": [
    "def sample_size_yamane(N, e):\n",
    "    return math.ceil(N / (1 + N * e ** 2))\n",
    "\n",
    "# Example parameters\n",
    "N = 1000  # Population size\n",
    "e = 0.05  # Margin of error\n",
    "\n",
    "sample_size = sample_size_yamane(N, e)\n",
    "print(f'Yamane\\'s Sample Size: {sample_size}')"
   ]
  },
  {
   "cell_type": "markdown",
   "id": "831ab4de",
   "metadata": {},
   "source": [
    "### 2 - Cochran's Formula for Sample Size"
   ]
  },
  {
   "cell_type": "code",
   "execution_count": 14,
   "id": "9824d130",
   "metadata": {},
   "outputs": [
    {
     "name": "stdout",
     "output_type": "stream",
     "text": [
      "Sample size for infinite population: 385\n"
     ]
    }
   ],
   "source": [
    "#Infinite\n",
    "\n",
    "def calculate_cochran_sample_size(Z, p, e, N=None):\n",
    "    n_0 = (Z**2 * p * (1 - p)) / e**2\n",
    "    if N is not None:\n",
    "        n = n_0 / (1 + (n_0 - 1) / N)\n",
    "    else:\n",
    "        n = n_0\n",
    "    return math.ceil(n)\n",
    "\n",
    "Z = 1.96  # Z-value for 95% confidence level\n",
    "p = 0.5   # Estimated proportion\n",
    "e = 0.05  # Desired margin of error\n",
    "\n",
    "sample_size_infinite = calculate_cochran_sample_size(Z, p, e)\n",
    "print(f'Sample size for infinite population: {sample_size_infinite}')\n",
    "\n",
    "# Sample size for infinite population: 385"
   ]
  },
  {
   "cell_type": "code",
   "execution_count": 16,
   "id": "da9affa5",
   "metadata": {},
   "outputs": [
    {
     "name": "stdout",
     "output_type": "stream",
     "text": [
      "Sample size for finite population: 88\n"
     ]
    }
   ],
   "source": [
    "#Finite\n",
    "\n",
    "def calculate_sample_size_mean(Z, sigma, e, N=None):\n",
    "    n_0 = (Z**2 * sigma**2) / e**2\n",
    "    if N is not None:\n",
    "        n = n_0 / (1 + (n_0 - 1) / N)\n",
    "    else:\n",
    "        n = n_0\n",
    "    return math.ceil(n)\n",
    "\n",
    "Z = 1.96  # Z-value for 95% confidence level\n",
    "sigma = 10  # Population standard deviation\n",
    "e = 2  # Desired margin of error\n",
    "N = 1000  # Population size\n",
    "\n",
    "sample_size_finite = calculate_sample_size_mean(Z, sigma, e, N)\n",
    "print(f'Sample size for finite population: {sample_size_finite}')\n",
    "# Sample size for finite population: 88"
   ]
  },
  {
   "cell_type": "markdown",
   "id": "c22c7e34",
   "metadata": {},
   "source": [
    "### 3 - Sample Size for Population Mean Confidence Interval"
   ]
  },
  {
   "cell_type": "code",
   "execution_count": 17,
   "id": "109fab53",
   "metadata": {},
   "outputs": [
    {
     "name": "stdout",
     "output_type": "stream",
     "text": [
      "Sample Size for Population Mean Confidence Interval: 97\n"
     ]
    }
   ],
   "source": [
    "# Infinite\n",
    "\n",
    "def sample_size_mean_confidence(Z, sigma, E):\n",
    "    return math.ceil((Z * sigma / E) ** 2)\n",
    "\n",
    "Z = 1.96  # 95% confidence\n",
    "sigma = 5  # Estimated population standard deviation\n",
    "E = 1     # Margin of error\n",
    "sample_size = sample_size_mean_confidence(Z, sigma, E)\n",
    "print(f'Sample Size for Population Mean Confidence Interval: {sample_size}')\n",
    "\n",
    "#Sample Size for Population Mean Confidence Interval: 97"
   ]
  },
  {
   "cell_type": "code",
   "execution_count": 18,
   "id": "e583d217",
   "metadata": {},
   "outputs": [
    {
     "name": "stdout",
     "output_type": "stream",
     "text": [
      "Sample size for finite population: 88\n"
     ]
    }
   ],
   "source": [
    "# Finite\n",
    "\n",
    "def calculate_sample_size_mean(Z, sigma, e, N=None):\n",
    "    n_0 = (Z**2 * sigma**2) / e**2\n",
    "    if N is not None:\n",
    "        n = n_0 / (1 + (n_0 - 1) / N)\n",
    "    else:\n",
    "        n = n_0\n",
    "    return math.ceil(n)\n",
    "\n",
    "Z = 1.96  # Z-value for 95% confidence level\n",
    "sigma = 10  # Population standard deviation\n",
    "e = 2  # Desired margin of error\n",
    "N = 1000  # Population size\n",
    "\n",
    "sample_size_finite = calculate_sample_size_mean(Z, sigma, e, N)\n",
    "print(f'Sample size for finite population: {sample_size_finite}')\n",
    "# Sample size for finite population: 88"
   ]
  }
 ],
 "metadata": {
  "kernelspec": {
   "display_name": "Python 3 (ipykernel)",
   "language": "python",
   "name": "python3"
  },
  "language_info": {
   "codemirror_mode": {
    "name": "ipython",
    "version": 3
   },
   "file_extension": ".py",
   "mimetype": "text/x-python",
   "name": "python",
   "nbconvert_exporter": "python",
   "pygments_lexer": "ipython3",
   "version": "3.11.5"
  }
 },
 "nbformat": 4,
 "nbformat_minor": 5
}
