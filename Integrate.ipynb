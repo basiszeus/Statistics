{
 "cells": [
  {
   "cell_type": "markdown",
   "id": "7c2fd373",
   "metadata": {},
   "source": [
    "<center><h1 style=\"background-color: #C6F3CD; border-radius: 10px; color: #FFFFFF; padding: 5px;\">\n",
    "Integrate\n",
    "</h1><center/>"
   ]
  },
  {
   "cell_type": "markdown",
   "id": "bdfa8b4c",
   "metadata": {},
   "source": [
    "**Link to the article** : https://medium.com/@soulawalid/introduction-to-integrals-f38ecc084e1c?sk=8387041dce1213bd1a096ee4249189b5"
   ]
  },
  {
   "cell_type": "code",
   "execution_count": 2,
   "id": "b5628b43",
   "metadata": {},
   "outputs": [],
   "source": [
    "from sympy import symbols, integrate"
   ]
  },
  {
   "cell_type": "markdown",
   "id": "40816619",
   "metadata": {},
   "source": [
    "#### Indefinite"
   ]
  },
  {
   "cell_type": "code",
   "execution_count": 3,
   "id": "d53501e0",
   "metadata": {},
   "outputs": [
    {
     "name": "stdout",
     "output_type": "stream",
     "text": [
      "The indefinite integral of 2x is: x**2 + C\n"
     ]
    }
   ],
   "source": [
    "# Define the variable\n",
    "x = symbols('x')\n",
    "\n",
    "# Define the function\n",
    "f = 2 * x\n",
    "\n",
    "# Compute the indefinite integral\n",
    "indefinite_integral = integrate(f, x)\n",
    "\n",
    "# Display the result\n",
    "print(f\"The indefinite integral of 2x is: {indefinite_integral} + C\")"
   ]
  },
  {
   "cell_type": "markdown",
   "id": "08789281",
   "metadata": {},
   "source": [
    "#### Definite"
   ]
  },
  {
   "cell_type": "code",
   "execution_count": 4,
   "id": "3f761319",
   "metadata": {},
   "outputs": [
    {
     "name": "stdout",
     "output_type": "stream",
     "text": [
      "The definite integral of x^2 from 1 to 3 is: 26/3\n"
     ]
    }
   ],
   "source": [
    "from sympy import symbols, integrate\n",
    "\n",
    "# Define the variable\n",
    "x = symbols('x')\n",
    "\n",
    "# Define the function\n",
    "f = x**2\n",
    "\n",
    "# Define the limits of integration\n",
    "a = 1\n",
    "b = 3\n",
    "\n",
    "# Compute the definite integral\n",
    "definite_integral = integrate(f, (x, a, b))\n",
    "\n",
    "# Display the result\n",
    "print(f\"The definite integral of x^2 from {a} to {b} is: {definite_integral}\")"
   ]
  },
  {
   "cell_type": "code",
   "execution_count": 2,
   "id": "64756756",
   "metadata": {},
   "outputs": [
    {
     "name": "stdout",
     "output_type": "stream",
     "text": [
      "The definite integral of x^2 from 1 to 4 is: 255/4\n"
     ]
    }
   ],
   "source": [
    "from sympy import symbols, integrate\n",
    "\n",
    "# Define the variable\n",
    "x = symbols('x')\n",
    "\n",
    "# Define the function\n",
    "f = x**3\n",
    "\n",
    "# Define the limits of integration\n",
    "a = 1\n",
    "b = 4\n",
    "\n",
    "# Compute the definite integral\n",
    "definite_integral = integrate(f, (x, a, b))\n",
    "\n",
    "# Display the result\n",
    "print(f\"The definite integral of x^2 from {a} to {b} is: {definite_integral}\")"
   ]
  },
  {
   "cell_type": "markdown",
   "id": "b98a4881",
   "metadata": {},
   "source": [
    "### Basic rule of integration"
   ]
  },
  {
   "cell_type": "markdown",
   "id": "c5c00bc5",
   "metadata": {},
   "source": [
    "#### Power Rule"
   ]
  },
  {
   "cell_type": "code",
   "execution_count": 1,
   "id": "f2121dda",
   "metadata": {},
   "outputs": [
    {
     "name": "stdout",
     "output_type": "stream",
     "text": [
      "The indefinite integral of x^3 is: x**4/4 + C\n"
     ]
    }
   ],
   "source": [
    "from sympy import symbols, integrate\n",
    "\n",
    "# Define the variable\n",
    "x = symbols('x')\n",
    "\n",
    "# Define the function\n",
    "f = x**3\n",
    "\n",
    "# Compute the indefinite integral\n",
    "indefinite_integral = integrate(f, x)\n",
    "\n",
    "# Display the result\n",
    "print(f\"The indefinite integral of x^3 is: {indefinite_integral} + C\")"
   ]
  },
  {
   "cell_type": "markdown",
   "id": "da9b0c6f",
   "metadata": {},
   "source": [
    "#### Constant Rule"
   ]
  },
  {
   "cell_type": "code",
   "execution_count": 2,
   "id": "352b60bc",
   "metadata": {},
   "outputs": [
    {
     "name": "stdout",
     "output_type": "stream",
     "text": [
      "The indefinite integral of 7 is: 7*x + C\n"
     ]
    }
   ],
   "source": [
    "# Define the constant function\n",
    "f = 7\n",
    "\n",
    "# Compute the indefinite integral\n",
    "indefinite_integral = integrate(f, x)\n",
    "\n",
    "# Display the result\n",
    "print(f\"The indefinite integral of 7 is: {indefinite_integral} + C\")"
   ]
  },
  {
   "cell_type": "markdown",
   "id": "7a4ab045",
   "metadata": {},
   "source": [
    "#### Multiplication by Constant Rule"
   ]
  },
  {
   "cell_type": "code",
   "execution_count": 4,
   "id": "275dbc1a",
   "metadata": {},
   "outputs": [
    {
     "name": "stdout",
     "output_type": "stream",
     "text": [
      "The indefinite integral of 3x^2 is: x**3 + C\n"
     ]
    }
   ],
   "source": [
    "# Define the function with a constant multiplier\n",
    "f = 3*x**2\n",
    "\n",
    "# Compute the indefinite integral\n",
    "indefinite_integral = integrate(f, x)\n",
    "\n",
    "# Display the result\n",
    "print(f\"The indefinite integral of 3x^2 is: {indefinite_integral} + C\")"
   ]
  },
  {
   "cell_type": "markdown",
   "id": "3eadb68c",
   "metadata": {},
   "source": [
    "#### Sum Rule"
   ]
  },
  {
   "cell_type": "code",
   "execution_count": 3,
   "id": "bb33b85d",
   "metadata": {},
   "outputs": [
    {
     "name": "stdout",
     "output_type": "stream",
     "text": [
      "The indefinite integral of x^2 + 2x is: x**3/3 + x**2 + C\n"
     ]
    }
   ],
   "source": [
    "# Define the sum function\n",
    "f = x**2 + 2*x\n",
    "\n",
    "# Compute the indefinite integral\n",
    "indefinite_integral = integrate(f, x)\n",
    "\n",
    "# Display the result\n",
    "print(f\"The indefinite integral of x^2 + 2x is: {indefinite_integral} + C\")"
   ]
  },
  {
   "cell_type": "markdown",
   "id": "7aaa057b",
   "metadata": {},
   "source": [
    "#### Difference Rule"
   ]
  },
  {
   "cell_type": "code",
   "execution_count": 5,
   "id": "81993e7f",
   "metadata": {},
   "outputs": [
    {
     "name": "stdout",
     "output_type": "stream",
     "text": [
      "The indefinite integral of x^3 - 4x is: x**4/4 - 2*x**2 + C\n"
     ]
    }
   ],
   "source": [
    "# Define the difference function\n",
    "f = x**3 - 4*x\n",
    "\n",
    "# Compute the indefinite integral\n",
    "indefinite_integral = integrate(f, x)\n",
    "\n",
    "# Display the result\n",
    "print(f\"The indefinite integral of x^3 - 4x is: {indefinite_integral} + C\")"
   ]
  },
  {
   "cell_type": "markdown",
   "id": "9968d7b1",
   "metadata": {},
   "source": [
    "#### Substitution Rule"
   ]
  },
  {
   "cell_type": "code",
   "execution_count": 1,
   "id": "7e1d3db0",
   "metadata": {},
   "outputs": [
    {
     "name": "stdout",
     "output_type": "stream",
     "text": [
      "sin(x**2 + 1)\n"
     ]
    }
   ],
   "source": [
    "from sympy import symbols, cos, integrate, sin\n",
    "\n",
    "# Define the variable\n",
    "x = symbols('x')\n",
    "\n",
    "# Define the function to integrate\n",
    "f = 2 * x * cos(x**2 + 1)\n",
    "\n",
    "# Perform the integration\n",
    "integral = integrate(f, x)\n",
    "\n",
    "print(integral)"
   ]
  },
  {
   "cell_type": "markdown",
   "id": "cc5472b1",
   "metadata": {},
   "source": [
    "#### Exponent Rule"
   ]
  },
  {
   "cell_type": "code",
   "execution_count": 7,
   "id": "f18d4270",
   "metadata": {},
   "outputs": [
    {
     "name": "stdout",
     "output_type": "stream",
     "text": [
      "The indefinite integral of e^x is: exp(x) + C\n"
     ]
    }
   ],
   "source": [
    "from sympy import exp\n",
    "# Define the exponential function\n",
    "f = exp(x)\n",
    "\n",
    "# Compute the indefinite integral\n",
    "indefinite_integral = integrate(f, x)\n",
    "\n",
    "# Display the result\n",
    "print(f\"The indefinite integral of e^x is: {indefinite_integral} + C\")"
   ]
  },
  {
   "cell_type": "code",
   "execution_count": 8,
   "id": "4f1d36d1",
   "metadata": {},
   "outputs": [
    {
     "name": "stdout",
     "output_type": "stream",
     "text": [
      "The indefinite integral of 2^x is: 2**x/log(2) + C\n"
     ]
    }
   ],
   "source": [
    "from sympy import log\n",
    "\n",
    "# Define the exponential function with a general base\n",
    "f = 2**x\n",
    "\n",
    "# Compute the indefinite integral\n",
    "indefinite_integral = integrate(f, x)\n",
    "\n",
    "# Display the result\n",
    "print(f\"The indefinite integral of 2^x is: {indefinite_integral} + C\")"
   ]
  },
  {
   "cell_type": "markdown",
   "id": "581fbf53",
   "metadata": {},
   "source": [
    "#### Trigonometric"
   ]
  },
  {
   "cell_type": "code",
   "execution_count": 2,
   "id": "e5ed9fa1",
   "metadata": {},
   "outputs": [
    {
     "name": "stdout",
     "output_type": "stream",
     "text": [
      "Integral of sin(x) is -cos(x)\n",
      "Integral of cos(x) is sin(x)\n",
      "Integral of sec^2(x) is sin(x)/cos(x)\n",
      "Integral of csc^2(x) is -cos(x)/sin(x)\n",
      "Integral of sec(x) * tan(x) is 1/cos(x)\n",
      "Integral of csc(x) * cot(x) is -1/sin(x)\n",
      "Integral of tan(x) is -log(cos(x))\n",
      "Integral of cot(x) is log(sin(x))\n"
     ]
    }
   ],
   "source": [
    "from sympy import symbols, integrate, sin, cos, tan, sec, csc, cot, ln\n",
    "\n",
    "# Define the variable\n",
    "x = symbols('x')\n",
    "\n",
    "# List of trigonometric functions and their integrals\n",
    "functions = {\n",
    "    \"sin(x)\": integrate(sin(x), x),\n",
    "    \"cos(x)\": integrate(cos(x), x),\n",
    "    \"sec^2(x)\": integrate(sec(x)**2, x),\n",
    "    \"csc^2(x)\": integrate(csc(x)**2, x),\n",
    "    \"sec(x) * tan(x)\": integrate(sec(x) * tan(x), x),\n",
    "    \"csc(x) * cot(x)\": integrate(csc(x) * cot(x), x),\n",
    "    \"tan(x)\": integrate(tan(x), x),\n",
    "    \"cot(x)\": integrate(cot(x), x)\n",
    "}\n",
    "\n",
    "# Display the results\n",
    "for func, integral in functions.items():\n",
    "    print(f\"Integral of {func} is {integral}\")"
   ]
  },
  {
   "cell_type": "markdown",
   "id": "f600aa5b",
   "metadata": {},
   "source": [
    "#### Additivity Chrs"
   ]
  },
  {
   "cell_type": "code",
   "execution_count": 1,
   "id": "7c1708b5",
   "metadata": {},
   "outputs": [
    {
     "name": "stdout",
     "output_type": "stream",
     "text": [
      "Integral of x from 1 to 3: 4\n",
      "Integral of x from 1 to 2: 3/2\n",
      "Integral of x from 2 to 3: 5/2\n",
      "Sum of integrals from 1 to 2 and 2 to 3: 4\n"
     ]
    }
   ],
   "source": [
    "from sympy import symbols, integrate\n",
    "\n",
    "# Define the variable\n",
    "x = symbols('x')\n",
    "\n",
    "# Define the function\n",
    "f = x\n",
    "\n",
    "# Compute the integral over [1, 3] directly\n",
    "integral_whole = integrate(f, (x, 1, 3))\n",
    "\n",
    "# Compute the integral over [1, 2]\n",
    "integral_1_to_2 = integrate(f, (x, 1, 2))\n",
    "\n",
    "# Compute the integral over [2, 3]\n",
    "integral_2_to_3 = integrate(f, (x, 2, 3))\n",
    "\n",
    "# Add the results of the two intervals\n",
    "integral_sum = integral_1_to_2 + integral_2_to_3\n",
    "\n",
    "# Display the results\n",
    "print(f\"Integral of x from 1 to 3: {integral_whole}\")\n",
    "print(f\"Integral of x from 1 to 2: {integral_1_to_2}\")\n",
    "print(f\"Integral of x from 2 to 3: {integral_2_to_3}\")\n",
    "print(f\"Sum of integrals from 1 to 2 and 2 to 3: {integral_sum}\")"
   ]
  }
 ],
 "metadata": {
  "kernelspec": {
   "display_name": "Python 3 (ipykernel)",
   "language": "python",
   "name": "python3"
  },
  "language_info": {
   "codemirror_mode": {
    "name": "ipython",
    "version": 3
   },
   "file_extension": ".py",
   "mimetype": "text/x-python",
   "name": "python",
   "nbconvert_exporter": "python",
   "pygments_lexer": "ipython3",
   "version": "3.11.5"
  }
 },
 "nbformat": 4,
 "nbformat_minor": 5
}
