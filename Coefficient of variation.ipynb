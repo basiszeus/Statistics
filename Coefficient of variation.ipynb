{
 "cells": [
  {
   "cell_type": "markdown",
   "id": "7c2fd373",
   "metadata": {},
   "source": [
    "<center><h1 style=\"background-color: #C6F3CD; border-radius: 10px; color: #FFFFFF; padding: 5px;\">\n",
    "Coefficient of variation\n",
    "</h1><center/>"
   ]
  },
  {
   "cell_type": "markdown",
   "id": "bdfa8b4c",
   "metadata": {},
   "source": [
    "**Link to the article** : https://medium.com/@soulawalid/data-science-coefficient-of-variation-6e856f3931d3?sk=b50853aeab69c8ea637e318c56151755"
   ]
  },
  {
   "cell_type": "code",
   "execution_count": 8,
   "id": "5348144c",
   "metadata": {},
   "outputs": [
    {
     "name": "stdout",
     "output_type": "stream",
     "text": [
      "                      Statistic  Price in $    Price in DA\n",
      "0                          Mean   12.000000    1920.000000\n",
      "1                      Variance    4.000000  102400.000000\n",
      "2            Standard Deviation    2.000000     320.000000\n",
      "3  Coefficient of Variation (%)   16.666667      16.666667\n",
      "      Price in $  Price in DA\n",
      "Shop                         \n",
      "1             10         1600\n",
      "2             12         1920\n",
      "3             14         2240\n"
     ]
    }
   ],
   "source": [
    "import pandas as pd\n",
    "import numpy as np\n",
    "\n",
    "# Data\n",
    "data = {\n",
    "    'Shop': ['1', '2', '3'],\n",
    "    'Price in $': [10, 12, 14],\n",
    "    'Price in DA': [1600, 1920, 2240]\n",
    "}\n",
    "\n",
    "# Creating DataFrame\n",
    "df = pd.DataFrame(data)\n",
    "\n",
    "# Calculating Descriptive Statistics\n",
    "mean_usd = df['Price in $'].mean()\n",
    "mean_dzd = df['Price in DA'].mean()\n",
    "\n",
    "var_usd = df['Price in $'].var()\n",
    "var_dzd = df['Price in DA'].var()\n",
    "\n",
    "std_usd = df['Price in $'].std()\n",
    "std_dzd = df['Price in DA'].std()\n",
    "\n",
    "cv_usd = (std_usd / mean_usd) * 100\n",
    "cv_dzd = (std_dzd / mean_dzd) * 100\n",
    "\n",
    "# Creating a new DataFrame for the results\n",
    "results = {\n",
    "    'Statistic': ['Mean', 'Variance', 'Standard Deviation', 'Coefficient of Variation (%)'],\n",
    "    'Price in $': [mean_usd, var_usd, std_usd, cv_usd],\n",
    "    'Price in DA': [mean_dzd, var_dzd, std_dzd, cv_dzd]\n",
    "}\n",
    "\n",
    "results_df = pd.DataFrame(results)\n",
    "\n",
    "print(results_df)\n",
    "\n",
    "# Output the DataFrame\n",
    "df.set_index('Shop', inplace=True)\n",
    "print(df)"
   ]
  }
 ],
 "metadata": {
  "kernelspec": {
   "display_name": "Python 3 (ipykernel)",
   "language": "python",
   "name": "python3"
  },
  "language_info": {
   "codemirror_mode": {
    "name": "ipython",
    "version": 3
   },
   "file_extension": ".py",
   "mimetype": "text/x-python",
   "name": "python",
   "nbconvert_exporter": "python",
   "pygments_lexer": "ipython3",
   "version": "3.11.5"
  }
 },
 "nbformat": 4,
 "nbformat_minor": 5
}
