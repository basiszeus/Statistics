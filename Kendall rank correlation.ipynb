{
 "cells": [
  {
   "cell_type": "markdown",
   "id": "76f29f1c",
   "metadata": {},
   "source": [
    "<center><h1> Kendall rank correlation <h1/><center>"
   ]
  },
  {
   "cell_type": "markdown",
   "id": "290ae7b7",
   "metadata": {},
   "source": [
    "Link to the article : https://medium.com/kinomoto-mag/data-science-kendall-rank-correlation-fbbd901d70c8"
   ]
  },
  {
   "cell_type": "markdown",
   "id": "a2597419",
   "metadata": {},
   "source": [
    "## 1 - Kendall's tau"
   ]
  },
  {
   "cell_type": "code",
   "execution_count": 1,
   "id": "00787d8d",
   "metadata": {},
   "outputs": [
    {
     "data": {
      "text/plain": [
       "SignificanceResult(statistic=-0.3333333333333334, pvalue=0.75)"
      ]
     },
     "execution_count": 1,
     "metadata": {},
     "output_type": "execute_result"
    }
   ],
   "source": [
    "import pandas as pd\n",
    "import scipy.stats as st\n",
    "t = {'X': [6,8,5,2], 'Y': [8,4,9,6]}\n",
    "\n",
    "st.kendalltau(t['X'],t['Y'])"
   ]
  },
  {
   "cell_type": "markdown",
   "id": "91b328b9",
   "metadata": {},
   "source": [
    "## 2 - Kendall's tau-b or Kendall's tau-b "
   ]
  },
  {
   "cell_type": "code",
   "execution_count": 2,
   "id": "3cfc5174",
   "metadata": {},
   "outputs": [],
   "source": [
    "#Just add the variant \"b\" or \"c\"\n",
    "\n",
    "# Example : tau_b, pvalue = kendalltau(X, Y, variant='b')"
   ]
  },
  {
   "cell_type": "code",
   "execution_count": null,
   "id": "2cc1b4d5",
   "metadata": {},
   "outputs": [],
   "source": []
  }
 ],
 "metadata": {
  "kernelspec": {
   "display_name": "Python 3 (ipykernel)",
   "language": "python",
   "name": "python3"
  },
  "language_info": {
   "codemirror_mode": {
    "name": "ipython",
    "version": 3
   },
   "file_extension": ".py",
   "mimetype": "text/x-python",
   "name": "python",
   "nbconvert_exporter": "python",
   "pygments_lexer": "ipython3",
   "version": "3.11.5"
  }
 },
 "nbformat": 4,
 "nbformat_minor": 5
}
